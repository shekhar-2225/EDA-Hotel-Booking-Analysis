{
  "nbformat": 4,
  "nbformat_minor": 0,
  "metadata": {
    "colab": {
      "provenance": [],
      "collapsed_sections": [
        "7hBIi_osiCS2",
        "JlHwYmJAmNHm",
        "35m5QtbWiB9F",
        "PoPl-ycgm1ru",
        "H0kj-8xxnORC",
        "nA9Y7ga8ng1Z",
        "PBTbrJXOngz2",
        "u3PMJOP6ngxN",
        "dauF4eBmngu3",
        "bKJF3rekwFvQ",
        "MSa1f5Uengrz",
        "GF8Ens_Soomf",
        "0wOQAZs5pc--",
        "K5QZ13OEpz2H",
        "lQ7QKXXCp7Bj",
        "448CDAPjqfQr",
        "KSlN3yHqYklG",
        "t6dVpIINYklI",
        "ijmpgYnKYklI",
        "-JiQyfWJYklI",
        "EM7whBJCYoAo",
        "fge-S5ZAYoAp",
        "85gYPyotYoAp",
        "RoGjAbkUYoAp",
        "4Of9eVA-YrdM",
        "iky9q4vBYrdO",
        "F6T5p64dYrdO",
        "y-Ehk30pYrdP",
        "bamQiAODYuh1",
        "QHF8YVU7Yuh3",
        "GwzvFGzlYuh3",
        "qYpmQ266Yuh3",
        "OH-pJp9IphqM",
        "bbFf2-_FphqN",
        "_ouA3fa0phqN",
        "Seke61FWphqN",
        "PIIx-8_IphqN",
        "t27r6nlMphqO",
        "r2jJGEOYphqO",
        "b0JNsNcRphqO",
        "BZR9WyysphqO",
        "jj7wYXLtphqO",
        "eZrbJ2SmphqO",
        "rFu4xreNphqO",
        "YJ55k-q6phqO",
        "gCFgpxoyphqP",
        "OVtJsKN_phqQ",
        "lssrdh5qphqQ",
        "U2RJ9gkRphqQ",
        "1M8mcRywphqQ",
        "tgIPom80phqQ",
        "JMzcOPDDphqR",
        "JcMwzZxoAimU",
        "8G2x9gOozGDZ",
        "gIfDvo9L0UH2"
      ],
      "include_colab_link": true
    },
    "kernelspec": {
      "name": "python3",
      "display_name": "Python 3"
    },
    "language_info": {
      "name": "python"
    },
    "gpuClass": "standard"
  },
  "cells": [
    {
      "cell_type": "markdown",
      "metadata": {
        "id": "view-in-github",
        "colab_type": "text"
      },
      "source": [
        "<a href=\"https://colab.research.google.com/github/shekhar-2225/EDA-Hotel-Booking-Analysis/blob/main/EDA_Hotel_Booking_Analysis.ipynb\" target=\"_parent\"><img src=\"https://colab.research.google.com/assets/colab-badge.svg\" alt=\"Open In Colab\"/></a>"
      ]
    },
    {
      "cell_type": "markdown",
      "source": [
        "# **Project Name**    - \n",
        "\n"
      ],
      "metadata": {
        "id": "vncDsAP0Gaoa"
      }
    },
    {
      "cell_type": "markdown",
      "source": [
        "##### **Project Type**    - EDA\n",
        "##### **Contribution**    - Individual\n",
        "##### **Team Member 1 -** Mr. Chander Shekhar Pandey\n"
      ],
      "metadata": {
        "id": "beRrZCGUAJYm"
      }
    },
    {
      "cell_type": "markdown",
      "source": [
        "# **Project Summary -**"
      ],
      "metadata": {
        "id": "FJNUwmbgGyua"
      }
    },
    {
      "cell_type": "markdown",
      "source": [
        "Hotel Bookings Analysis project consists with the real - world data record of hotel bookings of a city hotel and a resort hotel for the period 2015 - 2017 respectively. The project data record consists of information such as type of hotel booked, average daily rate, booking details, arrival date, length of the stay, the number of adults, children, and / or babies booked, customer country, meal preferences, type of the customer, parking space details, reservation status, channels used for booking, booking cancellation details, booking lead time details, among other details. Data analysis and data visualization will be performed using Python libraries.\n",
        "\n",
        "I started the Hotel Bookings Analysis project to analyse the data and explore the key factors that govern the hotel bookings. In this project, I have downloaded the given dataset of hotel bookings (CSV file) to use it as a pandas dataframe using pandas library. I have came to know more details about the datset by using df.info() method. I have checked the number of data types in the dataset using value_counts() method. If any column of the dataset has highest missing values, the respective coulmn should be removed using drop() method. I have performed data wrangling using value_counts() method and sort_values method to sort the data accordingly. Fianlly, the Vizualization is done in a structured way while following the \"UBM\" U - Univariate Analysis, B - Bivariate Analysis (Numerical - Categorical, Numerical - Numerical, Categorical - Categorical)"
      ],
      "metadata": {
        "id": "Adx14ImPpKG4"
      }
    },
    {
      "cell_type": "markdown",
      "source": [
        "# **GitHub Link -**"
      ],
      "metadata": {
        "id": "w6K7xa23Elo4"
      }
    },
    {
      "cell_type": "markdown",
      "source": [
        "https://github.com/shekhar-2225/EDA-Hotel-Booking-Analysis"
      ],
      "metadata": {
        "id": "h1o69JH3Eqqn"
      }
    },
    {
      "cell_type": "markdown",
      "source": [
        "# **Problem Statement**\n"
      ],
      "metadata": {
        "id": "yQaldy8SH6Dl"
      }
    },
    {
      "cell_type": "markdown",
      "source": [
        "This data set contains booking information for a city hotel and a resort hotel and includes information such as when the booking was made, length of stay, the number of adults, children, and/or babies, and the number of available parking spaces, among other things. We need to find out the some insites which help to stake holders"
      ],
      "metadata": {
        "id": "DpeJGUA3kjGy"
      }
    },
    {
      "cell_type": "markdown",
      "source": [
        "#### **Define Your Business Objective?**"
      ],
      "metadata": {
        "id": "PH-0ReGfmX4f"
      }
    },
    {
      "cell_type": "markdown",
      "source": [
        "The main aim of this project is to explore the key factors driving the hotel bookings such as :\n",
        "\n",
        "1. To identify the best time to book a hotel \n",
        "2. To identify most common customer type\n",
        "3. To find the most preferred length of stay in each hotel\n",
        "4. To understand the peak season\n",
        "5. To know the meal preferences\n",
        "6. Identify which hotel has highest bookings cancellation \n",
        "7. find which country customers have highest bookings\n",
        "9. Study the relation between ADR and length of stay\n",
        "10. Most prepered Distrubution chanel for bookings.\n",
        "11. which is most preffered room by customers."
      ],
      "metadata": {
        "id": "PhDvGCAqmjP1"
      }
    },
    {
      "cell_type": "markdown",
      "source": [
        "# **General Guidelines** : -  "
      ],
      "metadata": {
        "id": "mDgbUHAGgjLW"
      }
    },
    {
      "cell_type": "markdown",
      "source": [
        "1.   Well-structured, formatted, and commented code is required. \n",
        "2.   Exception Handling, Production Grade Code & Deployment Ready Code will be a plus. Those students will be awarded some additional credits. \n",
        "     \n",
        "     The additional credits will have advantages over other students during Star Student selection.\n",
        "       \n",
        "             [ Note: - Deployment Ready Code is defined as, the whole .ipynb notebook should be executable in one go\n",
        "                       without a single error logged. ]\n",
        "\n",
        "3.   Each and every logic should have proper comments.\n",
        "4. You may add as many number of charts you want. Make Sure for each and every chart the following format should be answered.\n",
        "        \n",
        "\n",
        "```\n",
        "# Chart visualization code\n",
        "```\n",
        "            \n",
        "\n",
        "*   Why did you pick the specific chart?\n",
        "*   What is/are the insight(s) found from the chart?\n",
        "* Will the gained insights help creating a positive business impact? \n",
        "Are there any insights that lead to negative growth? Justify with specific reason.\n",
        "\n",
        "5. You have to create at least 20 logical & meaningful charts having important insights.\n",
        "\n",
        "\n",
        "[ Hints : - Do the Vizualization in  a structured way while following \"UBM\" Rule. \n",
        "\n",
        "U - Univariate Analysis,\n",
        "\n",
        "B - Bivariate Analysis (Numerical - Categorical, Numerical - Numerical, Categorical - Categorical)\n",
        "\n",
        "M - Multivariate Analysis\n",
        " ]\n",
        "\n",
        "\n",
        "\n"
      ],
      "metadata": {
        "id": "ZrxVaUj-hHfC"
      }
    },
    {
      "cell_type": "markdown",
      "source": [
        "# ***Let's Begin !***"
      ],
      "metadata": {
        "id": "O_i_v8NEhb9l"
      }
    },
    {
      "cell_type": "markdown",
      "source": [
        "## ***1. Know Your Data***"
      ],
      "metadata": {
        "id": "HhfV-JJviCcP"
      }
    },
    {
      "cell_type": "markdown",
      "source": [
        "### Import Libraries"
      ],
      "metadata": {
        "id": "Y3lxredqlCYt"
      }
    },
    {
      "cell_type": "code",
      "source": [
        "# Import Libraries\n",
        "# Import Libraries\n",
        "import numpy as np\n",
        "import pandas as pd\n",
        "import matplotlib\n",
        "import matplotlib.pyplot as plt\n",
        "%matplotlib inline\n",
        "import seaborn as sns"
      ],
      "metadata": {
        "id": "M8Vqi-pPk-HR"
      },
      "execution_count": null,
      "outputs": []
    },
    {
      "cell_type": "markdown",
      "source": [
        "### Dataset Loading"
      ],
      "metadata": {
        "id": "3RnN4peoiCZX"
      }
    },
    {
      "cell_type": "code",
      "source": [
        "# Load Dataset\n",
        "from google.colab import drive\n",
        "drive.mount('/content/drive')"
      ],
      "metadata": {
        "id": "4CkvbW_SlZ_R",
        "colab": {
          "base_uri": "https://localhost:8080/"
        },
        "outputId": "900ba003-ec99-4f05-ba68-347ac2c3d4d2"
      },
      "execution_count": null,
      "outputs": [
        {
          "output_type": "stream",
          "name": "stdout",
          "text": [
            "Mounted at /content/drive\n"
          ]
        }
      ]
    },
    {
      "cell_type": "markdown",
      "source": [
        "### Dataset First View"
      ],
      "metadata": {
        "id": "x71ZqKXriCWQ"
      }
    },
    {
      "cell_type": "code",
      "source": [
        "# Dataset First Look\n",
        "data_type ='/content/Hotel Bookings.csv'\n",
        "df = pd.read_csv(data_type)     "
      ],
      "metadata": {
        "id": "LWNFOSvLl09H"
      },
      "execution_count": null,
      "outputs": []
    },
    {
      "cell_type": "markdown",
      "source": [
        "### Dataset Rows & Columns count"
      ],
      "metadata": {
        "id": "7hBIi_osiCS2"
      }
    },
    {
      "cell_type": "code",
      "source": [
        "# Dataset Rows & Columns count\n",
        "df.head()"
      ],
      "metadata": {
        "id": "Kllu7SJgmLij",
        "colab": {
          "base_uri": "https://localhost:8080/",
          "height": 873
        },
        "outputId": "4cae22ad-46b6-40b0-b3e6-60410af2b45c"
      },
      "execution_count": null,
      "outputs": [
        {
          "output_type": "execute_result",
          "data": {
            "text/plain": [
              "           hotel  is_canceled  lead_time  arrival_date_year  \\\n",
              "0   Resort Hotel            0        342               2015   \n",
              "1   Resort Hotel            0        737               2015   \n",
              "2   Resort Hotel            0          7               2015   \n",
              "3   Resort Hotel            0         13               2015   \n",
              "4   Resort Hotel            0         14               2015   \n",
              "5   Resort Hotel            0         14               2015   \n",
              "6   Resort Hotel            0          0               2015   \n",
              "7   Resort Hotel            0          9               2015   \n",
              "8   Resort Hotel            1         85               2015   \n",
              "9   Resort Hotel            1         75               2015   \n",
              "10  Resort Hotel            1         23               2015   \n",
              "11  Resort Hotel            0         35               2015   \n",
              "12  Resort Hotel            0         68               2015   \n",
              "13  Resort Hotel            0         18               2015   \n",
              "14  Resort Hotel            0         37               2015   \n",
              "\n",
              "   arrival_date_month  arrival_date_week_number  arrival_date_day_of_month  \\\n",
              "0                July                        27                          1   \n",
              "1                July                        27                          1   \n",
              "2                July                        27                          1   \n",
              "3                July                        27                          1   \n",
              "4                July                        27                          1   \n",
              "5                July                        27                          1   \n",
              "6                July                        27                          1   \n",
              "7                July                        27                          1   \n",
              "8                July                        27                          1   \n",
              "9                July                        27                          1   \n",
              "10               July                        27                          1   \n",
              "11               July                        27                          1   \n",
              "12               July                        27                          1   \n",
              "13               July                        27                          1   \n",
              "14               July                        27                          1   \n",
              "\n",
              "    stays_in_weekend_nights  stays_in_week_nights  adults  ...  deposit_type  \\\n",
              "0                         0                     0       2  ...    No Deposit   \n",
              "1                         0                     0       2  ...    No Deposit   \n",
              "2                         0                     1       1  ...    No Deposit   \n",
              "3                         0                     1       1  ...    No Deposit   \n",
              "4                         0                     2       2  ...    No Deposit   \n",
              "5                         0                     2       2  ...    No Deposit   \n",
              "6                         0                     2       2  ...    No Deposit   \n",
              "7                         0                     2       2  ...    No Deposit   \n",
              "8                         0                     3       2  ...    No Deposit   \n",
              "9                         0                     3       2  ...    No Deposit   \n",
              "10                        0                     4       2  ...    No Deposit   \n",
              "11                        0                     4       2  ...    No Deposit   \n",
              "12                        0                     4       2  ...    No Deposit   \n",
              "13                        0                     4       2  ...    No Deposit   \n",
              "14                        0                     4       2  ...    No Deposit   \n",
              "\n",
              "    agent company days_in_waiting_list customer_type     adr  \\\n",
              "0     NaN     NaN                    0     Transient    0.00   \n",
              "1     NaN     NaN                    0     Transient    0.00   \n",
              "2     NaN     NaN                    0     Transient   75.00   \n",
              "3   304.0     NaN                    0     Transient   75.00   \n",
              "4   240.0     NaN                    0     Transient   98.00   \n",
              "5   240.0     NaN                    0     Transient   98.00   \n",
              "6     NaN     NaN                    0     Transient  107.00   \n",
              "7   303.0     NaN                    0     Transient  103.00   \n",
              "8   240.0     NaN                    0     Transient   82.00   \n",
              "9    15.0     NaN                    0     Transient  105.50   \n",
              "10  240.0     NaN                    0     Transient  123.00   \n",
              "11  240.0     NaN                    0     Transient  145.00   \n",
              "12  240.0     NaN                    0     Transient   97.00   \n",
              "13  241.0     NaN                    0     Transient  154.77   \n",
              "14  241.0     NaN                    0     Transient   94.71   \n",
              "\n",
              "    required_car_parking_spaces  total_of_special_requests  \\\n",
              "0                             0                          0   \n",
              "1                             0                          0   \n",
              "2                             0                          0   \n",
              "3                             0                          0   \n",
              "4                             0                          1   \n",
              "5                             0                          1   \n",
              "6                             0                          0   \n",
              "7                             0                          1   \n",
              "8                             0                          1   \n",
              "9                             0                          0   \n",
              "10                            0                          0   \n",
              "11                            0                          0   \n",
              "12                            0                          3   \n",
              "13                            0                          1   \n",
              "14                            0                          0   \n",
              "\n",
              "    reservation_status reservation_status_date  \n",
              "0            Check-Out              2015-07-01  \n",
              "1            Check-Out              2015-07-01  \n",
              "2            Check-Out              2015-07-02  \n",
              "3            Check-Out              2015-07-02  \n",
              "4            Check-Out              2015-07-03  \n",
              "5            Check-Out              2015-07-03  \n",
              "6            Check-Out              2015-07-03  \n",
              "7            Check-Out              2015-07-03  \n",
              "8             Canceled              2015-05-06  \n",
              "9             Canceled              2015-04-22  \n",
              "10            Canceled              2015-06-23  \n",
              "11           Check-Out              2015-07-05  \n",
              "12           Check-Out              2015-07-05  \n",
              "13           Check-Out              2015-07-05  \n",
              "14           Check-Out              2015-07-05  \n",
              "\n",
              "[15 rows x 32 columns]"
            ],
            "text/html": [
              "\n",
              "  <div id=\"df-a2f3c1e9-d29f-4199-a15a-daecdb213669\">\n",
              "    <div class=\"colab-df-container\">\n",
              "      <div>\n",
              "<style scoped>\n",
              "    .dataframe tbody tr th:only-of-type {\n",
              "        vertical-align: middle;\n",
              "    }\n",
              "\n",
              "    .dataframe tbody tr th {\n",
              "        vertical-align: top;\n",
              "    }\n",
              "\n",
              "    .dataframe thead th {\n",
              "        text-align: right;\n",
              "    }\n",
              "</style>\n",
              "<table border=\"1\" class=\"dataframe\">\n",
              "  <thead>\n",
              "    <tr style=\"text-align: right;\">\n",
              "      <th></th>\n",
              "      <th>hotel</th>\n",
              "      <th>is_canceled</th>\n",
              "      <th>lead_time</th>\n",
              "      <th>arrival_date_year</th>\n",
              "      <th>arrival_date_month</th>\n",
              "      <th>arrival_date_week_number</th>\n",
              "      <th>arrival_date_day_of_month</th>\n",
              "      <th>stays_in_weekend_nights</th>\n",
              "      <th>stays_in_week_nights</th>\n",
              "      <th>adults</th>\n",
              "      <th>...</th>\n",
              "      <th>deposit_type</th>\n",
              "      <th>agent</th>\n",
              "      <th>company</th>\n",
              "      <th>days_in_waiting_list</th>\n",
              "      <th>customer_type</th>\n",
              "      <th>adr</th>\n",
              "      <th>required_car_parking_spaces</th>\n",
              "      <th>total_of_special_requests</th>\n",
              "      <th>reservation_status</th>\n",
              "      <th>reservation_status_date</th>\n",
              "    </tr>\n",
              "  </thead>\n",
              "  <tbody>\n",
              "    <tr>\n",
              "      <th>0</th>\n",
              "      <td>Resort Hotel</td>\n",
              "      <td>0</td>\n",
              "      <td>342</td>\n",
              "      <td>2015</td>\n",
              "      <td>July</td>\n",
              "      <td>27</td>\n",
              "      <td>1</td>\n",
              "      <td>0</td>\n",
              "      <td>0</td>\n",
              "      <td>2</td>\n",
              "      <td>...</td>\n",
              "      <td>No Deposit</td>\n",
              "      <td>NaN</td>\n",
              "      <td>NaN</td>\n",
              "      <td>0</td>\n",
              "      <td>Transient</td>\n",
              "      <td>0.00</td>\n",
              "      <td>0</td>\n",
              "      <td>0</td>\n",
              "      <td>Check-Out</td>\n",
              "      <td>2015-07-01</td>\n",
              "    </tr>\n",
              "    <tr>\n",
              "      <th>1</th>\n",
              "      <td>Resort Hotel</td>\n",
              "      <td>0</td>\n",
              "      <td>737</td>\n",
              "      <td>2015</td>\n",
              "      <td>July</td>\n",
              "      <td>27</td>\n",
              "      <td>1</td>\n",
              "      <td>0</td>\n",
              "      <td>0</td>\n",
              "      <td>2</td>\n",
              "      <td>...</td>\n",
              "      <td>No Deposit</td>\n",
              "      <td>NaN</td>\n",
              "      <td>NaN</td>\n",
              "      <td>0</td>\n",
              "      <td>Transient</td>\n",
              "      <td>0.00</td>\n",
              "      <td>0</td>\n",
              "      <td>0</td>\n",
              "      <td>Check-Out</td>\n",
              "      <td>2015-07-01</td>\n",
              "    </tr>\n",
              "    <tr>\n",
              "      <th>2</th>\n",
              "      <td>Resort Hotel</td>\n",
              "      <td>0</td>\n",
              "      <td>7</td>\n",
              "      <td>2015</td>\n",
              "      <td>July</td>\n",
              "      <td>27</td>\n",
              "      <td>1</td>\n",
              "      <td>0</td>\n",
              "      <td>1</td>\n",
              "      <td>1</td>\n",
              "      <td>...</td>\n",
              "      <td>No Deposit</td>\n",
              "      <td>NaN</td>\n",
              "      <td>NaN</td>\n",
              "      <td>0</td>\n",
              "      <td>Transient</td>\n",
              "      <td>75.00</td>\n",
              "      <td>0</td>\n",
              "      <td>0</td>\n",
              "      <td>Check-Out</td>\n",
              "      <td>2015-07-02</td>\n",
              "    </tr>\n",
              "    <tr>\n",
              "      <th>3</th>\n",
              "      <td>Resort Hotel</td>\n",
              "      <td>0</td>\n",
              "      <td>13</td>\n",
              "      <td>2015</td>\n",
              "      <td>July</td>\n",
              "      <td>27</td>\n",
              "      <td>1</td>\n",
              "      <td>0</td>\n",
              "      <td>1</td>\n",
              "      <td>1</td>\n",
              "      <td>...</td>\n",
              "      <td>No Deposit</td>\n",
              "      <td>304.0</td>\n",
              "      <td>NaN</td>\n",
              "      <td>0</td>\n",
              "      <td>Transient</td>\n",
              "      <td>75.00</td>\n",
              "      <td>0</td>\n",
              "      <td>0</td>\n",
              "      <td>Check-Out</td>\n",
              "      <td>2015-07-02</td>\n",
              "    </tr>\n",
              "    <tr>\n",
              "      <th>4</th>\n",
              "      <td>Resort Hotel</td>\n",
              "      <td>0</td>\n",
              "      <td>14</td>\n",
              "      <td>2015</td>\n",
              "      <td>July</td>\n",
              "      <td>27</td>\n",
              "      <td>1</td>\n",
              "      <td>0</td>\n",
              "      <td>2</td>\n",
              "      <td>2</td>\n",
              "      <td>...</td>\n",
              "      <td>No Deposit</td>\n",
              "      <td>240.0</td>\n",
              "      <td>NaN</td>\n",
              "      <td>0</td>\n",
              "      <td>Transient</td>\n",
              "      <td>98.00</td>\n",
              "      <td>0</td>\n",
              "      <td>1</td>\n",
              "      <td>Check-Out</td>\n",
              "      <td>2015-07-03</td>\n",
              "    </tr>\n",
              "    <tr>\n",
              "      <th>5</th>\n",
              "      <td>Resort Hotel</td>\n",
              "      <td>0</td>\n",
              "      <td>14</td>\n",
              "      <td>2015</td>\n",
              "      <td>July</td>\n",
              "      <td>27</td>\n",
              "      <td>1</td>\n",
              "      <td>0</td>\n",
              "      <td>2</td>\n",
              "      <td>2</td>\n",
              "      <td>...</td>\n",
              "      <td>No Deposit</td>\n",
              "      <td>240.0</td>\n",
              "      <td>NaN</td>\n",
              "      <td>0</td>\n",
              "      <td>Transient</td>\n",
              "      <td>98.00</td>\n",
              "      <td>0</td>\n",
              "      <td>1</td>\n",
              "      <td>Check-Out</td>\n",
              "      <td>2015-07-03</td>\n",
              "    </tr>\n",
              "    <tr>\n",
              "      <th>6</th>\n",
              "      <td>Resort Hotel</td>\n",
              "      <td>0</td>\n",
              "      <td>0</td>\n",
              "      <td>2015</td>\n",
              "      <td>July</td>\n",
              "      <td>27</td>\n",
              "      <td>1</td>\n",
              "      <td>0</td>\n",
              "      <td>2</td>\n",
              "      <td>2</td>\n",
              "      <td>...</td>\n",
              "      <td>No Deposit</td>\n",
              "      <td>NaN</td>\n",
              "      <td>NaN</td>\n",
              "      <td>0</td>\n",
              "      <td>Transient</td>\n",
              "      <td>107.00</td>\n",
              "      <td>0</td>\n",
              "      <td>0</td>\n",
              "      <td>Check-Out</td>\n",
              "      <td>2015-07-03</td>\n",
              "    </tr>\n",
              "    <tr>\n",
              "      <th>7</th>\n",
              "      <td>Resort Hotel</td>\n",
              "      <td>0</td>\n",
              "      <td>9</td>\n",
              "      <td>2015</td>\n",
              "      <td>July</td>\n",
              "      <td>27</td>\n",
              "      <td>1</td>\n",
              "      <td>0</td>\n",
              "      <td>2</td>\n",
              "      <td>2</td>\n",
              "      <td>...</td>\n",
              "      <td>No Deposit</td>\n",
              "      <td>303.0</td>\n",
              "      <td>NaN</td>\n",
              "      <td>0</td>\n",
              "      <td>Transient</td>\n",
              "      <td>103.00</td>\n",
              "      <td>0</td>\n",
              "      <td>1</td>\n",
              "      <td>Check-Out</td>\n",
              "      <td>2015-07-03</td>\n",
              "    </tr>\n",
              "    <tr>\n",
              "      <th>8</th>\n",
              "      <td>Resort Hotel</td>\n",
              "      <td>1</td>\n",
              "      <td>85</td>\n",
              "      <td>2015</td>\n",
              "      <td>July</td>\n",
              "      <td>27</td>\n",
              "      <td>1</td>\n",
              "      <td>0</td>\n",
              "      <td>3</td>\n",
              "      <td>2</td>\n",
              "      <td>...</td>\n",
              "      <td>No Deposit</td>\n",
              "      <td>240.0</td>\n",
              "      <td>NaN</td>\n",
              "      <td>0</td>\n",
              "      <td>Transient</td>\n",
              "      <td>82.00</td>\n",
              "      <td>0</td>\n",
              "      <td>1</td>\n",
              "      <td>Canceled</td>\n",
              "      <td>2015-05-06</td>\n",
              "    </tr>\n",
              "    <tr>\n",
              "      <th>9</th>\n",
              "      <td>Resort Hotel</td>\n",
              "      <td>1</td>\n",
              "      <td>75</td>\n",
              "      <td>2015</td>\n",
              "      <td>July</td>\n",
              "      <td>27</td>\n",
              "      <td>1</td>\n",
              "      <td>0</td>\n",
              "      <td>3</td>\n",
              "      <td>2</td>\n",
              "      <td>...</td>\n",
              "      <td>No Deposit</td>\n",
              "      <td>15.0</td>\n",
              "      <td>NaN</td>\n",
              "      <td>0</td>\n",
              "      <td>Transient</td>\n",
              "      <td>105.50</td>\n",
              "      <td>0</td>\n",
              "      <td>0</td>\n",
              "      <td>Canceled</td>\n",
              "      <td>2015-04-22</td>\n",
              "    </tr>\n",
              "    <tr>\n",
              "      <th>10</th>\n",
              "      <td>Resort Hotel</td>\n",
              "      <td>1</td>\n",
              "      <td>23</td>\n",
              "      <td>2015</td>\n",
              "      <td>July</td>\n",
              "      <td>27</td>\n",
              "      <td>1</td>\n",
              "      <td>0</td>\n",
              "      <td>4</td>\n",
              "      <td>2</td>\n",
              "      <td>...</td>\n",
              "      <td>No Deposit</td>\n",
              "      <td>240.0</td>\n",
              "      <td>NaN</td>\n",
              "      <td>0</td>\n",
              "      <td>Transient</td>\n",
              "      <td>123.00</td>\n",
              "      <td>0</td>\n",
              "      <td>0</td>\n",
              "      <td>Canceled</td>\n",
              "      <td>2015-06-23</td>\n",
              "    </tr>\n",
              "    <tr>\n",
              "      <th>11</th>\n",
              "      <td>Resort Hotel</td>\n",
              "      <td>0</td>\n",
              "      <td>35</td>\n",
              "      <td>2015</td>\n",
              "      <td>July</td>\n",
              "      <td>27</td>\n",
              "      <td>1</td>\n",
              "      <td>0</td>\n",
              "      <td>4</td>\n",
              "      <td>2</td>\n",
              "      <td>...</td>\n",
              "      <td>No Deposit</td>\n",
              "      <td>240.0</td>\n",
              "      <td>NaN</td>\n",
              "      <td>0</td>\n",
              "      <td>Transient</td>\n",
              "      <td>145.00</td>\n",
              "      <td>0</td>\n",
              "      <td>0</td>\n",
              "      <td>Check-Out</td>\n",
              "      <td>2015-07-05</td>\n",
              "    </tr>\n",
              "    <tr>\n",
              "      <th>12</th>\n",
              "      <td>Resort Hotel</td>\n",
              "      <td>0</td>\n",
              "      <td>68</td>\n",
              "      <td>2015</td>\n",
              "      <td>July</td>\n",
              "      <td>27</td>\n",
              "      <td>1</td>\n",
              "      <td>0</td>\n",
              "      <td>4</td>\n",
              "      <td>2</td>\n",
              "      <td>...</td>\n",
              "      <td>No Deposit</td>\n",
              "      <td>240.0</td>\n",
              "      <td>NaN</td>\n",
              "      <td>0</td>\n",
              "      <td>Transient</td>\n",
              "      <td>97.00</td>\n",
              "      <td>0</td>\n",
              "      <td>3</td>\n",
              "      <td>Check-Out</td>\n",
              "      <td>2015-07-05</td>\n",
              "    </tr>\n",
              "    <tr>\n",
              "      <th>13</th>\n",
              "      <td>Resort Hotel</td>\n",
              "      <td>0</td>\n",
              "      <td>18</td>\n",
              "      <td>2015</td>\n",
              "      <td>July</td>\n",
              "      <td>27</td>\n",
              "      <td>1</td>\n",
              "      <td>0</td>\n",
              "      <td>4</td>\n",
              "      <td>2</td>\n",
              "      <td>...</td>\n",
              "      <td>No Deposit</td>\n",
              "      <td>241.0</td>\n",
              "      <td>NaN</td>\n",
              "      <td>0</td>\n",
              "      <td>Transient</td>\n",
              "      <td>154.77</td>\n",
              "      <td>0</td>\n",
              "      <td>1</td>\n",
              "      <td>Check-Out</td>\n",
              "      <td>2015-07-05</td>\n",
              "    </tr>\n",
              "    <tr>\n",
              "      <th>14</th>\n",
              "      <td>Resort Hotel</td>\n",
              "      <td>0</td>\n",
              "      <td>37</td>\n",
              "      <td>2015</td>\n",
              "      <td>July</td>\n",
              "      <td>27</td>\n",
              "      <td>1</td>\n",
              "      <td>0</td>\n",
              "      <td>4</td>\n",
              "      <td>2</td>\n",
              "      <td>...</td>\n",
              "      <td>No Deposit</td>\n",
              "      <td>241.0</td>\n",
              "      <td>NaN</td>\n",
              "      <td>0</td>\n",
              "      <td>Transient</td>\n",
              "      <td>94.71</td>\n",
              "      <td>0</td>\n",
              "      <td>0</td>\n",
              "      <td>Check-Out</td>\n",
              "      <td>2015-07-05</td>\n",
              "    </tr>\n",
              "  </tbody>\n",
              "</table>\n",
              "<p>15 rows × 32 columns</p>\n",
              "</div>\n",
              "      <button class=\"colab-df-convert\" onclick=\"convertToInteractive('df-a2f3c1e9-d29f-4199-a15a-daecdb213669')\"\n",
              "              title=\"Convert this dataframe to an interactive table.\"\n",
              "              style=\"display:none;\">\n",
              "        \n",
              "  <svg xmlns=\"http://www.w3.org/2000/svg\" height=\"24px\"viewBox=\"0 0 24 24\"\n",
              "       width=\"24px\">\n",
              "    <path d=\"M0 0h24v24H0V0z\" fill=\"none\"/>\n",
              "    <path d=\"M18.56 5.44l.94 2.06.94-2.06 2.06-.94-2.06-.94-.94-2.06-.94 2.06-2.06.94zm-11 1L8.5 8.5l.94-2.06 2.06-.94-2.06-.94L8.5 2.5l-.94 2.06-2.06.94zm10 10l.94 2.06.94-2.06 2.06-.94-2.06-.94-.94-2.06-.94 2.06-2.06.94z\"/><path d=\"M17.41 7.96l-1.37-1.37c-.4-.4-.92-.59-1.43-.59-.52 0-1.04.2-1.43.59L10.3 9.45l-7.72 7.72c-.78.78-.78 2.05 0 2.83L4 21.41c.39.39.9.59 1.41.59.51 0 1.02-.2 1.41-.59l7.78-7.78 2.81-2.81c.8-.78.8-2.07 0-2.86zM5.41 20L4 18.59l7.72-7.72 1.47 1.35L5.41 20z\"/>\n",
              "  </svg>\n",
              "      </button>\n",
              "      \n",
              "  <style>\n",
              "    .colab-df-container {\n",
              "      display:flex;\n",
              "      flex-wrap:wrap;\n",
              "      gap: 12px;\n",
              "    }\n",
              "\n",
              "    .colab-df-convert {\n",
              "      background-color: #E8F0FE;\n",
              "      border: none;\n",
              "      border-radius: 50%;\n",
              "      cursor: pointer;\n",
              "      display: none;\n",
              "      fill: #1967D2;\n",
              "      height: 32px;\n",
              "      padding: 0 0 0 0;\n",
              "      width: 32px;\n",
              "    }\n",
              "\n",
              "    .colab-df-convert:hover {\n",
              "      background-color: #E2EBFA;\n",
              "      box-shadow: 0px 1px 2px rgba(60, 64, 67, 0.3), 0px 1px 3px 1px rgba(60, 64, 67, 0.15);\n",
              "      fill: #174EA6;\n",
              "    }\n",
              "\n",
              "    [theme=dark] .colab-df-convert {\n",
              "      background-color: #3B4455;\n",
              "      fill: #D2E3FC;\n",
              "    }\n",
              "\n",
              "    [theme=dark] .colab-df-convert:hover {\n",
              "      background-color: #434B5C;\n",
              "      box-shadow: 0px 1px 3px 1px rgba(0, 0, 0, 0.15);\n",
              "      filter: drop-shadow(0px 1px 2px rgba(0, 0, 0, 0.3));\n",
              "      fill: #FFFFFF;\n",
              "    }\n",
              "  </style>\n",
              "\n",
              "      <script>\n",
              "        const buttonEl =\n",
              "          document.querySelector('#df-a2f3c1e9-d29f-4199-a15a-daecdb213669 button.colab-df-convert');\n",
              "        buttonEl.style.display =\n",
              "          google.colab.kernel.accessAllowed ? 'block' : 'none';\n",
              "\n",
              "        async function convertToInteractive(key) {\n",
              "          const element = document.querySelector('#df-a2f3c1e9-d29f-4199-a15a-daecdb213669');\n",
              "          const dataTable =\n",
              "            await google.colab.kernel.invokeFunction('convertToInteractive',\n",
              "                                                     [key], {});\n",
              "          if (!dataTable) return;\n",
              "\n",
              "          const docLinkHtml = 'Like what you see? Visit the ' +\n",
              "            '<a target=\"_blank\" href=https://colab.research.google.com/notebooks/data_table.ipynb>data table notebook</a>'\n",
              "            + ' to learn more about interactive tables.';\n",
              "          element.innerHTML = '';\n",
              "          dataTable['output_type'] = 'display_data';\n",
              "          await google.colab.output.renderOutput(dataTable, element);\n",
              "          const docLink = document.createElement('div');\n",
              "          docLink.innerHTML = docLinkHtml;\n",
              "          element.appendChild(docLink);\n",
              "        }\n",
              "      </script>\n",
              "    </div>\n",
              "  </div>\n",
              "  "
            ]
          },
          "metadata": {},
          "execution_count": 7
        }
      ]
    },
    {
      "cell_type": "markdown",
      "source": [
        "### Dataset Information"
      ],
      "metadata": {
        "id": "JlHwYmJAmNHm"
      }
    },
    {
      "cell_type": "code",
      "source": [
        "df.shape"
      ],
      "metadata": {
        "colab": {
          "base_uri": "https://localhost:8080/"
        },
        "id": "BHQb5K4TDZEt",
        "outputId": "731a0ae8-c546-47c2-c6d8-db0c5a7f5327"
      },
      "execution_count": null,
      "outputs": [
        {
          "output_type": "execute_result",
          "data": {
            "text/plain": [
              "(119390, 32)"
            ]
          },
          "metadata": {},
          "execution_count": 24
        }
      ]
    },
    {
      "cell_type": "code",
      "source": [
        "# Dataset Info\n",
        "df.info()"
      ],
      "metadata": {
        "id": "e9hRXRi6meOf",
        "colab": {
          "base_uri": "https://localhost:8080/"
        },
        "outputId": "a89b50d5-4523-454e-e288-03bb3452a999"
      },
      "execution_count": null,
      "outputs": [
        {
          "output_type": "stream",
          "name": "stdout",
          "text": [
            "<class 'pandas.core.frame.DataFrame'>\n",
            "RangeIndex: 119390 entries, 0 to 119389\n",
            "Data columns (total 32 columns):\n",
            " #   Column                          Non-Null Count   Dtype  \n",
            "---  ------                          --------------   -----  \n",
            " 0   hotel                           119390 non-null  object \n",
            " 1   is_canceled                     119390 non-null  int64  \n",
            " 2   lead_time                       119390 non-null  int64  \n",
            " 3   arrival_date_year               119390 non-null  int64  \n",
            " 4   arrival_date_month              119390 non-null  object \n",
            " 5   arrival_date_week_number        119390 non-null  int64  \n",
            " 6   arrival_date_day_of_month       119390 non-null  int64  \n",
            " 7   stays_in_weekend_nights         119390 non-null  int64  \n",
            " 8   stays_in_week_nights            119390 non-null  int64  \n",
            " 9   adults                          119390 non-null  int64  \n",
            " 10  children                        119386 non-null  float64\n",
            " 11  babies                          119390 non-null  int64  \n",
            " 12  meal                            119390 non-null  object \n",
            " 13  country                         118902 non-null  object \n",
            " 14  market_segment                  119390 non-null  object \n",
            " 15  distribution_channel            119390 non-null  object \n",
            " 16  is_repeated_guest               119390 non-null  int64  \n",
            " 17  previous_cancellations          119390 non-null  int64  \n",
            " 18  previous_bookings_not_canceled  119390 non-null  int64  \n",
            " 19  reserved_room_type              119390 non-null  object \n",
            " 20  assigned_room_type              119390 non-null  object \n",
            " 21  booking_changes                 119390 non-null  int64  \n",
            " 22  deposit_type                    119390 non-null  object \n",
            " 23  agent                           103050 non-null  float64\n",
            " 24  company                         6797 non-null    float64\n",
            " 25  days_in_waiting_list            119390 non-null  int64  \n",
            " 26  customer_type                   119390 non-null  object \n",
            " 27  adr                             119390 non-null  float64\n",
            " 28  required_car_parking_spaces     119390 non-null  int64  \n",
            " 29  total_of_special_requests       119390 non-null  int64  \n",
            " 30  reservation_status              119390 non-null  object \n",
            " 31  reservation_status_date         119390 non-null  object \n",
            "dtypes: float64(4), int64(16), object(12)\n",
            "memory usage: 29.1+ MB\n"
          ]
        }
      ]
    },
    {
      "cell_type": "markdown",
      "source": [
        "#### Duplicate Values"
      ],
      "metadata": {
        "id": "35m5QtbWiB9F"
      }
    },
    {
      "cell_type": "code",
      "source": [
        "# Dataset Duplicate Value Count\n",
        "df[df.duplicated()].shape \n",
        "# Remove duplicate values\n",
        "df.drop_duplicates(inplace = True)"
      ],
      "metadata": {
        "id": "1sLdpKYkmox0"
      },
      "execution_count": null,
      "outputs": []
    },
    {
      "cell_type": "markdown",
      "source": [
        "#### Missing Values/Null Values"
      ],
      "metadata": {
        "id": "PoPl-ycgm1ru"
      }
    },
    {
      "cell_type": "code",
      "source": [
        "# Missing Values/Null Values Count\n",
        "df.isna(). sum()\n"
      ],
      "metadata": {
        "id": "GgHWkxvamxVg",
        "colab": {
          "base_uri": "https://localhost:8080/"
        },
        "outputId": "6146547f-5c4f-4245-f2d8-961574d60252"
      },
      "execution_count": null,
      "outputs": [
        {
          "output_type": "execute_result",
          "data": {
            "text/plain": [
              "hotel                                 0\n",
              "is_canceled                           0\n",
              "lead_time                             0\n",
              "arrival_date_year                     0\n",
              "arrival_date_month                    0\n",
              "arrival_date_week_number              0\n",
              "arrival_date_day_of_month             0\n",
              "stays_in_weekend_nights               0\n",
              "stays_in_week_nights                  0\n",
              "adults                                0\n",
              "children                              4\n",
              "babies                                0\n",
              "meal                                  0\n",
              "country                             452\n",
              "market_segment                        0\n",
              "distribution_channel                  0\n",
              "is_repeated_guest                     0\n",
              "previous_cancellations                0\n",
              "previous_bookings_not_canceled        0\n",
              "reserved_room_type                    0\n",
              "assigned_room_type                    0\n",
              "booking_changes                       0\n",
              "deposit_type                          0\n",
              "agent                             12193\n",
              "company                           82137\n",
              "days_in_waiting_list                  0\n",
              "customer_type                         0\n",
              "adr                                   0\n",
              "required_car_parking_spaces           0\n",
              "total_of_special_requests             0\n",
              "reservation_status                    0\n",
              "reservation_status_date               0\n",
              "dtype: int64"
            ]
          },
          "metadata": {},
          "execution_count": 27
        }
      ]
    },
    {
      "cell_type": "code",
      "source": [
        "df=df.fillna(\" \")# remove null values by filling null vaue column by space"
      ],
      "metadata": {
        "id": "3bzFw5uP2iMn"
      },
      "execution_count": null,
      "outputs": []
    },
    {
      "cell_type": "code",
      "source": [
        "#There are some rows with total number of adults, children or babies equal to zero. So we will remove such rows.\n",
        "\n",
        "df[df['adults'] +df['babies'] +df['children'] == 0].shape\n",
        "df.drop(df[df['adults'],+df['babies']+df['children'] == 0].index, inplace = True)"
      ],
      "metadata": {
        "id": "Rxn5oqmd2pfQ",
        "colab": {
          "base_uri": "https://localhost:8080/",
          "height": 449
        },
        "outputId": "1ddc631c-ec87-40ce-f392-91a38aea4056"
      },
      "execution_count": null,
      "outputs": [
        {
          "output_type": "error",
          "ename": "TypeError",
          "evalue": "ignored",
          "traceback": [
            "\u001b[0;31m---------------------------------------------------------------------------\u001b[0m",
            "\u001b[0;31mTypeError\u001b[0m                                 Traceback (most recent call last)",
            "\u001b[0;32m/usr/local/lib/python3.8/dist-packages/pandas/core/ops/array_ops.py\u001b[0m in \u001b[0;36m_na_arithmetic_op\u001b[0;34m(left, right, op, is_cmp)\u001b[0m\n\u001b[1;32m    165\u001b[0m     \u001b[0;32mtry\u001b[0m\u001b[0;34m:\u001b[0m\u001b[0;34m\u001b[0m\u001b[0;34m\u001b[0m\u001b[0m\n\u001b[0;32m--> 166\u001b[0;31m         \u001b[0mresult\u001b[0m \u001b[0;34m=\u001b[0m \u001b[0mfunc\u001b[0m\u001b[0;34m(\u001b[0m\u001b[0mleft\u001b[0m\u001b[0;34m,\u001b[0m \u001b[0mright\u001b[0m\u001b[0;34m)\u001b[0m\u001b[0;34m\u001b[0m\u001b[0;34m\u001b[0m\u001b[0m\n\u001b[0m\u001b[1;32m    167\u001b[0m     \u001b[0;32mexcept\u001b[0m \u001b[0mTypeError\u001b[0m\u001b[0;34m:\u001b[0m\u001b[0;34m\u001b[0m\u001b[0;34m\u001b[0m\u001b[0m\n",
            "\u001b[0;32m/usr/local/lib/python3.8/dist-packages/pandas/core/computation/expressions.py\u001b[0m in \u001b[0;36mevaluate\u001b[0;34m(op, a, b, use_numexpr)\u001b[0m\n\u001b[1;32m    238\u001b[0m             \u001b[0;31m# error: \"None\" not callable\u001b[0m\u001b[0;34m\u001b[0m\u001b[0;34m\u001b[0m\u001b[0;34m\u001b[0m\u001b[0m\n\u001b[0;32m--> 239\u001b[0;31m             \u001b[0;32mreturn\u001b[0m \u001b[0m_evaluate\u001b[0m\u001b[0;34m(\u001b[0m\u001b[0mop\u001b[0m\u001b[0;34m,\u001b[0m \u001b[0mop_str\u001b[0m\u001b[0;34m,\u001b[0m \u001b[0ma\u001b[0m\u001b[0;34m,\u001b[0m \u001b[0mb\u001b[0m\u001b[0;34m)\u001b[0m  \u001b[0;31m# type: ignore[misc]\u001b[0m\u001b[0;34m\u001b[0m\u001b[0;34m\u001b[0m\u001b[0m\n\u001b[0m\u001b[1;32m    240\u001b[0m     \u001b[0;32mreturn\u001b[0m \u001b[0m_evaluate_standard\u001b[0m\u001b[0;34m(\u001b[0m\u001b[0mop\u001b[0m\u001b[0;34m,\u001b[0m \u001b[0mop_str\u001b[0m\u001b[0;34m,\u001b[0m \u001b[0ma\u001b[0m\u001b[0;34m,\u001b[0m \u001b[0mb\u001b[0m\u001b[0;34m)\u001b[0m\u001b[0;34m\u001b[0m\u001b[0;34m\u001b[0m\u001b[0m\n",
            "\u001b[0;32m/usr/local/lib/python3.8/dist-packages/pandas/core/computation/expressions.py\u001b[0m in \u001b[0;36m_evaluate_numexpr\u001b[0;34m(op, op_str, a, b)\u001b[0m\n\u001b[1;32m    127\u001b[0m     \u001b[0;32mif\u001b[0m \u001b[0mresult\u001b[0m \u001b[0;32mis\u001b[0m \u001b[0;32mNone\u001b[0m\u001b[0;34m:\u001b[0m\u001b[0;34m\u001b[0m\u001b[0;34m\u001b[0m\u001b[0m\n\u001b[0;32m--> 128\u001b[0;31m         \u001b[0mresult\u001b[0m \u001b[0;34m=\u001b[0m \u001b[0m_evaluate_standard\u001b[0m\u001b[0;34m(\u001b[0m\u001b[0mop\u001b[0m\u001b[0;34m,\u001b[0m \u001b[0mop_str\u001b[0m\u001b[0;34m,\u001b[0m \u001b[0ma\u001b[0m\u001b[0;34m,\u001b[0m \u001b[0mb\u001b[0m\u001b[0;34m)\u001b[0m\u001b[0;34m\u001b[0m\u001b[0;34m\u001b[0m\u001b[0m\n\u001b[0m\u001b[1;32m    129\u001b[0m \u001b[0;34m\u001b[0m\u001b[0m\n",
            "\u001b[0;32m/usr/local/lib/python3.8/dist-packages/pandas/core/computation/expressions.py\u001b[0m in \u001b[0;36m_evaluate_standard\u001b[0;34m(op, op_str, a, b)\u001b[0m\n\u001b[1;32m     68\u001b[0m         \u001b[0m_store_test_result\u001b[0m\u001b[0;34m(\u001b[0m\u001b[0;32mFalse\u001b[0m\u001b[0;34m)\u001b[0m\u001b[0;34m\u001b[0m\u001b[0;34m\u001b[0m\u001b[0m\n\u001b[0;32m---> 69\u001b[0;31m     \u001b[0;32mreturn\u001b[0m \u001b[0mop\u001b[0m\u001b[0;34m(\u001b[0m\u001b[0ma\u001b[0m\u001b[0;34m,\u001b[0m \u001b[0mb\u001b[0m\u001b[0;34m)\u001b[0m\u001b[0;34m\u001b[0m\u001b[0;34m\u001b[0m\u001b[0m\n\u001b[0m\u001b[1;32m     70\u001b[0m \u001b[0;34m\u001b[0m\u001b[0m\n",
            "\u001b[0;31mTypeError\u001b[0m: unsupported operand type(s) for +: 'int' and 'str'",
            "\nDuring handling of the above exception, another exception occurred:\n",
            "\u001b[0;31mTypeError\u001b[0m                                 Traceback (most recent call last)",
            "\u001b[0;32m<ipython-input-29-0cec0af2abc1>\u001b[0m in \u001b[0;36m<module>\u001b[0;34m\u001b[0m\n\u001b[1;32m      1\u001b[0m \u001b[0;31m#There are some rows with total number of adults, children or babies equal to zero. So we will remove such rows.\u001b[0m\u001b[0;34m\u001b[0m\u001b[0;34m\u001b[0m\u001b[0;34m\u001b[0m\u001b[0m\n\u001b[1;32m      2\u001b[0m \u001b[0;34m\u001b[0m\u001b[0m\n\u001b[0;32m----> 3\u001b[0;31m \u001b[0mdf\u001b[0m\u001b[0;34m[\u001b[0m\u001b[0mdf\u001b[0m\u001b[0;34m[\u001b[0m\u001b[0;34m'adults'\u001b[0m\u001b[0;34m]\u001b[0m \u001b[0;34m+\u001b[0m\u001b[0mdf\u001b[0m\u001b[0;34m[\u001b[0m\u001b[0;34m'babies'\u001b[0m\u001b[0;34m]\u001b[0m \u001b[0;34m+\u001b[0m\u001b[0mdf\u001b[0m\u001b[0;34m[\u001b[0m\u001b[0;34m'children'\u001b[0m\u001b[0;34m]\u001b[0m \u001b[0;34m==\u001b[0m \u001b[0;36m0\u001b[0m\u001b[0;34m]\u001b[0m\u001b[0;34m.\u001b[0m\u001b[0mshape\u001b[0m\u001b[0;34m\u001b[0m\u001b[0;34m\u001b[0m\u001b[0m\n\u001b[0m\u001b[1;32m      4\u001b[0m \u001b[0mdf\u001b[0m\u001b[0;34m.\u001b[0m\u001b[0mdrop\u001b[0m\u001b[0;34m(\u001b[0m\u001b[0mdf\u001b[0m\u001b[0;34m[\u001b[0m\u001b[0mdf\u001b[0m\u001b[0;34m[\u001b[0m\u001b[0;34m'adults'\u001b[0m\u001b[0;34m]\u001b[0m\u001b[0;34m,\u001b[0m\u001b[0;34m+\u001b[0m\u001b[0mdf\u001b[0m\u001b[0;34m[\u001b[0m\u001b[0;34m'babies'\u001b[0m\u001b[0;34m]\u001b[0m\u001b[0;34m+\u001b[0m\u001b[0mdf\u001b[0m\u001b[0;34m[\u001b[0m\u001b[0;34m'children'\u001b[0m\u001b[0;34m]\u001b[0m \u001b[0;34m==\u001b[0m \u001b[0;36m0\u001b[0m\u001b[0;34m]\u001b[0m\u001b[0;34m.\u001b[0m\u001b[0mindex\u001b[0m\u001b[0;34m,\u001b[0m \u001b[0minplace\u001b[0m \u001b[0;34m=\u001b[0m \u001b[0;32mTrue\u001b[0m\u001b[0;34m)\u001b[0m\u001b[0;34m\u001b[0m\u001b[0;34m\u001b[0m\u001b[0m\n",
            "\u001b[0;32m/usr/local/lib/python3.8/dist-packages/pandas/core/ops/common.py\u001b[0m in \u001b[0;36mnew_method\u001b[0;34m(self, other)\u001b[0m\n\u001b[1;32m     67\u001b[0m         \u001b[0mother\u001b[0m \u001b[0;34m=\u001b[0m \u001b[0mitem_from_zerodim\u001b[0m\u001b[0;34m(\u001b[0m\u001b[0mother\u001b[0m\u001b[0;34m)\u001b[0m\u001b[0;34m\u001b[0m\u001b[0;34m\u001b[0m\u001b[0m\n\u001b[1;32m     68\u001b[0m \u001b[0;34m\u001b[0m\u001b[0m\n\u001b[0;32m---> 69\u001b[0;31m         \u001b[0;32mreturn\u001b[0m \u001b[0mmethod\u001b[0m\u001b[0;34m(\u001b[0m\u001b[0mself\u001b[0m\u001b[0;34m,\u001b[0m \u001b[0mother\u001b[0m\u001b[0;34m)\u001b[0m\u001b[0;34m\u001b[0m\u001b[0;34m\u001b[0m\u001b[0m\n\u001b[0m\u001b[1;32m     70\u001b[0m \u001b[0;34m\u001b[0m\u001b[0m\n\u001b[1;32m     71\u001b[0m     \u001b[0;32mreturn\u001b[0m \u001b[0mnew_method\u001b[0m\u001b[0;34m\u001b[0m\u001b[0;34m\u001b[0m\u001b[0m\n",
            "\u001b[0;32m/usr/local/lib/python3.8/dist-packages/pandas/core/arraylike.py\u001b[0m in \u001b[0;36m__add__\u001b[0;34m(self, other)\u001b[0m\n\u001b[1;32m     90\u001b[0m     \u001b[0;34m@\u001b[0m\u001b[0munpack_zerodim_and_defer\u001b[0m\u001b[0;34m(\u001b[0m\u001b[0;34m\"__add__\"\u001b[0m\u001b[0;34m)\u001b[0m\u001b[0;34m\u001b[0m\u001b[0;34m\u001b[0m\u001b[0m\n\u001b[1;32m     91\u001b[0m     \u001b[0;32mdef\u001b[0m \u001b[0m__add__\u001b[0m\u001b[0;34m(\u001b[0m\u001b[0mself\u001b[0m\u001b[0;34m,\u001b[0m \u001b[0mother\u001b[0m\u001b[0;34m)\u001b[0m\u001b[0;34m:\u001b[0m\u001b[0;34m\u001b[0m\u001b[0;34m\u001b[0m\u001b[0m\n\u001b[0;32m---> 92\u001b[0;31m         \u001b[0;32mreturn\u001b[0m \u001b[0mself\u001b[0m\u001b[0;34m.\u001b[0m\u001b[0m_arith_method\u001b[0m\u001b[0;34m(\u001b[0m\u001b[0mother\u001b[0m\u001b[0;34m,\u001b[0m \u001b[0moperator\u001b[0m\u001b[0;34m.\u001b[0m\u001b[0madd\u001b[0m\u001b[0;34m)\u001b[0m\u001b[0;34m\u001b[0m\u001b[0;34m\u001b[0m\u001b[0m\n\u001b[0m\u001b[1;32m     93\u001b[0m \u001b[0;34m\u001b[0m\u001b[0m\n\u001b[1;32m     94\u001b[0m     \u001b[0;34m@\u001b[0m\u001b[0munpack_zerodim_and_defer\u001b[0m\u001b[0;34m(\u001b[0m\u001b[0;34m\"__radd__\"\u001b[0m\u001b[0;34m)\u001b[0m\u001b[0;34m\u001b[0m\u001b[0;34m\u001b[0m\u001b[0m\n",
            "\u001b[0;32m/usr/local/lib/python3.8/dist-packages/pandas/core/series.py\u001b[0m in \u001b[0;36m_arith_method\u001b[0;34m(self, other, op)\u001b[0m\n\u001b[1;32m   5524\u001b[0m \u001b[0;34m\u001b[0m\u001b[0m\n\u001b[1;32m   5525\u001b[0m         \u001b[0;32mwith\u001b[0m \u001b[0mnp\u001b[0m\u001b[0;34m.\u001b[0m\u001b[0merrstate\u001b[0m\u001b[0;34m(\u001b[0m\u001b[0mall\u001b[0m\u001b[0;34m=\u001b[0m\u001b[0;34m\"ignore\"\u001b[0m\u001b[0;34m)\u001b[0m\u001b[0;34m:\u001b[0m\u001b[0;34m\u001b[0m\u001b[0;34m\u001b[0m\u001b[0m\n\u001b[0;32m-> 5526\u001b[0;31m             \u001b[0mresult\u001b[0m \u001b[0;34m=\u001b[0m \u001b[0mops\u001b[0m\u001b[0;34m.\u001b[0m\u001b[0marithmetic_op\u001b[0m\u001b[0;34m(\u001b[0m\u001b[0mlvalues\u001b[0m\u001b[0;34m,\u001b[0m \u001b[0mrvalues\u001b[0m\u001b[0;34m,\u001b[0m \u001b[0mop\u001b[0m\u001b[0;34m)\u001b[0m\u001b[0;34m\u001b[0m\u001b[0;34m\u001b[0m\u001b[0m\n\u001b[0m\u001b[1;32m   5527\u001b[0m \u001b[0;34m\u001b[0m\u001b[0m\n\u001b[1;32m   5528\u001b[0m         \u001b[0;32mreturn\u001b[0m \u001b[0mself\u001b[0m\u001b[0;34m.\u001b[0m\u001b[0m_construct_result\u001b[0m\u001b[0;34m(\u001b[0m\u001b[0mresult\u001b[0m\u001b[0;34m,\u001b[0m \u001b[0mname\u001b[0m\u001b[0;34m=\u001b[0m\u001b[0mres_name\u001b[0m\u001b[0;34m)\u001b[0m\u001b[0;34m\u001b[0m\u001b[0;34m\u001b[0m\u001b[0m\n",
            "\u001b[0;32m/usr/local/lib/python3.8/dist-packages/pandas/core/ops/array_ops.py\u001b[0m in \u001b[0;36marithmetic_op\u001b[0;34m(left, right, op)\u001b[0m\n\u001b[1;32m    222\u001b[0m         \u001b[0m_bool_arith_check\u001b[0m\u001b[0;34m(\u001b[0m\u001b[0mop\u001b[0m\u001b[0;34m,\u001b[0m \u001b[0mleft\u001b[0m\u001b[0;34m,\u001b[0m \u001b[0mright\u001b[0m\u001b[0;34m)\u001b[0m\u001b[0;34m\u001b[0m\u001b[0;34m\u001b[0m\u001b[0m\n\u001b[1;32m    223\u001b[0m \u001b[0;34m\u001b[0m\u001b[0m\n\u001b[0;32m--> 224\u001b[0;31m         \u001b[0mres_values\u001b[0m \u001b[0;34m=\u001b[0m \u001b[0m_na_arithmetic_op\u001b[0m\u001b[0;34m(\u001b[0m\u001b[0mleft\u001b[0m\u001b[0;34m,\u001b[0m \u001b[0mright\u001b[0m\u001b[0;34m,\u001b[0m \u001b[0mop\u001b[0m\u001b[0;34m)\u001b[0m\u001b[0;34m\u001b[0m\u001b[0;34m\u001b[0m\u001b[0m\n\u001b[0m\u001b[1;32m    225\u001b[0m \u001b[0;34m\u001b[0m\u001b[0m\n\u001b[1;32m    226\u001b[0m     \u001b[0;32mreturn\u001b[0m \u001b[0mres_values\u001b[0m\u001b[0;34m\u001b[0m\u001b[0;34m\u001b[0m\u001b[0m\n",
            "\u001b[0;32m/usr/local/lib/python3.8/dist-packages/pandas/core/ops/array_ops.py\u001b[0m in \u001b[0;36m_na_arithmetic_op\u001b[0;34m(left, right, op, is_cmp)\u001b[0m\n\u001b[1;32m    171\u001b[0m             \u001b[0;31m# Don't do this for comparisons, as that will handle complex numbers\u001b[0m\u001b[0;34m\u001b[0m\u001b[0;34m\u001b[0m\u001b[0;34m\u001b[0m\u001b[0m\n\u001b[1;32m    172\u001b[0m             \u001b[0;31m#  incorrectly, see GH#32047\u001b[0m\u001b[0;34m\u001b[0m\u001b[0;34m\u001b[0m\u001b[0;34m\u001b[0m\u001b[0m\n\u001b[0;32m--> 173\u001b[0;31m             \u001b[0mresult\u001b[0m \u001b[0;34m=\u001b[0m \u001b[0m_masked_arith_op\u001b[0m\u001b[0;34m(\u001b[0m\u001b[0mleft\u001b[0m\u001b[0;34m,\u001b[0m \u001b[0mright\u001b[0m\u001b[0;34m,\u001b[0m \u001b[0mop\u001b[0m\u001b[0;34m)\u001b[0m\u001b[0;34m\u001b[0m\u001b[0;34m\u001b[0m\u001b[0m\n\u001b[0m\u001b[1;32m    174\u001b[0m         \u001b[0;32melse\u001b[0m\u001b[0;34m:\u001b[0m\u001b[0;34m\u001b[0m\u001b[0;34m\u001b[0m\u001b[0m\n\u001b[1;32m    175\u001b[0m             \u001b[0;32mraise\u001b[0m\u001b[0;34m\u001b[0m\u001b[0;34m\u001b[0m\u001b[0m\n",
            "\u001b[0;32m/usr/local/lib/python3.8/dist-packages/pandas/core/ops/array_ops.py\u001b[0m in \u001b[0;36m_masked_arith_op\u001b[0;34m(x, y, op)\u001b[0m\n\u001b[1;32m    110\u001b[0m         \u001b[0;31m# See GH#5284, GH#5035, GH#19448 for historical reference\u001b[0m\u001b[0;34m\u001b[0m\u001b[0;34m\u001b[0m\u001b[0;34m\u001b[0m\u001b[0m\n\u001b[1;32m    111\u001b[0m         \u001b[0;32mif\u001b[0m \u001b[0mmask\u001b[0m\u001b[0;34m.\u001b[0m\u001b[0many\u001b[0m\u001b[0;34m(\u001b[0m\u001b[0;34m)\u001b[0m\u001b[0;34m:\u001b[0m\u001b[0;34m\u001b[0m\u001b[0;34m\u001b[0m\u001b[0m\n\u001b[0;32m--> 112\u001b[0;31m             \u001b[0mresult\u001b[0m\u001b[0;34m[\u001b[0m\u001b[0mmask\u001b[0m\u001b[0;34m]\u001b[0m \u001b[0;34m=\u001b[0m \u001b[0mop\u001b[0m\u001b[0;34m(\u001b[0m\u001b[0mxrav\u001b[0m\u001b[0;34m[\u001b[0m\u001b[0mmask\u001b[0m\u001b[0;34m]\u001b[0m\u001b[0;34m,\u001b[0m \u001b[0myrav\u001b[0m\u001b[0;34m[\u001b[0m\u001b[0mmask\u001b[0m\u001b[0;34m]\u001b[0m\u001b[0;34m)\u001b[0m\u001b[0;34m\u001b[0m\u001b[0;34m\u001b[0m\u001b[0m\n\u001b[0m\u001b[1;32m    113\u001b[0m \u001b[0;34m\u001b[0m\u001b[0m\n\u001b[1;32m    114\u001b[0m     \u001b[0;32melse\u001b[0m\u001b[0;34m:\u001b[0m\u001b[0;34m\u001b[0m\u001b[0;34m\u001b[0m\u001b[0m\n",
            "\u001b[0;31mTypeError\u001b[0m: unsupported operand type(s) for +: 'int' and 'str'"
          ]
        }
      ]
    },
    {
      "cell_type": "code",
      "source": [
        "# Visualizing the missing values"
      ],
      "metadata": {
        "id": "3q5wnI3om9sJ"
      },
      "execution_count": null,
      "outputs": []
    },
    {
      "cell_type": "markdown",
      "source": [
        "### What did you know about your dataset?"
      ],
      "metadata": {
        "id": "H0kj-8xxnORC"
      }
    },
    {
      "cell_type": "markdown",
      "source": [
        "**Hotel Bookings Analysis has 32 different variables (Continuous & Categorical) in the columns and grouping them as:**\n",
        "\n",
        "** Guest Demographics : country, adults, children, babies.\n",
        "\n",
        "**Arrival Information : arrival_date_year, arrival_date_month, \n",
        "arrival_date_week_number, arrival_date_day_of_month.\n",
        "\n",
        "**Reservation Status : reservation_status, reservation_status_date, is_canceled, lead_time, days_in_waiting_list.\n",
        "\n",
        "**User Actions : is_repeated_guest, previous_cancellations, previous_bookings_not_canceled.\n",
        "\n",
        "**Accommodation Details : stays_in_weekend_nights, stays_in_week_nights, reserved_room_type, assigned_room_type, meals, required_car_parking_spaces, total_of_special_requests.\n",
        "\n",
        "**Booking Information : hotel, market_segment, distribution_channel, booking_changes, deposit_type, agent, company, customer_type.\n",
        "\n",
        "**Average Daily Rate : adr.\n",
        "\n",
        "\n",
        "---\n",
        "\n",
        "\n",
        "\n",
        "**Each variable in detail :**\n",
        "\n",
        "hotel : This variable describes the category of the hotels, they are City Hotel & Resort Hotel.\n",
        "\n",
        "is_canceled : The column shows cancellation details, 0 indicates booking not cancelled & 1 indicates booking is cancelled.\n",
        "\n",
        "lead_time : This column defines the time between reservation & actual arrival.\n",
        "\n",
        "arrival_date_year : This variable shows the arrival year of the customer namely 2015, 2016 or 2017.\n",
        "\n",
        "arrival_date_month : This variable shows the arrival month of the customer in between January to December.\n",
        "\n",
        "arrival_date_week_number : This column shows the arrival week of the customer.\n",
        "\n",
        "arrival_date_day_of_month : This variable indicates the arrival date of the customer in the respective month & year.\n",
        "\n",
        "stays_in_weekend_nights : This variable indicates the number of weekend nights (Saturday or Sunday) the guest stayed or booked to stay at the respective hotel. \n",
        "\n",
        "stays_in_week_nights : This column shows number of week nights (Monday to Friday) the guest stayed or booked to stay at the respective hotel.\n",
        "\n",
        "adults : This variable shows the number of adults present with the customer.\n",
        "\n",
        "children : This column shows the number of children present with the customer.\n",
        "\n",
        "babies : This variable shows the number of babies present with the customer.\n",
        "\n",
        "meal : This column shows the type of meal booked by the customer. Namely BB - Bread & Breakfast, only breakfast is booked, FB - Full Board, in which breakfast, lunch & dinner are included, HB - Half Board, in which breakfast & dinner are included, SC - Self Catering, no meals are included.\n",
        "\n",
        "country : This column shows the origin country of customers.\n",
        "\n",
        "market_segment : This column shows the designation of the customers, * namely - Aviation, Direct, Corporate, Complementary, Groups, Offline TA/TO, Online TO.\n",
        "\n",
        "distribution_channel : Booking distribution channel like direct, corporate, TA/TO, GDS.\n",
        "\n",
        "is_repeated_guest : This variable shows the value indicating if the booking name was from a repeated guest. 0 - is not repeated guest & 1-repeated guest.\n",
        "\n",
        "previous_cancellations : This column shows the number of previous bookings that were cancelled by the customer prior to the current booking.\n",
        "\n",
        "previous_bookings_not_canceled : This variable shows the number of previous bookings not cancelled by the customer prior to the current booking.\n",
        "\n",
        "reserved_room_type : This variable indicates the room reserved by the customer.\n",
        "\n",
        "assigned_room_type : This variable shows the assigned room to the customer.\n",
        "\n",
        "booking_changes : This column shows the number of changes made to the booking.\n",
        "\n",
        "deposit_type : This variable indicates if the customer made a deposit to guarantee the booking. 3 categories: No Deposit – no deposit was made; Non * Refund – a deposit was made in the value of the total stay cost; Refundable – a deposit was made with a value under the total cost of stay.\n",
        "\n",
        "agent : This column shows the id of the booking agent.\n",
        "\n",
        "company : This variable indicates the id of the company making a booking.\n",
        "\n",
        "days_in_waiting_list : This column depicts the number of days the booking was in the waiting list before it was confirmed to the customer.\n",
        "\n",
        "customer_type : This variable shows 4 types of customers, namely - Contract - when the booking has an allotment or other type of contract associated to it; Group – when the booking is associated to a group; Transient – when the booking is not part of a group or contract, and is not associated to other transient booking; Transient-party – when the booking is transient, but is associated to at least other transient booking.\n",
        "\n",
        "adr : This variable shows the Average Daily Rate as defined by dividing the sum of all lodging transactions by the total number of staying nights. required_car_parking_spaces : This column indicates the number of car parking spaces required by the customer.\n",
        "\n",
        "total_of_special_requests : This variable shows the number of special requests made by the customer (e.g. twin bed, high floor).\n",
        "\n",
        "reservation_status : This column shows the reservation status of the customer whether the customer has checked-in or cancelled or not shown.\n",
        "\n",
        "reservation_status_date : This variable indicates date of making reservation status."
      ],
      "metadata": {
        "id": "gfoNAAC-nUe_"
      }
    },
    {
      "cell_type": "markdown",
      "source": [
        "## ***2. Understanding Your Variables***"
      ],
      "metadata": {
        "id": "nA9Y7ga8ng1Z"
      }
    },
    {
      "cell_type": "code",
      "source": [
        "# Dataset Columns\n",
        "df.columns"
      ],
      "metadata": {
        "id": "j7xfkqrt5Ag5",
        "colab": {
          "base_uri": "https://localhost:8080/"
        },
        "outputId": "60879b7e-7828-46e0-e031-867f5f530ea9"
      },
      "execution_count": null,
      "outputs": [
        {
          "output_type": "execute_result",
          "data": {
            "text/plain": [
              "Index(['hotel', 'is_canceled', 'lead_time', 'arrival_date_year',\n",
              "       'arrival_date_month', 'arrival_date_week_number',\n",
              "       'arrival_date_day_of_month', 'stays_in_weekend_nights',\n",
              "       'stays_in_week_nights', 'adults', 'children', 'babies', 'meal',\n",
              "       'country', 'market_segment', 'distribution_channel',\n",
              "       'is_repeated_guest', 'previous_cancellations',\n",
              "       'previous_bookings_not_canceled', 'reserved_room_type',\n",
              "       'assigned_room_type', 'booking_changes', 'deposit_type', 'agent',\n",
              "       'company', 'days_in_waiting_list', 'customer_type', 'adr',\n",
              "       'required_car_parking_spaces', 'total_of_special_requests',\n",
              "       'reservation_status', 'reservation_status_date'],\n",
              "      dtype='object')"
            ]
          },
          "metadata": {},
          "execution_count": 30
        }
      ]
    },
    {
      "cell_type": "code",
      "source": [
        "# Dataset Describe\n",
        "df.describe()"
      ],
      "metadata": {
        "id": "DnOaZdaE5Q5t"
      },
      "execution_count": null,
      "outputs": []
    },
    {
      "cell_type": "markdown",
      "source": [
        "### Variables Description "
      ],
      "metadata": {
        "id": "PBTbrJXOngz2"
      }
    },
    {
      "cell_type": "markdown",
      "source": [
        "Answer Here"
      ],
      "metadata": {
        "id": "aJV4KIxSnxay"
      }
    },
    {
      "cell_type": "markdown",
      "source": [
        "### Check Unique Values for each variable."
      ],
      "metadata": {
        "id": "u3PMJOP6ngxN"
      }
    },
    {
      "cell_type": "code",
      "source": [
        "# Check Unique Values for each variable."
      ],
      "metadata": {
        "id": "zms12Yq5n-jE"
      },
      "execution_count": null,
      "outputs": []
    },
    {
      "cell_type": "markdown",
      "source": [
        "## 3. ***Data Wrangling***"
      ],
      "metadata": {
        "id": "dauF4eBmngu3"
      }
    },
    {
      "cell_type": "markdown",
      "source": [
        "### Data Wrangling Code"
      ],
      "metadata": {
        "id": "bKJF3rekwFvQ"
      }
    },
    {
      "cell_type": "code",
      "source": [
        "#let us check which type of Hotel has more number of bookings and pecentage Bookings\n",
        "Type_hotel=df['hotel'].value_counts()\n",
        " # precentage of bookings\n",
        "(df.groupby('hotel').size() / df['hotel'].count()) * 100"
      ],
      "metadata": {
        "id": "wk-9a2fpoLcV",
        "colab": {
          "base_uri": "https://localhost:8080/"
        },
        "outputId": "5ae0e125-10b8-446f-9b2a-2bf924db7d0b"
      },
      "execution_count": null,
      "outputs": [
        {
          "output_type": "execute_result",
          "data": {
            "text/plain": [
              "hotel\n",
              "City Hotel      61.133233\n",
              "Resort Hotel    38.866767\n",
              "dtype: float64"
            ]
          },
          "metadata": {},
          "execution_count": 38
        }
      ]
    },
    {
      "cell_type": "code",
      "source": [
        "# let us check best time to book Hotel, For that first we have to find which month is busiest means most number of bookings found\n",
        "Booking_months = df['arrival_date_month'].value_counts().sort_values(ascending=False)\n",
        "Booking_months"
      ],
      "metadata": {
        "id": "Qxp2VAk26NRs",
        "colab": {
          "base_uri": "https://localhost:8080/"
        },
        "outputId": "2d0a9db6-f019-4bbc-d6ce-b32a94683cac"
      },
      "execution_count": null,
      "outputs": [
        {
          "output_type": "execute_result",
          "data": {
            "text/plain": [
              "August       11257\n",
              "July         10057\n",
              "May           8355\n",
              "April         7908\n",
              "June          7765\n",
              "March         7513\n",
              "October       6934\n",
              "September     6690\n",
              "February      6098\n",
              "December      5131\n",
              "November      4995\n",
              "January       4693\n",
              "Name: arrival_date_month, dtype: int64"
            ]
          },
          "metadata": {},
          "execution_count": 33
        }
      ]
    },
    {
      "cell_type": "code",
      "source": [
        "#let us check from which country more number of visitors are coming\n",
        "country_wise_visitor=df['country'].value_counts().sort_values(ascending=False)\n",
        "country_wise_visitor[:10]\n"
      ],
      "metadata": {
        "id": "l2s2a6eD6Tcl",
        "colab": {
          "base_uri": "https://localhost:8080/"
        },
        "outputId": "ccc9f58e-2a9f-4287-ae09-26e797a806c3"
      },
      "execution_count": null,
      "outputs": [
        {
          "output_type": "execute_result",
          "data": {
            "text/plain": [
              "PRT    27453\n",
              "GBR    10433\n",
              "FRA     8837\n",
              "ESP     7252\n",
              "DEU     5387\n",
              "ITA     3066\n",
              "IRL     3016\n",
              "BEL     2081\n",
              "BRA     1995\n",
              "NLD     1911\n",
              "Name: country, dtype: int64"
            ]
          },
          "metadata": {},
          "execution_count": 34
        }
      ]
    },
    {
      "cell_type": "code",
      "source": [
        "# let us check which type of meals prepered most\n",
        "Prepered_meal_type=df['meal'].value_counts().sort_values(ascending=False)\n",
        "Prepered_meal_type"
      ],
      "metadata": {
        "id": "MVt5L86G6Gns",
        "colab": {
          "base_uri": "https://localhost:8080/"
        },
        "outputId": "9b746e16-1335-414a-ec51-815bc497c047"
      },
      "execution_count": null,
      "outputs": [
        {
          "output_type": "execute_result",
          "data": {
            "text/plain": [
              "BB           67978\n",
              "SC            9481\n",
              "HB            9085\n",
              "Undefined      492\n",
              "FB             360\n",
              "Name: meal, dtype: int64"
            ]
          },
          "metadata": {},
          "execution_count": 32
        }
      ]
    },
    {
      "cell_type": "code",
      "source": [
        "# let us check relation between lead time and the cancellation \n",
        "canceled_booking=pd.DataFrame(df[df[\"is_canceled\"]==1])\n",
        "canceled_booking\n",
        "not_canceled_df=pd.DataFrame(df[df[\"is_canceled\"]==0])"
      ],
      "metadata": {
        "id": "KEpWVYvR6aUs"
      },
      "execution_count": null,
      "outputs": []
    },
    {
      "cell_type": "code",
      "source": [
        "# lets us find out the total stay of the each customer from which we can find out average stay of different type of customer\n",
        "df[\"Total_stay\"]=df[\"stays_in_weekend_nights\"]+df[\"stays_in_week_nights\"]\n",
        "Avg_stay_df=df.groupby(\"customer_type\")[\"Total_stay\"].mean().round()\n",
        "df.head().T"
      ],
      "metadata": {
        "id": "jXZ35gdi6kb3",
        "colab": {
          "base_uri": "https://localhost:8080/",
          "height": 655
        },
        "outputId": "d79155d6-4f42-4eca-b8d7-396ce667ad18"
      },
      "execution_count": null,
      "outputs": [
        {
          "output_type": "execute_result",
          "data": {
            "text/plain": [
              "                                           0             1             2  \\\n",
              "hotel                           Resort Hotel  Resort Hotel  Resort Hotel   \n",
              "is_canceled                                0             0             0   \n",
              "lead_time                                342           737             7   \n",
              "arrival_date_year                       2015          2015          2015   \n",
              "arrival_date_month                      July          July          July   \n",
              "arrival_date_week_number                  27            27            27   \n",
              "arrival_date_day_of_month                  1             1             1   \n",
              "stays_in_weekend_nights                    0             0             0   \n",
              "stays_in_week_nights                       0             0             1   \n",
              "adults                                     2             2             1   \n",
              "children                                 0.0           0.0           0.0   \n",
              "babies                                     0             0             0   \n",
              "meal                                      BB            BB            BB   \n",
              "country                                  PRT           PRT           GBR   \n",
              "market_segment                        Direct        Direct        Direct   \n",
              "distribution_channel                  Direct        Direct        Direct   \n",
              "is_repeated_guest                          0             0             0   \n",
              "previous_cancellations                     0             0             0   \n",
              "previous_bookings_not_canceled             0             0             0   \n",
              "reserved_room_type                         C             C             A   \n",
              "assigned_room_type                         C             C             C   \n",
              "booking_changes                            3             4             0   \n",
              "deposit_type                      No Deposit    No Deposit    No Deposit   \n",
              "agent                                                                      \n",
              "company                                                                    \n",
              "days_in_waiting_list                       0             0             0   \n",
              "customer_type                      Transient     Transient     Transient   \n",
              "adr                                      0.0           0.0          75.0   \n",
              "required_car_parking_spaces                0             0             0   \n",
              "total_of_special_requests                  0             0             0   \n",
              "reservation_status                 Check-Out     Check-Out     Check-Out   \n",
              "reservation_status_date           07/01/2015    07/01/2015    07/02/2015   \n",
              "Total_stay                                 0             0             1   \n",
              "\n",
              "                                           3             4  \n",
              "hotel                           Resort Hotel  Resort Hotel  \n",
              "is_canceled                                0             0  \n",
              "lead_time                                 13            14  \n",
              "arrival_date_year                       2015          2015  \n",
              "arrival_date_month                      July          July  \n",
              "arrival_date_week_number                  27            27  \n",
              "arrival_date_day_of_month                  1             1  \n",
              "stays_in_weekend_nights                    0             0  \n",
              "stays_in_week_nights                       1             2  \n",
              "adults                                     1             2  \n",
              "children                                 0.0           0.0  \n",
              "babies                                     0             0  \n",
              "meal                                      BB            BB  \n",
              "country                                  GBR           GBR  \n",
              "market_segment                     Corporate     Online TA  \n",
              "distribution_channel               Corporate         TA/TO  \n",
              "is_repeated_guest                          0             0  \n",
              "previous_cancellations                     0             0  \n",
              "previous_bookings_not_canceled             0             0  \n",
              "reserved_room_type                         A             A  \n",
              "assigned_room_type                         A             A  \n",
              "booking_changes                            0             0  \n",
              "deposit_type                      No Deposit    No Deposit  \n",
              "agent                                  304.0         240.0  \n",
              "company                                                     \n",
              "days_in_waiting_list                       0             0  \n",
              "customer_type                      Transient     Transient  \n",
              "adr                                     75.0          98.0  \n",
              "required_car_parking_spaces                0             0  \n",
              "total_of_special_requests                  0             1  \n",
              "reservation_status                 Check-Out     Check-Out  \n",
              "reservation_status_date           07/02/2015    07/03/2015  \n",
              "Total_stay                                 1             2  "
            ],
            "text/html": [
              "\n",
              "  <div id=\"df-e55c094a-462b-4403-b25c-e1b489bc518e\">\n",
              "    <div class=\"colab-df-container\">\n",
              "      <div>\n",
              "<style scoped>\n",
              "    .dataframe tbody tr th:only-of-type {\n",
              "        vertical-align: middle;\n",
              "    }\n",
              "\n",
              "    .dataframe tbody tr th {\n",
              "        vertical-align: top;\n",
              "    }\n",
              "\n",
              "    .dataframe thead th {\n",
              "        text-align: right;\n",
              "    }\n",
              "</style>\n",
              "<table border=\"1\" class=\"dataframe\">\n",
              "  <thead>\n",
              "    <tr style=\"text-align: right;\">\n",
              "      <th></th>\n",
              "      <th>0</th>\n",
              "      <th>1</th>\n",
              "      <th>2</th>\n",
              "      <th>3</th>\n",
              "      <th>4</th>\n",
              "    </tr>\n",
              "  </thead>\n",
              "  <tbody>\n",
              "    <tr>\n",
              "      <th>hotel</th>\n",
              "      <td>Resort Hotel</td>\n",
              "      <td>Resort Hotel</td>\n",
              "      <td>Resort Hotel</td>\n",
              "      <td>Resort Hotel</td>\n",
              "      <td>Resort Hotel</td>\n",
              "    </tr>\n",
              "    <tr>\n",
              "      <th>is_canceled</th>\n",
              "      <td>0</td>\n",
              "      <td>0</td>\n",
              "      <td>0</td>\n",
              "      <td>0</td>\n",
              "      <td>0</td>\n",
              "    </tr>\n",
              "    <tr>\n",
              "      <th>lead_time</th>\n",
              "      <td>342</td>\n",
              "      <td>737</td>\n",
              "      <td>7</td>\n",
              "      <td>13</td>\n",
              "      <td>14</td>\n",
              "    </tr>\n",
              "    <tr>\n",
              "      <th>arrival_date_year</th>\n",
              "      <td>2015</td>\n",
              "      <td>2015</td>\n",
              "      <td>2015</td>\n",
              "      <td>2015</td>\n",
              "      <td>2015</td>\n",
              "    </tr>\n",
              "    <tr>\n",
              "      <th>arrival_date_month</th>\n",
              "      <td>July</td>\n",
              "      <td>July</td>\n",
              "      <td>July</td>\n",
              "      <td>July</td>\n",
              "      <td>July</td>\n",
              "    </tr>\n",
              "    <tr>\n",
              "      <th>arrival_date_week_number</th>\n",
              "      <td>27</td>\n",
              "      <td>27</td>\n",
              "      <td>27</td>\n",
              "      <td>27</td>\n",
              "      <td>27</td>\n",
              "    </tr>\n",
              "    <tr>\n",
              "      <th>arrival_date_day_of_month</th>\n",
              "      <td>1</td>\n",
              "      <td>1</td>\n",
              "      <td>1</td>\n",
              "      <td>1</td>\n",
              "      <td>1</td>\n",
              "    </tr>\n",
              "    <tr>\n",
              "      <th>stays_in_weekend_nights</th>\n",
              "      <td>0</td>\n",
              "      <td>0</td>\n",
              "      <td>0</td>\n",
              "      <td>0</td>\n",
              "      <td>0</td>\n",
              "    </tr>\n",
              "    <tr>\n",
              "      <th>stays_in_week_nights</th>\n",
              "      <td>0</td>\n",
              "      <td>0</td>\n",
              "      <td>1</td>\n",
              "      <td>1</td>\n",
              "      <td>2</td>\n",
              "    </tr>\n",
              "    <tr>\n",
              "      <th>adults</th>\n",
              "      <td>2</td>\n",
              "      <td>2</td>\n",
              "      <td>1</td>\n",
              "      <td>1</td>\n",
              "      <td>2</td>\n",
              "    </tr>\n",
              "    <tr>\n",
              "      <th>children</th>\n",
              "      <td>0.0</td>\n",
              "      <td>0.0</td>\n",
              "      <td>0.0</td>\n",
              "      <td>0.0</td>\n",
              "      <td>0.0</td>\n",
              "    </tr>\n",
              "    <tr>\n",
              "      <th>babies</th>\n",
              "      <td>0</td>\n",
              "      <td>0</td>\n",
              "      <td>0</td>\n",
              "      <td>0</td>\n",
              "      <td>0</td>\n",
              "    </tr>\n",
              "    <tr>\n",
              "      <th>meal</th>\n",
              "      <td>BB</td>\n",
              "      <td>BB</td>\n",
              "      <td>BB</td>\n",
              "      <td>BB</td>\n",
              "      <td>BB</td>\n",
              "    </tr>\n",
              "    <tr>\n",
              "      <th>country</th>\n",
              "      <td>PRT</td>\n",
              "      <td>PRT</td>\n",
              "      <td>GBR</td>\n",
              "      <td>GBR</td>\n",
              "      <td>GBR</td>\n",
              "    </tr>\n",
              "    <tr>\n",
              "      <th>market_segment</th>\n",
              "      <td>Direct</td>\n",
              "      <td>Direct</td>\n",
              "      <td>Direct</td>\n",
              "      <td>Corporate</td>\n",
              "      <td>Online TA</td>\n",
              "    </tr>\n",
              "    <tr>\n",
              "      <th>distribution_channel</th>\n",
              "      <td>Direct</td>\n",
              "      <td>Direct</td>\n",
              "      <td>Direct</td>\n",
              "      <td>Corporate</td>\n",
              "      <td>TA/TO</td>\n",
              "    </tr>\n",
              "    <tr>\n",
              "      <th>is_repeated_guest</th>\n",
              "      <td>0</td>\n",
              "      <td>0</td>\n",
              "      <td>0</td>\n",
              "      <td>0</td>\n",
              "      <td>0</td>\n",
              "    </tr>\n",
              "    <tr>\n",
              "      <th>previous_cancellations</th>\n",
              "      <td>0</td>\n",
              "      <td>0</td>\n",
              "      <td>0</td>\n",
              "      <td>0</td>\n",
              "      <td>0</td>\n",
              "    </tr>\n",
              "    <tr>\n",
              "      <th>previous_bookings_not_canceled</th>\n",
              "      <td>0</td>\n",
              "      <td>0</td>\n",
              "      <td>0</td>\n",
              "      <td>0</td>\n",
              "      <td>0</td>\n",
              "    </tr>\n",
              "    <tr>\n",
              "      <th>reserved_room_type</th>\n",
              "      <td>C</td>\n",
              "      <td>C</td>\n",
              "      <td>A</td>\n",
              "      <td>A</td>\n",
              "      <td>A</td>\n",
              "    </tr>\n",
              "    <tr>\n",
              "      <th>assigned_room_type</th>\n",
              "      <td>C</td>\n",
              "      <td>C</td>\n",
              "      <td>C</td>\n",
              "      <td>A</td>\n",
              "      <td>A</td>\n",
              "    </tr>\n",
              "    <tr>\n",
              "      <th>booking_changes</th>\n",
              "      <td>3</td>\n",
              "      <td>4</td>\n",
              "      <td>0</td>\n",
              "      <td>0</td>\n",
              "      <td>0</td>\n",
              "    </tr>\n",
              "    <tr>\n",
              "      <th>deposit_type</th>\n",
              "      <td>No Deposit</td>\n",
              "      <td>No Deposit</td>\n",
              "      <td>No Deposit</td>\n",
              "      <td>No Deposit</td>\n",
              "      <td>No Deposit</td>\n",
              "    </tr>\n",
              "    <tr>\n",
              "      <th>agent</th>\n",
              "      <td></td>\n",
              "      <td></td>\n",
              "      <td></td>\n",
              "      <td>304.0</td>\n",
              "      <td>240.0</td>\n",
              "    </tr>\n",
              "    <tr>\n",
              "      <th>company</th>\n",
              "      <td></td>\n",
              "      <td></td>\n",
              "      <td></td>\n",
              "      <td></td>\n",
              "      <td></td>\n",
              "    </tr>\n",
              "    <tr>\n",
              "      <th>days_in_waiting_list</th>\n",
              "      <td>0</td>\n",
              "      <td>0</td>\n",
              "      <td>0</td>\n",
              "      <td>0</td>\n",
              "      <td>0</td>\n",
              "    </tr>\n",
              "    <tr>\n",
              "      <th>customer_type</th>\n",
              "      <td>Transient</td>\n",
              "      <td>Transient</td>\n",
              "      <td>Transient</td>\n",
              "      <td>Transient</td>\n",
              "      <td>Transient</td>\n",
              "    </tr>\n",
              "    <tr>\n",
              "      <th>adr</th>\n",
              "      <td>0.0</td>\n",
              "      <td>0.0</td>\n",
              "      <td>75.0</td>\n",
              "      <td>75.0</td>\n",
              "      <td>98.0</td>\n",
              "    </tr>\n",
              "    <tr>\n",
              "      <th>required_car_parking_spaces</th>\n",
              "      <td>0</td>\n",
              "      <td>0</td>\n",
              "      <td>0</td>\n",
              "      <td>0</td>\n",
              "      <td>0</td>\n",
              "    </tr>\n",
              "    <tr>\n",
              "      <th>total_of_special_requests</th>\n",
              "      <td>0</td>\n",
              "      <td>0</td>\n",
              "      <td>0</td>\n",
              "      <td>0</td>\n",
              "      <td>1</td>\n",
              "    </tr>\n",
              "    <tr>\n",
              "      <th>reservation_status</th>\n",
              "      <td>Check-Out</td>\n",
              "      <td>Check-Out</td>\n",
              "      <td>Check-Out</td>\n",
              "      <td>Check-Out</td>\n",
              "      <td>Check-Out</td>\n",
              "    </tr>\n",
              "    <tr>\n",
              "      <th>reservation_status_date</th>\n",
              "      <td>07/01/2015</td>\n",
              "      <td>07/01/2015</td>\n",
              "      <td>07/02/2015</td>\n",
              "      <td>07/02/2015</td>\n",
              "      <td>07/03/2015</td>\n",
              "    </tr>\n",
              "    <tr>\n",
              "      <th>Total_stay</th>\n",
              "      <td>0</td>\n",
              "      <td>0</td>\n",
              "      <td>1</td>\n",
              "      <td>1</td>\n",
              "      <td>2</td>\n",
              "    </tr>\n",
              "  </tbody>\n",
              "</table>\n",
              "</div>\n",
              "      <button class=\"colab-df-convert\" onclick=\"convertToInteractive('df-e55c094a-462b-4403-b25c-e1b489bc518e')\"\n",
              "              title=\"Convert this dataframe to an interactive table.\"\n",
              "              style=\"display:none;\">\n",
              "        \n",
              "  <svg xmlns=\"http://www.w3.org/2000/svg\" height=\"24px\"viewBox=\"0 0 24 24\"\n",
              "       width=\"24px\">\n",
              "    <path d=\"M0 0h24v24H0V0z\" fill=\"none\"/>\n",
              "    <path d=\"M18.56 5.44l.94 2.06.94-2.06 2.06-.94-2.06-.94-.94-2.06-.94 2.06-2.06.94zm-11 1L8.5 8.5l.94-2.06 2.06-.94-2.06-.94L8.5 2.5l-.94 2.06-2.06.94zm10 10l.94 2.06.94-2.06 2.06-.94-2.06-.94-.94-2.06-.94 2.06-2.06.94z\"/><path d=\"M17.41 7.96l-1.37-1.37c-.4-.4-.92-.59-1.43-.59-.52 0-1.04.2-1.43.59L10.3 9.45l-7.72 7.72c-.78.78-.78 2.05 0 2.83L4 21.41c.39.39.9.59 1.41.59.51 0 1.02-.2 1.41-.59l7.78-7.78 2.81-2.81c.8-.78.8-2.07 0-2.86zM5.41 20L4 18.59l7.72-7.72 1.47 1.35L5.41 20z\"/>\n",
              "  </svg>\n",
              "      </button>\n",
              "      \n",
              "  <style>\n",
              "    .colab-df-container {\n",
              "      display:flex;\n",
              "      flex-wrap:wrap;\n",
              "      gap: 12px;\n",
              "    }\n",
              "\n",
              "    .colab-df-convert {\n",
              "      background-color: #E8F0FE;\n",
              "      border: none;\n",
              "      border-radius: 50%;\n",
              "      cursor: pointer;\n",
              "      display: none;\n",
              "      fill: #1967D2;\n",
              "      height: 32px;\n",
              "      padding: 0 0 0 0;\n",
              "      width: 32px;\n",
              "    }\n",
              "\n",
              "    .colab-df-convert:hover {\n",
              "      background-color: #E2EBFA;\n",
              "      box-shadow: 0px 1px 2px rgba(60, 64, 67, 0.3), 0px 1px 3px 1px rgba(60, 64, 67, 0.15);\n",
              "      fill: #174EA6;\n",
              "    }\n",
              "\n",
              "    [theme=dark] .colab-df-convert {\n",
              "      background-color: #3B4455;\n",
              "      fill: #D2E3FC;\n",
              "    }\n",
              "\n",
              "    [theme=dark] .colab-df-convert:hover {\n",
              "      background-color: #434B5C;\n",
              "      box-shadow: 0px 1px 3px 1px rgba(0, 0, 0, 0.15);\n",
              "      filter: drop-shadow(0px 1px 2px rgba(0, 0, 0, 0.3));\n",
              "      fill: #FFFFFF;\n",
              "    }\n",
              "  </style>\n",
              "\n",
              "      <script>\n",
              "        const buttonEl =\n",
              "          document.querySelector('#df-e55c094a-462b-4403-b25c-e1b489bc518e button.colab-df-convert');\n",
              "        buttonEl.style.display =\n",
              "          google.colab.kernel.accessAllowed ? 'block' : 'none';\n",
              "\n",
              "        async function convertToInteractive(key) {\n",
              "          const element = document.querySelector('#df-e55c094a-462b-4403-b25c-e1b489bc518e');\n",
              "          const dataTable =\n",
              "            await google.colab.kernel.invokeFunction('convertToInteractive',\n",
              "                                                     [key], {});\n",
              "          if (!dataTable) return;\n",
              "\n",
              "          const docLinkHtml = 'Like what you see? Visit the ' +\n",
              "            '<a target=\"_blank\" href=https://colab.research.google.com/notebooks/data_table.ipynb>data table notebook</a>'\n",
              "            + ' to learn more about interactive tables.';\n",
              "          element.innerHTML = '';\n",
              "          dataTable['output_type'] = 'display_data';\n",
              "          await google.colab.output.renderOutput(dataTable, element);\n",
              "          const docLink = document.createElement('div');\n",
              "          docLink.innerHTML = docLinkHtml;\n",
              "          element.appendChild(docLink);\n",
              "        }\n",
              "      </script>\n",
              "    </div>\n",
              "  </div>\n",
              "  "
            ]
          },
          "metadata": {},
          "execution_count": 36
        }
      ]
    },
    {
      "cell_type": "code",
      "source": [
        "Distrubution_chanel_df=not_canceled_df[\"distribution_channel\"].value_counts().reset_index().rename(columns={\"index\":\"distribution_channel\",\"distribution_channel\":\"Number_of_Bookings\"})\n",
        "Distrubution_chanel_df\n",
        "total_booking=Distrubution_chanel_df[\"Number_of_Bookings\"].sum()\n",
        "Distrubution_chanel_df[\"precentage\"]=(Distrubution_chanel_df[\"Number_of_Bookings\"]/total_booking)*100\n",
        "Distrubution_chanel_df"
      ],
      "metadata": {
        "id": "HYz_qnqi6rZo",
        "colab": {
          "base_uri": "https://localhost:8080/",
          "height": 206
        },
        "outputId": "94155041-a926-43c6-af81-5a184448f396"
      },
      "execution_count": null,
      "outputs": [
        {
          "output_type": "execute_result",
          "data": {
            "text/plain": [
              "  distribution_channel  Number_of_Bookings  precentage\n",
              "0                TA/TO               47729   75.316785\n",
              "1               Direct               11063   17.457512\n",
              "2            Corporate                4433    6.995313\n",
              "3                  GDS                 145    0.228811\n",
              "4            Undefined                   1    0.001578"
            ],
            "text/html": [
              "\n",
              "  <div id=\"df-fc8a3f1d-ebd1-4468-9fb6-aee3dd52f8a3\">\n",
              "    <div class=\"colab-df-container\">\n",
              "      <div>\n",
              "<style scoped>\n",
              "    .dataframe tbody tr th:only-of-type {\n",
              "        vertical-align: middle;\n",
              "    }\n",
              "\n",
              "    .dataframe tbody tr th {\n",
              "        vertical-align: top;\n",
              "    }\n",
              "\n",
              "    .dataframe thead th {\n",
              "        text-align: right;\n",
              "    }\n",
              "</style>\n",
              "<table border=\"1\" class=\"dataframe\">\n",
              "  <thead>\n",
              "    <tr style=\"text-align: right;\">\n",
              "      <th></th>\n",
              "      <th>distribution_channel</th>\n",
              "      <th>Number_of_Bookings</th>\n",
              "      <th>precentage</th>\n",
              "    </tr>\n",
              "  </thead>\n",
              "  <tbody>\n",
              "    <tr>\n",
              "      <th>0</th>\n",
              "      <td>TA/TO</td>\n",
              "      <td>47729</td>\n",
              "      <td>75.316785</td>\n",
              "    </tr>\n",
              "    <tr>\n",
              "      <th>1</th>\n",
              "      <td>Direct</td>\n",
              "      <td>11063</td>\n",
              "      <td>17.457512</td>\n",
              "    </tr>\n",
              "    <tr>\n",
              "      <th>2</th>\n",
              "      <td>Corporate</td>\n",
              "      <td>4433</td>\n",
              "      <td>6.995313</td>\n",
              "    </tr>\n",
              "    <tr>\n",
              "      <th>3</th>\n",
              "      <td>GDS</td>\n",
              "      <td>145</td>\n",
              "      <td>0.228811</td>\n",
              "    </tr>\n",
              "    <tr>\n",
              "      <th>4</th>\n",
              "      <td>Undefined</td>\n",
              "      <td>1</td>\n",
              "      <td>0.001578</td>\n",
              "    </tr>\n",
              "  </tbody>\n",
              "</table>\n",
              "</div>\n",
              "      <button class=\"colab-df-convert\" onclick=\"convertToInteractive('df-fc8a3f1d-ebd1-4468-9fb6-aee3dd52f8a3')\"\n",
              "              title=\"Convert this dataframe to an interactive table.\"\n",
              "              style=\"display:none;\">\n",
              "        \n",
              "  <svg xmlns=\"http://www.w3.org/2000/svg\" height=\"24px\"viewBox=\"0 0 24 24\"\n",
              "       width=\"24px\">\n",
              "    <path d=\"M0 0h24v24H0V0z\" fill=\"none\"/>\n",
              "    <path d=\"M18.56 5.44l.94 2.06.94-2.06 2.06-.94-2.06-.94-.94-2.06-.94 2.06-2.06.94zm-11 1L8.5 8.5l.94-2.06 2.06-.94-2.06-.94L8.5 2.5l-.94 2.06-2.06.94zm10 10l.94 2.06.94-2.06 2.06-.94-2.06-.94-.94-2.06-.94 2.06-2.06.94z\"/><path d=\"M17.41 7.96l-1.37-1.37c-.4-.4-.92-.59-1.43-.59-.52 0-1.04.2-1.43.59L10.3 9.45l-7.72 7.72c-.78.78-.78 2.05 0 2.83L4 21.41c.39.39.9.59 1.41.59.51 0 1.02-.2 1.41-.59l7.78-7.78 2.81-2.81c.8-.78.8-2.07 0-2.86zM5.41 20L4 18.59l7.72-7.72 1.47 1.35L5.41 20z\"/>\n",
              "  </svg>\n",
              "      </button>\n",
              "      \n",
              "  <style>\n",
              "    .colab-df-container {\n",
              "      display:flex;\n",
              "      flex-wrap:wrap;\n",
              "      gap: 12px;\n",
              "    }\n",
              "\n",
              "    .colab-df-convert {\n",
              "      background-color: #E8F0FE;\n",
              "      border: none;\n",
              "      border-radius: 50%;\n",
              "      cursor: pointer;\n",
              "      display: none;\n",
              "      fill: #1967D2;\n",
              "      height: 32px;\n",
              "      padding: 0 0 0 0;\n",
              "      width: 32px;\n",
              "    }\n",
              "\n",
              "    .colab-df-convert:hover {\n",
              "      background-color: #E2EBFA;\n",
              "      box-shadow: 0px 1px 2px rgba(60, 64, 67, 0.3), 0px 1px 3px 1px rgba(60, 64, 67, 0.15);\n",
              "      fill: #174EA6;\n",
              "    }\n",
              "\n",
              "    [theme=dark] .colab-df-convert {\n",
              "      background-color: #3B4455;\n",
              "      fill: #D2E3FC;\n",
              "    }\n",
              "\n",
              "    [theme=dark] .colab-df-convert:hover {\n",
              "      background-color: #434B5C;\n",
              "      box-shadow: 0px 1px 3px 1px rgba(0, 0, 0, 0.15);\n",
              "      filter: drop-shadow(0px 1px 2px rgba(0, 0, 0, 0.3));\n",
              "      fill: #FFFFFF;\n",
              "    }\n",
              "  </style>\n",
              "\n",
              "      <script>\n",
              "        const buttonEl =\n",
              "          document.querySelector('#df-fc8a3f1d-ebd1-4468-9fb6-aee3dd52f8a3 button.colab-df-convert');\n",
              "        buttonEl.style.display =\n",
              "          google.colab.kernel.accessAllowed ? 'block' : 'none';\n",
              "\n",
              "        async function convertToInteractive(key) {\n",
              "          const element = document.querySelector('#df-fc8a3f1d-ebd1-4468-9fb6-aee3dd52f8a3');\n",
              "          const dataTable =\n",
              "            await google.colab.kernel.invokeFunction('convertToInteractive',\n",
              "                                                     [key], {});\n",
              "          if (!dataTable) return;\n",
              "\n",
              "          const docLinkHtml = 'Like what you see? Visit the ' +\n",
              "            '<a target=\"_blank\" href=https://colab.research.google.com/notebooks/data_table.ipynb>data table notebook</a>'\n",
              "            + ' to learn more about interactive tables.';\n",
              "          element.innerHTML = '';\n",
              "          dataTable['output_type'] = 'display_data';\n",
              "          await google.colab.output.renderOutput(dataTable, element);\n",
              "          const docLink = document.createElement('div');\n",
              "          docLink.innerHTML = docLinkHtml;\n",
              "          element.appendChild(docLink);\n",
              "        }\n",
              "      </script>\n",
              "    </div>\n",
              "  </div>\n",
              "  "
            ]
          },
          "metadata": {},
          "execution_count": 37
        }
      ]
    },
    {
      "cell_type": "markdown",
      "source": [
        "### What all manipulations have you done and insights you found?"
      ],
      "metadata": {
        "id": "MSa1f5Uengrz"
      }
    },
    {
      "cell_type": "markdown",
      "source": [
        "Answer Here."
      ],
      "metadata": {
        "id": "LbyXE7I1olp8"
      }
    },
    {
      "cell_type": "markdown",
      "source": [
        "## ***4. Data Vizualization, Storytelling & Experimenting with charts : Understand the relationships between variables***"
      ],
      "metadata": {
        "id": "GF8Ens_Soomf"
      }
    },
    {
      "cell_type": "markdown",
      "source": [
        "#### Chart - 1"
      ],
      "metadata": {
        "id": "0wOQAZs5pc--"
      }
    },
    {
      "cell_type": "code",
      "source": [
        "# Chart - 1 visualization code\n",
        "# Create the plot object\n",
        "# Comparision between City Hotel and Resort Hotel in terms of Number of Bookings\n",
        "Type_hotel.plot(kind='bar',color=\"Blue\")\n",
        "plt.xlabel(\"Hotel type\")\n",
        "plt.ylabel(\"Number of Booking\")"
      ],
      "metadata": {
        "id": "7v_ESjsspbW7",
        "colab": {
          "base_uri": "https://localhost:8080/",
          "height": 349
        },
        "outputId": "ffeb09ab-b73b-4cb2-a4ca-e25073513599"
      },
      "execution_count": null,
      "outputs": [
        {
          "output_type": "execute_result",
          "data": {
            "text/plain": [
              "Text(0, 0.5, 'Number of Booking')"
            ]
          },
          "metadata": {},
          "execution_count": 39
        },
        {
          "output_type": "display_data",
          "data": {
            "text/plain": [
              "<Figure size 432x288 with 1 Axes>"
            ],
            "image/png": "[encoded data removed]"
          },
          "metadata": {
            "needs_background": "light"
          }
        }
      ]
    },
    {
      "cell_type": "markdown",
      "source": [
        "##### 1. Why did you pick the specific chart?"
      ],
      "metadata": {
        "id": "K5QZ13OEpz2H"
      }
    },
    {
      "cell_type": "markdown",
      "source": [
        "It is Univariate analysis, where we compare categorical values in one columns with variable in another column so we have choosed bar graph For percentage distrubution we choosed pi chart"
      ],
      "metadata": {
        "id": "XESiWehPqBRc"
      }
    },
    {
      "cell_type": "markdown",
      "source": [
        "##### 2. What is/are the insight(s) found from the chart?\n",
        "\n",
        "Bookings are more in city hotel compared to resort hotel."
      ],
      "metadata": {
        "id": "lQ7QKXXCp7Bj"
      }
    },
    {
      "cell_type": "markdown",
      "source": [
        "##### 3. Will the gained insights help creating a positive business impact? \n",
        "Are there any insights that lead to negative growth? Justify with specific reason."
      ],
      "metadata": {
        "id": "448CDAPjqfQr"
      }
    },
    {
      "cell_type": "markdown",
      "source": [
        "**Anyone who starts new Hotel business can opt to city hotel over to resort hotel as they get more cutomers.**"
      ],
      "metadata": {
        "id": "3cspy4FjqxJW"
      }
    },
    {
      "cell_type": "markdown",
      "source": [
        "#### Chart - 2"
      ],
      "metadata": {
        "id": "KSlN3yHqYklG"
      }
    },
    {
      "cell_type": "code",
      "source": [
        "# Chart - 2 visualization code\n",
        "Prepered_meal_type.plot(kind='bar',color=\"Green\")\n",
        "plt.xlabel(\"Meal_type\")\n",
        "plt.ylabel(\"Number_meal_prepered\")"
      ],
      "metadata": {
        "id": "R4YgtaqtYklH",
        "colab": {
          "base_uri": "https://localhost:8080/",
          "height": 340
        },
        "outputId": "80a2751a-46c4-4c8d-dd12-9df55885dd66"
      },
      "execution_count": null,
      "outputs": [
        {
          "output_type": "execute_result",
          "data": {
            "text/plain": [
              "Text(0, 0.5, 'Number_meal_prepered')"
            ]
          },
          "metadata": {},
          "execution_count": 48
        },
        {
          "output_type": "display_data",
          "data": {
            "text/plain": [
              "<Figure size 432x288 with 1 Axes>"
            ],
            "image/png": "[encoded data removed]"
          },
          "metadata": {
            "needs_background": "light"
          }
        }
      ]
    },
    {
      "cell_type": "markdown",
      "source": [
        "##### 1. Why did you pick the specific chart?"
      ],
      "metadata": {
        "id": "t6dVpIINYklI"
      }
    },
    {
      "cell_type": "markdown",
      "source": [
        "> it is Univariate analysis, where we compare categorical values (Meal Type) in one columns with variable in another column so we have choosed bar graph"
      ],
      "metadata": {
        "id": "5aaW0BYyYklI"
      }
    },
    {
      "cell_type": "markdown",
      "source": [
        "##### 2. What is/are the insight(s) found from the chart?"
      ],
      "metadata": {
        "id": "ijmpgYnKYklI"
      }
    },
    {
      "cell_type": "markdown",
      "source": [
        ">Most customers prefer Bread & Breakfast (BB) meal."
      ],
      "metadata": {
        "id": "PSx9atu2YklI"
      }
    },
    {
      "cell_type": "markdown",
      "source": [
        "##### 3. Will the gained insights help creating a positive business impact? \n",
        "Are there any insights that lead to negative growth? Justify with specific reason."
      ],
      "metadata": {
        "id": "-JiQyfWJYklI"
      }
    },
    {
      "cell_type": "markdown",
      "source": [
        ">As Most customers prefer Bread & Breakfast (BB) meal , Hotels can give some attractive offers on upon choosing this BB type meal which will hepl to attract more customers "
      ],
      "metadata": {
        "id": "BcBbebzrYklV"
      }
    },
    {
      "cell_type": "markdown",
      "source": [
        "#### Chart - 3"
      ],
      "metadata": {
        "id": "EM7whBJCYoAo"
      }
    },
    {
      "cell_type": "code",
      "source": [
        "# Chart - 3 visualization code\n",
        "Booking_months.plot(kind='bar')\n",
        "plt.xlabel(\"Months\")\n",
        "plt.ylabel(\"Number of Booking\")"
      ],
      "metadata": {
        "id": "t6GMdE67YoAp",
        "colab": {
          "base_uri": "https://localhost:8080/",
          "height": 342
        },
        "outputId": "75abb6b0-d71d-4c58-d928-592683bad21e"
      },
      "execution_count": null,
      "outputs": [
        {
          "output_type": "execute_result",
          "data": {
            "text/plain": [
              "Text(0, 0.5, 'Number of Booking')"
            ]
          },
          "metadata": {},
          "execution_count": 49
        },
        {
          "output_type": "display_data",
          "data": {
            "text/plain": [
              "<Figure size 432x288 with 1 Axes>"
            ],
            "image/png": "[encoded data removed]"
          },
          "metadata": {
            "needs_background": "light"
          }
        }
      ]
    },
    {
      "cell_type": "markdown",
      "source": [
        "##### 1. Why did you pick the specific chart?"
      ],
      "metadata": {
        "id": "fge-S5ZAYoAp"
      }
    },
    {
      "cell_type": "markdown",
      "source": [
        ">It is Univariate analysis, where we compare categorical values (Months) in one columns with variable in another column so we have choosed bar graph.\n",
        "\n",
        "\n"
      ],
      "metadata": {
        "id": "5dBItgRVYoAp"
      }
    },
    {
      "cell_type": "markdown",
      "source": [
        "##### 2. What is/are the insight(s) found from the chart?"
      ],
      "metadata": {
        "id": "85gYPyotYoAp"
      }
    },
    {
      "cell_type": "markdown",
      "source": [
        ">August is the busiest month followed by july interms of number of visitors in this case hotel owner can make his team ready to give optimum service to customer and can also encash this high demand of hotel rooms to make more profit. Hotel owners can give exlusive offers at low demand time to atrract more number of customers to ensure his business to run steadily"
      ],
      "metadata": {
        "id": "4jstXR6OYoAp"
      }
    },
    {
      "cell_type": "markdown",
      "source": [
        "##### 3. Will the gained insights help creating a positive business impact? \n",
        "Are there any insights that lead to negative growth? Justify with specific reason."
      ],
      "metadata": {
        "id": "RoGjAbkUYoAp"
      }
    },
    {
      "cell_type": "markdown",
      "source": [
        "Answer Here"
      ],
      "metadata": {
        "id": "zfJ8IqMcYoAp"
      }
    },
    {
      "cell_type": "markdown",
      "source": [
        "#### Chart - 4"
      ],
      "metadata": {
        "id": "4Of9eVA-YrdM"
      }
    },
    {
      "cell_type": "code",
      "source": [
        "# Chart - 4 visualization code\n",
        "country_wise_visitor[:10].plot(kind=\"bar\")\n",
        "plt.xlabel(\"No of Bookings\")\n",
        "plt.ylabel(\"contry\")\n"
      ],
      "metadata": {
        "id": "irlUoxc8YrdO",
        "colab": {
          "base_uri": "https://localhost:8080/",
          "height": 309
        },
        "outputId": "17f84c20-0045-4394-8a18-7099e4cbe7c1"
      },
      "execution_count": null,
      "outputs": [
        {
          "output_type": "execute_result",
          "data": {
            "text/plain": [
              "Text(0, 0.5, 'contry')"
            ]
          },
          "metadata": {},
          "execution_count": 50
        },
        {
          "output_type": "display_data",
          "data": {
            "text/plain": [
              "<Figure size 432x288 with 1 Axes>"
            ],
            "image/png": "[encoded data removed]"
          },
          "metadata": {
            "needs_background": "light"
          }
        }
      ]
    },
    {
      "cell_type": "markdown",
      "source": [
        "##### 1. Why did you pick the specific chart?"
      ],
      "metadata": {
        "id": "iky9q4vBYrdO"
      }
    },
    {
      "cell_type": "markdown",
      "source": [
        "Answer Here."
      ],
      "metadata": {
        "id": "aJRCwT6DYrdO"
      }
    },
    {
      "cell_type": "markdown",
      "source": [
        "##### 2. What is/are the insight(s) found from the chart?"
      ],
      "metadata": {
        "id": "F6T5p64dYrdO"
      }
    },
    {
      "cell_type": "markdown",
      "source": [
        "Answer Here"
      ],
      "metadata": {
        "id": "Xx8WAJvtYrdO"
      }
    },
    {
      "cell_type": "markdown",
      "source": [
        "##### 3. Will the gained insights help creating a positive business impact? \n",
        "Are there any insights that lead to negative growth? Justify with specific reason."
      ],
      "metadata": {
        "id": "y-Ehk30pYrdP"
      }
    },
    {
      "cell_type": "markdown",
      "source": [
        "Answer Here"
      ],
      "metadata": {
        "id": "jLNxxz7MYrdP"
      }
    },
    {
      "cell_type": "markdown",
      "source": [
        "#### Chart - 5"
      ],
      "metadata": {
        "id": "bamQiAODYuh1"
      }
    },
    {
      "cell_type": "code",
      "source": [
        "# Chart - 5 visualization code\n",
        "# Find out relation between cancelation and days in waiting list\n",
        "canceled = df[df['is_canceled'] == 1]\n",
        "days_in_waiting_list_canceled=canceled[~canceled['days_in_waiting_list'].isna()]['days_in_waiting_list']\n",
        "plt.hist(days_in_waiting_list_canceled.values, color='green')\n",
        "plt.xlabel('days_in_waiting_list')\n",
        "plt.ylabel('No of Cancellations')"
      ],
      "metadata": {
        "id": "TIJwrbroYuh3",
        "colab": {
          "base_uri": "https://localhost:8080/",
          "height": 302
        },
        "outputId": "41f0011f-4030-4029-8f0c-2ed22f517255"
      },
      "execution_count": null,
      "outputs": [
        {
          "output_type": "execute_result",
          "data": {
            "text/plain": [
              "Text(0, 0.5, 'No of Cancellations')"
            ]
          },
          "metadata": {},
          "execution_count": 51
        },
        {
          "output_type": "display_data",
          "data": {
            "text/plain": [
              "<Figure size 432x288 with 1 Axes>"
            ],
            "image/png": "[encoded data removed]"
          },
          "metadata": {
            "needs_background": "light"
          }
        }
      ]
    },
    {
      "cell_type": "code",
      "source": [
        "not_canceled = df[df['is_canceled'] == 0]\n",
        "Waiting_list_not_canceled=not_canceled[~not_canceled['days_in_waiting_list'].isna()]['days_in_waiting_list']\n",
        "plt.hist(Waiting_list_not_canceled.values, color='green')\n",
        "plt.xlabel('days_in_waiting_list')\n",
        "plt.ylabel('Number of Conformation')"
      ],
      "metadata": {
        "id": "iygSbDHT9vbO",
        "colab": {
          "base_uri": "https://localhost:8080/",
          "height": 298
        },
        "outputId": "b31c604c-3dd3-4f28-9845-6b0d7aef4317"
      },
      "execution_count": null,
      "outputs": [
        {
          "output_type": "execute_result",
          "data": {
            "text/plain": [
              "Text(0, 0.5, 'Number of Conformation')"
            ]
          },
          "metadata": {},
          "execution_count": 41
        },
        {
          "output_type": "display_data",
          "data": {
            "text/plain": [
              "<Figure size 432x288 with 1 Axes>"
            ],
            "image/png": "[encoded data removed]"
          },
          "metadata": {
            "needs_background": "light"
          }
        }
      ]
    },
    {
      "cell_type": "code",
      "source": [
        "not_canceled = df[df['is_canceled'] == 0]\n",
        "Waiting_list_not_canceled=not_canceled[~not_canceled['days_in_waiting_list'].isna()]['days_in_waiting_list']\n",
        "plt.hist(Waiting_list_not_canceled.values, color='green')\n",
        "plt.xlabel('days_in_waiting_list')\n",
        "plt.ylabel('Number of Conformation')"
      ],
      "metadata": {
        "id": "2fUjA3za96cP",
        "colab": {
          "base_uri": "https://localhost:8080/",
          "height": 298
        },
        "outputId": "59173935-137c-481d-d62f-fe8d6c1d125f"
      },
      "execution_count": null,
      "outputs": [
        {
          "output_type": "execute_result",
          "data": {
            "text/plain": [
              "Text(0, 0.5, 'Number of Conformation')"
            ]
          },
          "metadata": {},
          "execution_count": 42
        },
        {
          "output_type": "display_data",
          "data": {
            "text/plain": [
              "<Figure size 432x288 with 1 Axes>"
            ],
            "image/png": "[encoded data removed]"
          },
          "metadata": {
            "needs_background": "light"
          }
        }
      ]
    },
    {
      "cell_type": "markdown",
      "source": [
        "##### 1. Why did you pick the specific chart?"
      ],
      "metadata": {
        "id": "QHF8YVU7Yuh3"
      }
    },
    {
      "cell_type": "markdown",
      "source": [
        ">Histogram  is selected to check frequency of cancellation/confirmation against waiting time"
      ],
      "metadata": {
        "id": "dcxuIMRPYuh3"
      }
    },
    {
      "cell_type": "markdown",
      "source": [
        "##### 2. What is/are the insight(s) found from the chart?"
      ],
      "metadata": {
        "id": "GwzvFGzlYuh3"
      }
    },
    {
      "cell_type": "markdown",
      "source": [
        ">After analysing both chart, its understood that both cancelation and confirmation frequency lies between waiting time range 0-50 days\n",
        "so we can conclude that cancellation has no relation with waiting time"
      ],
      "metadata": {
        "id": "uyqkiB8YYuh3"
      }
    },
    {
      "cell_type": "markdown",
      "source": [
        "##### 3. Will the gained insights help creating a positive business impact? \n",
        "Are there any insights that lead to negative growth? Justify with specific reason."
      ],
      "metadata": {
        "id": "qYpmQ266Yuh3"
      }
    },
    {
      "cell_type": "markdown",
      "source": [
        "Answer Here"
      ],
      "metadata": {
        "id": "_WtzZ_hCYuh4"
      }
    },
    {
      "cell_type": "markdown",
      "source": [
        "#### Chart - 6"
      ],
      "metadata": {
        "id": "OH-pJp9IphqM"
      }
    },
    {
      "cell_type": "code",
      "source": [
        "# Chart - 6 visualization code\n",
        "# understand average stay of different type of customer\n",
        "Avg_stay_df.plot(kind='bar')\n",
        "plt.xlabel(\"Customer Type\")\n",
        "plt.ylabel(\"Avg_stay_in_day\")"
      ],
      "metadata": {
        "id": "kuRf4wtuphqN",
        "colab": {
          "base_uri": "https://localhost:8080/",
          "height": 362
        },
        "outputId": "c741d019-85fb-4cbe-a25a-4a0a2eb0517c"
      },
      "execution_count": null,
      "outputs": [
        {
          "output_type": "execute_result",
          "data": {
            "text/plain": [
              "Text(0, 0.5, 'Avg_stay_in_day')"
            ]
          },
          "metadata": {},
          "execution_count": 43
        },
        {
          "output_type": "display_data",
          "data": {
            "text/plain": [
              "<Figure size 432x288 with 1 Axes>"
            ],
            "image/png": "[encoded data removed]"
          },
          "metadata": {
            "needs_background": "light"
          }
        }
      ]
    },
    {
      "cell_type": "markdown",
      "source": [
        "##### 1. Why did you pick the specific chart?"
      ],
      "metadata": {
        "id": "bbFf2-_FphqN"
      }
    },
    {
      "cell_type": "markdown",
      "source": [
        ">it is Univariate analysis, where we compare categorical values (Customer Tpe) in one columns with variable in another column so we have choosed bar graph"
      ],
      "metadata": {
        "id": "loh7H2nzphqN"
      }
    },
    {
      "cell_type": "markdown",
      "source": [
        "##### 2. What is/are the insight(s) found from the chart?"
      ],
      "metadata": {
        "id": "_ouA3fa0phqN"
      }
    },
    {
      "cell_type": "markdown",
      "source": [
        ">Here we found that Avg Stay time for All three type of customer is three days and only contract type customer have more stay i.e 5 days in Hotel"
      ],
      "metadata": {
        "id": "VECbqPI7phqN"
      }
    },
    {
      "cell_type": "markdown",
      "source": [
        "##### 3. Will the gained insights help creating a positive business impact? \n",
        "Are there any insights that lead to negative growth? Justify with specific reason."
      ],
      "metadata": {
        "id": "Seke61FWphqN"
      }
    },
    {
      "cell_type": "markdown",
      "source": [
        ">We understood that mean stay time for maximum customer is 3 days , Hotels can offer atractive offers in off days for longer stay which may helps to increase number of customer as well as maximum ocupancy of rooms even in off days"
      ],
      "metadata": {
        "id": "DW4_bGpfphqN"
      }
    },
    {
      "cell_type": "markdown",
      "source": [
        "#### Chart - 7"
      ],
      "metadata": {
        "id": "PIIx-8_IphqN"
      }
    },
    {
      "cell_type": "code",
      "source": [
        "# Chart - 7 visualization code\n",
        "# To identify which room type is in most demand and which room type generate the highest adr.\n",
        "fig, axes = plt.subplots(1, 2, figsize = (20, 9))\n",
        "room = df.groupby('assigned_room_type')\n",
        "df['Num_of_bookings'] = room.size()\n",
        "sns.countplot(ax = axes[0], x = df['assigned_room_type'])\n",
        "sns.boxplot(ax = axes[1], x = df['assigned_room_type'], y = df['adr'])\n",
        "plt.show()"
      ],
      "metadata": {
        "id": "lqAIGUfyphqO",
        "colab": {
          "base_uri": "https://localhost:8080/",
          "height": 456
        },
        "outputId": "081235e1-be05-4993-8c38-f3cd8813a30b"
      },
      "execution_count": null,
      "outputs": [
        {
          "output_type": "display_data",
          "data": {
            "text/plain": [
              "<Figure size 1440x648 with 2 Axes>"
            ],
            "image/png": "[encoded data removed]"
          },
          "metadata": {
            "needs_background": "light"
          }
        }
      ]
    },
    {
      "cell_type": "markdown",
      "source": [
        "##### 1. Why did you pick the specific chart?"
      ],
      "metadata": {
        "id": "t27r6nlMphqO"
      }
    },
    {
      "cell_type": "markdown",
      "source": [
        ">As we are performing Multivariate Analysis to identify which room type is in most demand and which room type generate the highest adr, we have choosed bar graph and boxplot to understand better"
      ],
      "metadata": {
        "id": "iv6ro40sphqO"
      }
    },
    {
      "cell_type": "markdown",
      "source": [
        "##### 2. What is/are the insight(s) found from the chart?"
      ],
      "metadata": {
        "id": "r2jJGEOYphqO"
      }
    },
    {
      "cell_type": "markdown",
      "source": [
        ">From the above graphs, we ca identify that roomtype A is the most demanded rooms by the customer while booking, whereas room types H,G,C are generating more adr respectively."
      ],
      "metadata": {
        "id": "Po6ZPi4hphqO"
      }
    },
    {
      "cell_type": "markdown",
      "source": [
        "##### 3. Will the gained insights help creating a positive business impact? \n",
        "Are there any insights that lead to negative growth? Justify with specific reason."
      ],
      "metadata": {
        "id": "b0JNsNcRphqO"
      }
    },
    {
      "cell_type": "markdown",
      "source": [
        ">Hotel management sholud try to increase room types A, to ensure no customer is missed because of unavialability of specific type of rooms. as room type  H generating moe revenue can give some addon facility to for H type room in order atracts more customer for this specific room type"
      ],
      "metadata": {
        "id": "xvSq8iUTphqO"
      }
    },
    {
      "cell_type": "markdown",
      "source": [
        "#### Chart - 8"
      ],
      "metadata": {
        "id": "BZR9WyysphqO"
      }
    },
    {
      "cell_type": "code",
      "source": [
        "# Chart - 8 visualization code\n",
        "# Percentage of bookings in each hotel\n",
        "plt.rcParams['figure.figsize'] = 6,6\n",
        "labels = Distrubution_chanel_df['distribution_channel'].value_counts().index.tolist()\n",
        "sizes = Distrubution_chanel_df['precentage'].tolist()\n",
        "explode = (0, 0,0.7,0.3,0.8)\n",
        "colors = ['#66b3ff', '#ff9999']\n",
        "plt.pie(sizes, explode=explode,labels=labels, colors=colors, autopct='%1.1f%%',startangle=90, textprops={'fontsize': 14})"
      ],
      "metadata": {
        "id": "TdPTWpAVphqO",
        "colab": {
          "base_uri": "https://localhost:8080/",
          "height": 721
        },
        "outputId": "633774c3-f282-4b99-bacc-44c96fabbdd1"
      },
      "execution_count": null,
      "outputs": [
        {
          "output_type": "execute_result",
          "data": {
            "text/plain": [
              "([<matplotlib.patches.Wedge at 0x7f30dacc9fd0>,\n",
              "  <matplotlib.patches.Wedge at 0x7f30dacd56d0>,\n",
              "  <matplotlib.patches.Wedge at 0x7f30dacc9e20>,\n",
              "  <matplotlib.patches.Wedge at 0x7f30dace1400>,\n",
              "  <matplotlib.patches.Wedge at 0x7f30dace1a90>],\n",
              " [Text(-0.7700382590734334, -0.7855196239198332, 'TA/TO'),\n",
              "  Text(0.9270705502290175, 0.5920643503016094, 'Direct'),\n",
              "  Text(0.4177876060378136, 1.7508436584233307, 'Corporate'),\n",
              "  Text(0.010202937174137608, 1.3999628209609785, 'GDS'),\n",
              "  Text(9.49701358481204e-05, 1.8999999976264932, 'Undefined')],\n",
              " [Text(-0.4200208685855091, -0.42846524941081804, '75.3%'),\n",
              "  Text(0.5056748455794641, 0.3229441910736051, '17.5%'),\n",
              "  Text(0.301735493249532, 1.2644981977501832, '7.0%'),\n",
              "  Text(0.006559031040517034, 0.8999760991892003, '0.2%'),\n",
              "  Text(6.997799483545713e-05, 1.3999999982511002, '0.0%')])"
            ]
          },
          "metadata": {},
          "execution_count": 53
        },
        {
          "output_type": "display_data",
          "data": {
            "text/plain": [
              "<Figure size 432x432 with 1 Axes>"
            ],
            "image/png": "[encoded data removed]"
          },
          "metadata": {}
        }
      ]
    },
    {
      "cell_type": "markdown",
      "source": [
        "##### 1. Why did you pick the specific chart?"
      ],
      "metadata": {
        "id": "jj7wYXLtphqO"
      }
    },
    {
      "cell_type": "markdown",
      "source": [
        "Answer Here."
      ],
      "metadata": {
        "id": "Ob8u6rCTphqO"
      }
    },
    {
      "cell_type": "markdown",
      "source": [
        "##### 2. What is/are the insight(s) found from the chart?"
      ],
      "metadata": {
        "id": "eZrbJ2SmphqO"
      }
    },
    {
      "cell_type": "markdown",
      "source": [
        ">From above graph we understood that more number of booking are made by Travel agencies which is almost 75% where direct booking is 16%."
      ],
      "metadata": {
        "id": "mZtgC_hjphqO"
      }
    },
    {
      "cell_type": "markdown",
      "source": [
        "##### 3. Will the gained insights help creating a positive business impact? \n",
        "Are there any insights that lead to negative growth? Justify with specific reason."
      ],
      "metadata": {
        "id": "rFu4xreNphqO"
      }
    },
    {
      "cell_type": "markdown",
      "source": [
        ">The hotel management can offer discounts, complimentary services and offers on direct bookings as the hotel doesn’t pay commissions to third parties and maintains a direct relationship with the customer when a customer books the hotel directly."
      ],
      "metadata": {
        "id": "ey_0qi68phqO"
      }
    },
    {
      "cell_type": "markdown",
      "source": [
        "###Chart - 9 - Correlation Heatmap\n",
        "\n",
        "> Indented block\n",
        "\n",
        "\n",
        "\n",
        "1.   List item\n",
        "2.   List item"
      ],
      "metadata": {
        "id": "YJ55k-q6phqO"
      }
    },
    {
      "cell_type": "code",
      "source": [
        "# Correlation Heatmap visualization code\n",
        "dfC=df[['hotel','lead_time', 'meal',\n",
        "       'country', 'market_segment', 'distribution_channel',\n",
        "       'is_repeated_guest', 'previous_cancellations',\n",
        "       'previous_bookings_not_canceled', 'reserved_room_type',\n",
        "       'assigned_room_type', 'booking_changes', 'deposit_type', 'agent',\n",
        "       'company', 'days_in_waiting_list', 'customer_type', 'adr',\n",
        "       'required_car_parking_spaces',]]"
      ],
      "metadata": {
        "id": "B2aS4O1ophqO"
      },
      "execution_count": null,
      "outputs": []
    },
    {
      "cell_type": "code",
      "source": [
        "corrmat = dfC.corr()\n",
        "f, ax = plt.subplots(figsize=(12, 7))\n",
        "sns.heatmap(corrmat,annot = True,fmt='.2f', annot_kws={'size': 8},  vmax=.8, square=True);"
      ],
      "metadata": {
        "id": "Bj4XbmVfAV7m",
        "colab": {
          "base_uri": "https://localhost:8080/",
          "height": 586
        },
        "outputId": "29913f1d-d55a-4cf1-b680-85d879e3d5be"
      },
      "execution_count": null,
      "outputs": [
        {
          "output_type": "display_data",
          "data": {
            "text/plain": [
              "<Figure size 864x504 with 2 Axes>"
            ],
            "image/png": "[encoded data removed]"
          },
          "metadata": {
            "needs_background": "light"
          }
        }
      ]
    },
    {
      "cell_type": "markdown",
      "source": [
        "##### 1. Why did you pick the specific chart?"
      ],
      "metadata": {
        "id": "gCFgpxoyphqP"
      }
    },
    {
      "cell_type": "markdown",
      "source": [
        "Answer Here."
      ],
      "metadata": {
        "id": "TVxDimi2phqP"
      }
    },
    {
      "cell_type": "markdown",
      "source": [
        "##### 2. What is/are the insight(s) found from the chart?"
      ],
      "metadata": {
        "id": "OVtJsKN_phqQ"
      }
    },
    {
      "cell_type": "markdown",
      "source": [
        "Answer Here"
      ],
      "metadata": {
        "id": "ngGi97qjphqQ"
      }
    },
    {
      "cell_type": "markdown",
      "source": [
        "##### 3. Will the gained insights help creating a positive business impact? \n",
        "Are there any insights that lead to negative growth? Justify with specific reason."
      ],
      "metadata": {
        "id": "lssrdh5qphqQ"
      }
    },
    {
      "cell_type": "markdown",
      "source": [
        "Answer Here"
      ],
      "metadata": {
        "id": "tBpY5ekJphqQ"
      }
    },
    {
      "cell_type": "markdown",
      "source": [
        "#### Chart - 10"
      ],
      "metadata": {
        "id": "U2RJ9gkRphqQ"
      }
    },
    {
      "cell_type": "code",
      "source": [
        "# Pair Plot visualization code\n",
        "# Pair Plot visualization code\n",
        "# Length of stay vs adr\n",
        "plt.figure(figsize = (18,9))\n",
        "sns.scatterplot(y = 'adr', x = 'Total_stay', data = df)\n",
        "plt.show()"
      ],
      "metadata": {
        "id": "GM7a4YP4phqQ",
        "colab": {
          "base_uri": "https://localhost:8080/",
          "height": 413
        },
        "outputId": "9fdaa906-caa8-4527-c1e8-4b5c5efbd2ac"
      },
      "execution_count": null,
      "outputs": [
        {
          "output_type": "error",
          "ename": "ValueError",
          "evalue": "ignored",
          "traceback": [
            "\u001b[0;31m---------------------------------------------------------------------------\u001b[0m",
            "\u001b[0;31mValueError\u001b[0m                                Traceback (most recent call last)",
            "\u001b[0;32m<ipython-input-55-719a2d2bd47e>\u001b[0m in \u001b[0;36m<module>\u001b[0;34m\u001b[0m\n\u001b[1;32m      3\u001b[0m \u001b[0;31m# Length of stay vs adr\u001b[0m\u001b[0;34m\u001b[0m\u001b[0;34m\u001b[0m\u001b[0;34m\u001b[0m\u001b[0m\n\u001b[1;32m      4\u001b[0m \u001b[0mplt\u001b[0m\u001b[0;34m.\u001b[0m\u001b[0mfigure\u001b[0m\u001b[0;34m(\u001b[0m\u001b[0mfigsize\u001b[0m \u001b[0;34m=\u001b[0m \u001b[0;34m(\u001b[0m\u001b[0;36m18\u001b[0m\u001b[0;34m,\u001b[0m\u001b[0;36m9\u001b[0m\u001b[0;34m)\u001b[0m\u001b[0;34m)\u001b[0m\u001b[0;34m\u001b[0m\u001b[0;34m\u001b[0m\u001b[0m\n\u001b[0;32m----> 5\u001b[0;31m \u001b[0msns\u001b[0m\u001b[0;34m.\u001b[0m\u001b[0mcountplot\u001b[0m\u001b[0;34m(\u001b[0m\u001b[0my\u001b[0m \u001b[0;34m=\u001b[0m \u001b[0;34m'adr'\u001b[0m\u001b[0;34m,\u001b[0m \u001b[0mx\u001b[0m \u001b[0;34m=\u001b[0m \u001b[0;34m'Total_stay'\u001b[0m\u001b[0;34m,\u001b[0m \u001b[0mdata\u001b[0m \u001b[0;34m=\u001b[0m \u001b[0mdf\u001b[0m\u001b[0;34m)\u001b[0m\u001b[0;34m\u001b[0m\u001b[0;34m\u001b[0m\u001b[0m\n\u001b[0m\u001b[1;32m      6\u001b[0m \u001b[0mplt\u001b[0m\u001b[0;34m.\u001b[0m\u001b[0mshow\u001b[0m\u001b[0;34m(\u001b[0m\u001b[0;34m)\u001b[0m\u001b[0;34m\u001b[0m\u001b[0;34m\u001b[0m\u001b[0m\n",
            "\u001b[0;32m/usr/local/lib/python3.8/dist-packages/seaborn/_decorators.py\u001b[0m in \u001b[0;36minner_f\u001b[0;34m(*args, **kwargs)\u001b[0m\n\u001b[1;32m     44\u001b[0m             )\n\u001b[1;32m     45\u001b[0m         \u001b[0mkwargs\u001b[0m\u001b[0;34m.\u001b[0m\u001b[0mupdate\u001b[0m\u001b[0;34m(\u001b[0m\u001b[0;34m{\u001b[0m\u001b[0mk\u001b[0m\u001b[0;34m:\u001b[0m \u001b[0marg\u001b[0m \u001b[0;32mfor\u001b[0m \u001b[0mk\u001b[0m\u001b[0;34m,\u001b[0m \u001b[0marg\u001b[0m \u001b[0;32min\u001b[0m \u001b[0mzip\u001b[0m\u001b[0;34m(\u001b[0m\u001b[0msig\u001b[0m\u001b[0;34m.\u001b[0m\u001b[0mparameters\u001b[0m\u001b[0;34m,\u001b[0m \u001b[0margs\u001b[0m\u001b[0;34m)\u001b[0m\u001b[0;34m}\u001b[0m\u001b[0;34m)\u001b[0m\u001b[0;34m\u001b[0m\u001b[0;34m\u001b[0m\u001b[0m\n\u001b[0;32m---> 46\u001b[0;31m         \u001b[0;32mreturn\u001b[0m \u001b[0mf\u001b[0m\u001b[0;34m(\u001b[0m\u001b[0;34m**\u001b[0m\u001b[0mkwargs\u001b[0m\u001b[0;34m)\u001b[0m\u001b[0;34m\u001b[0m\u001b[0;34m\u001b[0m\u001b[0m\n\u001b[0m\u001b[1;32m     47\u001b[0m     \u001b[0;32mreturn\u001b[0m \u001b[0minner_f\u001b[0m\u001b[0;34m\u001b[0m\u001b[0;34m\u001b[0m\u001b[0m\n\u001b[1;32m     48\u001b[0m \u001b[0;34m\u001b[0m\u001b[0m\n",
            "\u001b[0;32m/usr/local/lib/python3.8/dist-packages/seaborn/categorical.py\u001b[0m in \u001b[0;36mcountplot\u001b[0;34m(x, y, hue, data, order, hue_order, orient, color, palette, saturation, dodge, ax, **kwargs)\u001b[0m\n\u001b[1;32m   3594\u001b[0m         \u001b[0my\u001b[0m \u001b[0;34m=\u001b[0m \u001b[0mx\u001b[0m\u001b[0;34m\u001b[0m\u001b[0;34m\u001b[0m\u001b[0m\n\u001b[1;32m   3595\u001b[0m     \u001b[0;32melif\u001b[0m \u001b[0mx\u001b[0m \u001b[0;32mis\u001b[0m \u001b[0;32mnot\u001b[0m \u001b[0;32mNone\u001b[0m \u001b[0;32mand\u001b[0m \u001b[0my\u001b[0m \u001b[0;32mis\u001b[0m \u001b[0;32mnot\u001b[0m \u001b[0;32mNone\u001b[0m\u001b[0;34m:\u001b[0m\u001b[0;34m\u001b[0m\u001b[0;34m\u001b[0m\u001b[0m\n\u001b[0;32m-> 3596\u001b[0;31m         \u001b[0;32mraise\u001b[0m \u001b[0mValueError\u001b[0m\u001b[0;34m(\u001b[0m\u001b[0;34m\"Cannot pass values for both `x` and `y`\"\u001b[0m\u001b[0;34m)\u001b[0m\u001b[0;34m\u001b[0m\u001b[0;34m\u001b[0m\u001b[0m\n\u001b[0m\u001b[1;32m   3597\u001b[0m \u001b[0;34m\u001b[0m\u001b[0m\n\u001b[1;32m   3598\u001b[0m     plotter = _CountPlotter(\n",
            "\u001b[0;31mValueError\u001b[0m: Cannot pass values for both `x` and `y`"
          ]
        },
        {
          "output_type": "display_data",
          "data": {
            "text/plain": [
              "<Figure size 1296x648 with 0 Axes>"
            ]
          },
          "metadata": {}
        }
      ]
    },
    {
      "cell_type": "code",
      "source": [
        "# We will drop the value which is exceeding ADR 5000 & plot the scatterplot to remove outliers\n",
        "df.drop(df[df['adr'] > 5000].index, inplace = True)\n",
        "plt.figure(figsize = (15,7))\n",
        "sns.scatterplot(y = 'adr', x = 'Total_stay', data = df)\n",
        "plt.show()"
      ],
      "metadata": {
        "id": "cFEThDllAsNZ",
        "colab": {
          "base_uri": "https://localhost:8080/",
          "height": 443
        },
        "outputId": "02512759-251d-4bb7-84ec-56fc604e7c9b"
      },
      "execution_count": null,
      "outputs": [
        {
          "output_type": "display_data",
          "data": {
            "text/plain": [
              "<Figure size 1080x504 with 1 Axes>"
            ],
            "image/png": "[encoded data removed]"
          },
          "metadata": {
            "needs_background": "light"
          }
        }
      ]
    },
    {
      "cell_type": "markdown",
      "source": [
        "##### 1. Why did you pick the specific chart?"
      ],
      "metadata": {
        "id": "1M8mcRywphqQ"
      }
    },
    {
      "cell_type": "markdown",
      "source": [
        ">We have two co_related variable i.e adr and Total stay to study the reation choosed scater plot"
      ],
      "metadata": {
        "id": "8agQvks0phqQ"
      }
    },
    {
      "cell_type": "markdown",
      "source": [
        "##### 2. What is/are the insight(s) found from the chart?"
      ],
      "metadata": {
        "id": "tgIPom80phqQ"
      }
    },
    {
      "cell_type": "markdown",
      "source": [
        ">From the scatter plot, it is clear that length of total_stay increases, adr decreases. Customers who stay less pays more .Hotels can offer the better deal for customers one who stay for long period"
      ],
      "metadata": {
        "id": "Qp13pnNzphqQ"
      }
    },
    {
      "cell_type": "markdown",
      "source": [
        "##### 3. Will the gained insights help creating a positive business impact? \n",
        "Are there any insights that lead to negative growth? Justify with specific reason."
      ],
      "metadata": {
        "id": "JMzcOPDDphqR"
      }
    },
    {
      "cell_type": "markdown",
      "source": [
        "Answer Here"
      ],
      "metadata": {
        "id": "R4Ka1PC2phqR"
      }
    },
    {
      "cell_type": "markdown",
      "source": [
        "## **5. Solution to Business Objective**"
      ],
      "metadata": {
        "id": "JcMwzZxoAimU"
      }
    },
    {
      "cell_type": "markdown",
      "source": [
        "#### What do you suggest the client to achieve Business Objective ? \n",
        "Explain Briefly."
      ],
      "metadata": {
        "id": "8G2x9gOozGDZ"
      }
    },
    {
      "cell_type": "markdown",
      "source": [
        "1. Anyone is thinking to start new Hotel business can opt to city hotel over to resort hotel as they get more cutomers\n",
        "2. As Most customers prefer Bread & Breakfast (BB) meal , Hotels can give some attractive deal on upon choosing this BB type meal which will hepl to attract more customers\n",
        "3. August is the busiest month followed by july interms of number of visitors in this case hotel owner can make his team ready to give optimum service to customer and can also encash this high demand of hotel rooms to make more profit Hotel owners can give exlusive offers at low demand time to atract more number of customers to ensure his business to run steadily\n",
        "4. Most visiotors are from Portugal and other European contries so its better to hotel managment to enusre that facilities according to their requirment also can do good marketing at that contries to enhance business\n",
        "5. roomtype A is the most demanded rooms by the customer while booking, whereas room types H,G,C are generating more adr respectively\n",
        "Hotel management sholud try to increase room types A, to ensure no customer is missed because of unavialability of specific type of rooms. as room type  H generating more revenue can give some addon facility to for H type room in order atracts more customer for this specific room type\n",
        "6. We saw more number of bookings are done by using distrubution chanel TA/TO where Hotel has to share its revenue in terms of comisssion The hotel management can offer discounts, complimentary services and offers on direct bookings as the hotel doesn’t pay commissions to third parties and maintains a direct relationship with the customer when a customer books the hotel directly\n",
        "7. Most preferred stay in hotels is 3 days, hotel management should introduce loyalty service, offers, tourism package in order to increase the stay of customers and to generate more revenue\n"
      ],
      "metadata": {
        "id": "pASKb0qOza21"
      }
    },
    {
      "cell_type": "markdown",
      "source": [
        "# **Conclusion**"
      ],
      "metadata": {
        "id": "gCX9965dhzqZ"
      }
    },
    {
      "cell_type": "markdown",
      "source": [
        "* August and July are the busiest month in terms of Hotel busniness so we can anticipate high rates of hotel rooms where january is slack\n",
        "*  Most of the bookings are for City Hotel compared to Resort Hotel .\n",
        "* Most customers prefer Bread & Breakfast (BB) meal\n",
        "* Most preferred distribution channel by customers is Travel Agent / Tour Oprator (TA/TO) to make hotel booking.\n",
        "* Most of the customers are from Portugal.\n",
        "* Most preferred stay in hotels is 3 days"
      ],
      "metadata": {
        "id": "Fjb1IsQkh3yE"
      }
    },
    {
      "cell_type": "markdown",
      "source": [
        "### ***Hurrah! You have successfully completed your EDA Capstone Project !!!***"
      ],
      "metadata": {
        "id": "gIfDvo9L0UH2"
      }
    }
  ]
}