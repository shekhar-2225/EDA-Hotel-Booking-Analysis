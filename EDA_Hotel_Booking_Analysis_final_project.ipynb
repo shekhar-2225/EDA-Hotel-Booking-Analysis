{
  "nbformat": 4,
  "nbformat_minor": 0,
  "metadata": {
    "colab": {
      "private_outputs": true,
      "provenance": [],
      "collapsed_sections": [
        "vncDsAP0Gaoa",
        "beRrZCGUAJYm",
        "FJNUwmbgGyua",
        "w6K7xa23Elo4",
        "yQaldy8SH6Dl",
        "PH-0ReGfmX4f",
        "mDgbUHAGgjLW",
        "Y3lxredqlCYt",
        "3RnN4peoiCZX",
        "x71ZqKXriCWQ",
        "7hBIi_osiCS2",
        "35m5QtbWiB9F",
        "H0kj-8xxnORC",
        "nA9Y7ga8ng1Z",
        "PBTbrJXOngz2",
        "u3PMJOP6ngxN",
        "dauF4eBmngu3",
        "bKJF3rekwFvQ",
        "MSa1f5Uengrz",
        "0wOQAZs5pc--",
        "K5QZ13OEpz2H",
        "lQ7QKXXCp7Bj",
        "448CDAPjqfQr",
        "KSlN3yHqYklG",
        "t6dVpIINYklI",
        "ijmpgYnKYklI",
        "-JiQyfWJYklI",
        "EM7whBJCYoAo",
        "fge-S5ZAYoAp",
        "85gYPyotYoAp",
        "RoGjAbkUYoAp",
        "iky9q4vBYrdO",
        "F6T5p64dYrdO",
        "y-Ehk30pYrdP",
        "1M8mcRywphqQ",
        "tgIPom80phqQ",
        "JcMwzZxoAimU",
        "8G2x9gOozGDZ",
        "gCX9965dhzqZ",
        "gIfDvo9L0UH2"
      ],
      "include_colab_link": true
    },
    "kernelspec": {
      "name": "python3",
      "display_name": "Python 3"
    },
    "language_info": {
      "name": "python"
    },
    "gpuClass": "standard"
  },
  "cells": [
    {
      "cell_type": "markdown",
      "metadata": {
        "id": "view-in-github",
        "colab_type": "text"
      },
      "source": [
        "<a href=\"https://colab.research.google.com/github/shekhar-2225/EDA-Hotel-Booking-Analysis/blob/main/EDA_Hotel_Booking_Analysis_final_project.ipynb\" target=\"_parent\"><img src=\"https://colab.research.google.com/assets/colab-badge.svg\" alt=\"Open In Colab\"/></a>"
      ]
    },
    {
      "cell_type": "markdown",
      "source": [
        "# **Project Name**    - \n",
        "\n"
      ],
      "metadata": {
        "id": "vncDsAP0Gaoa"
      }
    },
    {
      "cell_type": "markdown",
      "source": [
        "##### **Project Type**    - EDA Hotel Booking Analysis\n",
        "##### **Contribution**    - Individual\n",
        "##### **Team Member 1 -** Chander Shekhar Pandey\n"
      ],
      "metadata": {
        "id": "beRrZCGUAJYm"
      }
    },
    {
      "cell_type": "markdown",
      "source": [
        "# **Project Summary -**"
      ],
      "metadata": {
        "id": "FJNUwmbgGyua"
      }
    },
    {
      "cell_type": "markdown",
      "source": [
        "Hotel Bookings Analysis project consists with the real - world data record of hotel bookings of a city hotel and a resort hotel for the period 2015 - 2017 respectively. The project data record consists of information such as type of hotel booked, average daily rate, booking details, arrival date, length of the stay, the number of adults, children, and / or babies booked, customer country, meal preferences, type of the customer, parking space details, reservation status, channels used for booking, booking cancellation details, booking lead time details, among other details. Data analysis and data visualization will be performed using Python libraries.\n",
        "\n",
        "I started the Hotel Bookings Analysis project to analyse the data and explore the key factors that govern the hotel bookings. In this project, I have downloaded the given dataset of hotel bookings (CSV file) to use it as a pandas dataframe using pandas library. I have came to know more details about the datset by using df.info() method. I have checked the number of data types in the dataset using value_counts() method. If any column of the dataset has highest missing values, the respective coulmn should be removed using drop() method. I have performed data wrangling using value_counts() method and sort_values method to sort the data accordingly. Fianlly, the Vizualization is done in a structured way while following the \"UBM\" U - Univariate Analysis, B - Bivariate Analysis (Numerical - Categorical, Numerical - Numerical, Categorical - Categorical)"
      ],
      "metadata": {
        "id": "F6v_1wHtG2nS"
      }
    },
    {
      "cell_type": "markdown",
      "source": [
        "# **GitHub Link -**"
      ],
      "metadata": {
        "id": "w6K7xa23Elo4"
      }
    },
    {
      "cell_type": "markdown",
      "source": [
        "\n",
        "https://github.com/shekhar-2225/EDA-Hotel-Booking-Analysis"
      ],
      "metadata": {
        "id": "h1o69JH3Eqqn"
      }
    },
    {
      "cell_type": "markdown",
      "source": [
        "# **Problem Statement**\n"
      ],
      "metadata": {
        "id": "yQaldy8SH6Dl"
      }
    },
    {
      "cell_type": "markdown",
      "source": [
        "This data set contains booking information for a city hotel and a resort hotel and includes information such as when the booking was made, length of stay, the number of adults, children, and/or babies, and the number of available parking spaces, among other things. We need to find out the some insites which help to stake holders\n",
        "\n",
        "\n"
      ],
      "metadata": {
        "id": "DpeJGUA3kjGy"
      }
    },
    {
      "cell_type": "markdown",
      "source": [
        "#### **Define Your Business Objective?**"
      ],
      "metadata": {
        "id": "PH-0ReGfmX4f"
      }
    },
    {
      "cell_type": "markdown",
      "source": [
        "The main aim of this project is to explore  the key factors driving the hotel bookings such as :\n",
        "\n",
        "1. To understand the peak season.\n",
        "2. To identify most common customer type.\n",
        "3. To find the most preferred length of stay in each hotel\n",
        "4. To know the meal preferences by customers.\n",
        "5. which type of room book by customers.\n",
        "6. Identify which hotel has highest bookings cancellation \n",
        "7. find which country customers have highest bookings.\n",
        "9. Study the relation between ADR and length of stay\n",
        "10. which type of distribution channel preferred by customere.\n",
        "11. Which type of special request made by customers.\n",
        "\n"
      ],
      "metadata": {
        "id": "PhDvGCAqmjP1"
      }
    },
    {
      "cell_type": "markdown",
      "source": [
        "# **General Guidelines** : -  "
      ],
      "metadata": {
        "id": "mDgbUHAGgjLW"
      }
    },
    {
      "cell_type": "markdown",
      "source": [
        "1.   Well-structured, formatted, and commented code is required. \n",
        "2.   Exception Handling, Production Grade Code & Deployment Ready Code will be a plus. Those students will be awarded some additional credits. \n",
        "     \n",
        "     The additional credits will have advantages over other students during Star Student selection.\n",
        "       \n",
        "             [ Note: - Deployment Ready Code is defined as, the whole .ipynb notebook should be executable in one go\n",
        "                       without a single error logged. ]\n",
        "\n",
        "3.   Each and every logic should have proper comments.\n",
        "4. You may add as many number of charts you want. Make Sure for each and every chart the following format should be answered.\n",
        "        \n",
        "\n",
        "```\n",
        "# Chart visualization code\n",
        "```\n",
        "            \n",
        "\n",
        "*   Why did you pick the specific chart?\n",
        "*   What is/are the insight(s) found from the chart?\n",
        "* Will the gained insights help creating a positive business impact? \n",
        "Are there any insights that lead to negative growth? Justify with specific reason.\n",
        "\n",
        "5. You have to create at least 20 logical & meaningful charts having important insights.\n",
        "\n",
        "\n",
        "[ Hints : - Do the Vizualization in  a structured way while following \"UBM\" Rule. \n",
        "\n",
        "U - Univariate Analysis,\n",
        "\n",
        "B - Bivariate Analysis (Numerical - Categorical, Numerical - Numerical, Categorical - Categorical)\n",
        "\n",
        "M - Multivariate Analysis\n",
        " ]\n",
        "\n",
        "\n",
        "\n"
      ],
      "metadata": {
        "id": "ZrxVaUj-hHfC"
      }
    },
    {
      "cell_type": "markdown",
      "source": [
        "# ***Let's Begin !***"
      ],
      "metadata": {
        "id": "O_i_v8NEhb9l"
      }
    },
    {
      "cell_type": "markdown",
      "source": [
        "## ***1. Know Your Data***"
      ],
      "metadata": {
        "id": "HhfV-JJviCcP"
      }
    },
    {
      "cell_type": "markdown",
      "source": [
        "### Import Libraries"
      ],
      "metadata": {
        "id": "Y3lxredqlCYt"
      }
    },
    {
      "cell_type": "code",
      "source": [
        "# Import Libraries\n",
        "import numpy as np\n",
        "import pandas as pd\n",
        "import matplotlib\n",
        "import matplotlib.pyplot as plt\n",
        "%matplotlib inline\n",
        "import seaborn as sns"
      ],
      "metadata": {
        "id": "M8Vqi-pPk-HR"
      },
      "execution_count": null,
      "outputs": []
    },
    {
      "cell_type": "markdown",
      "source": [
        "### Dataset Loading"
      ],
      "metadata": {
        "id": "3RnN4peoiCZX"
      }
    },
    {
      "cell_type": "code",
      "source": [
        "# Load Dataset\n",
        "data_type ='/content/Hotel Bookings.csv'\n",
        "df = pd.read_csv(data_type)\n"
      ],
      "metadata": {
        "id": "4CkvbW_SlZ_R"
      },
      "execution_count": null,
      "outputs": []
    },
    {
      "cell_type": "markdown",
      "source": [
        "### Dataset First View"
      ],
      "metadata": {
        "id": "x71ZqKXriCWQ"
      }
    },
    {
      "cell_type": "code",
      "source": [
        "# Dataset First Look\n",
        "df.head(5)"
      ],
      "metadata": {
        "id": "LWNFOSvLl09H"
      },
      "execution_count": null,
      "outputs": []
    },
    {
      "cell_type": "markdown",
      "source": [
        "### Dataset Rows & Columns count"
      ],
      "metadata": {
        "id": "7hBIi_osiCS2"
      }
    },
    {
      "cell_type": "code",
      "source": [
        "df.shape"
      ],
      "metadata": {
        "id": "UKCpySE5Azxn"
      },
      "execution_count": null,
      "outputs": []
    },
    {
      "cell_type": "code",
      "source": [
        "# Dataset Rows & Columns count\n",
        "df.count()"
      ],
      "metadata": {
        "id": "Kllu7SJgmLij"
      },
      "execution_count": null,
      "outputs": []
    },
    {
      "cell_type": "code",
      "source": [],
      "metadata": {
        "id": "QjT0Fv3qAosn"
      },
      "execution_count": null,
      "outputs": []
    },
    {
      "cell_type": "markdown",
      "source": [
        "### Dataset Information"
      ],
      "metadata": {
        "id": "JlHwYmJAmNHm"
      }
    },
    {
      "cell_type": "code",
      "source": [
        "# Dataset Info\n",
        "df.info()"
      ],
      "metadata": {
        "id": "e9hRXRi6meOf"
      },
      "execution_count": null,
      "outputs": []
    },
    {
      "cell_type": "markdown",
      "source": [
        "#### Duplicate Values"
      ],
      "metadata": {
        "id": "35m5QtbWiB9F"
      }
    },
    {
      "cell_type": "code",
      "source": [
        "# Dataset Duplicate Value Count\n",
        "duplicate_value_count= df[df.duplicated()].shape\n",
        "duplicate_value_count "
      ],
      "metadata": {
        "id": "1sLdpKYkmox0"
      },
      "execution_count": null,
      "outputs": []
    },
    {
      "cell_type": "code",
      "source": [
        "# Remove duplicate values\n",
        "df.drop_duplicates(inplace = True)"
      ],
      "metadata": {
        "id": "mODl45F4Soif"
      },
      "execution_count": null,
      "outputs": []
    },
    {
      "cell_type": "code",
      "source": [
        "#After removing the duplicate value\n",
        "duplicate_value_count= df[df.duplicated()].shape\n",
        "duplicate_value_count"
      ],
      "metadata": {
        "id": "XWKP7NYOBG73"
      },
      "execution_count": null,
      "outputs": []
    },
    {
      "cell_type": "markdown",
      "source": [
        "#### Missing Values/Null Values"
      ],
      "metadata": {
        "id": "PoPl-ycgm1ru"
      }
    },
    {
      "cell_type": "code",
      "source": [
        "# Missing Values/Null Values Count\n",
        "Null_Values = df.isna().sum()\n",
        "Null_Values"
      ],
      "metadata": {
        "id": "GgHWkxvamxVg"
      },
      "execution_count": null,
      "outputs": []
    },
    {
      "cell_type": "code",
      "source": [
        "# remove null values by filling null vaue column by space\n",
        "df.fillna(0,inplace=True)"
      ],
      "metadata": {
        "id": "3q5wnI3om9sJ"
      },
      "execution_count": null,
      "outputs": []
    },
    {
      "cell_type": "code",
      "source": [
        "Null_Values"
      ],
      "metadata": {
        "id": "RO-xAbLMTRJQ"
      },
      "execution_count": null,
      "outputs": []
    },
    {
      "cell_type": "code",
      "source": [
        "#There are some rows with total number of adults, children or babies equal to zero. So we will remove such rows.\n",
        "remove_rows = df[df['adults']+df ['babies']+df['children'] == 0]\n",
        "df.drop(df[df['adults']+df['babies']+df['children'] == 0].index, inplace = True)\n"
      ],
      "metadata": {
        "id": "fp3fghA-dUkE"
      },
      "execution_count": null,
      "outputs": []
    },
    {
      "cell_type": "markdown",
      "source": [
        "### What did you know about your dataset?"
      ],
      "metadata": {
        "id": "H0kj-8xxnORC"
      }
    },
    {
      "cell_type": "markdown",
      "source": [
        "Hotel Bookings Analysis has 32 different variables (Continuous & Categorical) in the columns and grouping them as:\n",
        "\n",
        "* Guest Demographics : country, adults, children, babies.\n",
        "* Arrival Information : arrival_date_year, arrival_date_month,   arrival_date_week_number, arrival_date_day_of_month.\n",
        "* Reservation Status : reservation_status, reservation_status_date, is_canceled, lead_time, days_in_waiting_list.\n",
        "* User Actions : is_repeated_guest, previous_cancellations,  previous_bookings_not_canceled.\n",
        "* Accommodation Details : stays_in_weekend_nights, stays_in_week_nights, reserved_room_type, assigned_room_type, meals, required_car_parking_spaces, total_of_special_requests.\n",
        "* Booking Information : hotel, market_segment, distribution_channel,   booking_changes, deposit_type, agent, company, customer_type.\n",
        "* Average Daily Rate : adr.\n",
        "\n",
        "Each variable in detail :\n",
        "\n",
        "* hotel : This variable describes the category of the hotels, they are City Hotel & Resort Hotel.\n",
        "* is_canceled : The column shows cancellation details, 0 indicates booking not cancelled & 1 indicates booking is cancelled.\n",
        "* lead_time : This column defines the time between reservation & actual arrival.\n",
        "* arrival_date_year : This variable shows the arrival year of the customer namely 2015, 2016 or 2017.\n",
        "* arrival_date_month : This variable shows the arrival month of the customer in between January to December.\n",
        "* arrival_date_week_number : This column shows the arrival week of the customer.\n",
        "* arrival_date_day_of_month : This variable indicates the arrival date of the customer in the respective month & year.\n",
        "* stays_in_weekend_nights : This variable indicates the number of weekend nights (Saturday or Sunday) the guest stayed or booked to stay at the respective hotel.\n",
        "stays_in_week_nights : This column shows number of week nights (Monday to Friday) the guest stayed or booked to stay at the respective hotel.\n",
        "* adults : This variable shows the number of adults present with the customer.\n",
        "* children : This column shows the number of children present with the customer.\n",
        "* babies : This variable shows the number of babies present with the customer.\n",
        "* meal : This column shows the type of meal booked by the customer. Namely  BB - Bread & Breakfast, only breakfast is booked, FB - Full Board, in which breakfast, lunch & dinner are included, HB - Half Board, in which breakfast & dinner are included, SC - Self Catering, no meals are included.\n",
        "* country : This column shows the origin country of customers.\n",
        "* market_segment : This column shows the designation of the customers, * namely - Aviation, Direct, Corporate, Complementary, Groups, Offline TA/TO, Online TO.\n",
        "* distribution_channel : Booking distribution channel like direct, corporate, TA/TO, GDS.\n",
        "* is_repeated_guest : This variable shows the value indicating if the booking name was from a repeated guest. 0 - is not repeated guest & 1-repeated guest.\n",
        "* previous_cancellations : This column shows the number of previous bookings that were cancelled by the customer prior to the current booking.\n",
        "* previous_bookings_not_canceled : This variable shows the number of previous bookings not cancelled by the customer prior to the current booking.\n",
        "* reserved_room_type : This variable indicates the room reserved by the customer.\n",
        "* assigned_room_type : This variable shows the assigned room to the customer.\n",
        "* booking_changes : This column shows the number of changes made to the booking.\n",
        "* deposit_type : This variable indicates if the customer made a deposit to guarantee the booking. 3 categories: No Deposit – no deposit was made; Non * Refund – a deposit was made in the value of the total stay cost; Refundable – a deposit was made with a value under the total cost of stay.\n",
        "* agent : This column shows the id of the booking agent.\n",
        "* company : This variable indicates the id of the company making a booking.\n",
        "* days_in_waiting_list : This column depicts the number of days the booking was in the waiting list before it was confirmed to the customer.\n",
        "* customer_type : This variable shows 4 types of customers, namely - Contract - when the booking has an allotment or other type of contract associated to it; Group – when the booking is associated to a group; Transient – when the booking is not part of a group or contract, and is not associated to other transient booking; Transient-party – when the booking is transient, but is associated to at least other transient booking\n",
        "* adr : This variable shows the Average Daily Rate as defined by dividing the sum of all lodging transactions by the total number of staying nights.\n",
        "required_car_parking_spaces : This column indicates the number of car parking spaces required by the customer.\n",
        "* total_of_special_requests : This variable shows the number of special requests made by the customer (e.g. twin bed, high floor).\n",
        "* reservation_status : This column shows the reservation status of the customer whether the customer has checked-in or cancelled or not shown.\n",
        "* reservation_status_date : This variable indicates date of making reservation status.\n",
        "\n",
        "\n"
      ],
      "metadata": {
        "id": "gfoNAAC-nUe_"
      }
    },
    {
      "cell_type": "markdown",
      "source": [
        "## ***2. Understanding Your Variables***"
      ],
      "metadata": {
        "id": "nA9Y7ga8ng1Z"
      }
    },
    {
      "cell_type": "code",
      "source": [
        "# Dataset Columns\n",
        "list(df.columns)\n"
      ],
      "metadata": {
        "id": "j7xfkqrt5Ag5"
      },
      "execution_count": null,
      "outputs": []
    },
    {
      "cell_type": "code",
      "source": [
        "# Dataset Describe\n",
        "df.describe()"
      ],
      "metadata": {
        "id": "DnOaZdaE5Q5t"
      },
      "execution_count": null,
      "outputs": []
    },
    {
      "cell_type": "markdown",
      "source": [
        "### Variables Description "
      ],
      "metadata": {
        "id": "PBTbrJXOngz2"
      }
    },
    {
      "cell_type": "markdown",
      "source": [
        "Answer Here"
      ],
      "metadata": {
        "id": "aJV4KIxSnxay"
      }
    },
    {
      "cell_type": "markdown",
      "source": [
        "### Check Unique Values for each variable."
      ],
      "metadata": {
        "id": "u3PMJOP6ngxN"
      }
    },
    {
      "cell_type": "code",
      "source": [
        "# Check Unique Values for each variable.\n",
        "df.nunique()"
      ],
      "metadata": {
        "id": "zms12Yq5n-jE"
      },
      "execution_count": null,
      "outputs": []
    },
    {
      "cell_type": "code",
      "source": [
        "\n",
        "df.deposit_type.unique()"
      ],
      "metadata": {
        "id": "UmJFyw00B8wI"
      },
      "execution_count": null,
      "outputs": []
    },
    {
      "cell_type": "markdown",
      "source": [
        "## 3. ***Data Wrangling***"
      ],
      "metadata": {
        "id": "dauF4eBmngu3"
      }
    },
    {
      "cell_type": "markdown",
      "source": [
        "### Data Wrangling Code"
      ],
      "metadata": {
        "id": "bKJF3rekwFvQ"
      }
    },
    {
      "cell_type": "code",
      "source": [
        "# Write your code to make your dataset analysis ready.\n",
        "\n",
        "from numpy.ma.extras import column_stack\n",
        "##let us check which type of Hotel has more number of bookings and pecentage Bookings\n",
        "Type_hotel=df['hotel'].value_counts()\n",
        "\n",
        "# precentage of bookings\n",
        "(df.groupby('hotel').size() / df['hotel'].count()) * 100\n",
        "\n",
        "# precentage Cancelation\n",
        "canceled_booking=pd.DataFrame(df[df[\"is_canceled\"]==1])\n",
        "cancel_grp = canceled_booking.groupby('hotel')\n",
        "D1 = pd.DataFrame(cancel_grp.size()).rename(columns = {0:'total_cancelled_bookings'})\n",
        "\n",
        "# Counting total number of bookings for each type of hotel\n",
        "grouped_by_hotel = df.groupby('hotel')\n",
        "total_booking = grouped_by_hotel.size()\n",
        "D2 = pd.DataFrame(total_booking).rename(columns = {0: 'total_bookings'})\n",
        "D3 = pd.concat([D1,D2], axis = 1)\n",
        "\n",
        "#Calculating cancel percentage \n",
        "D3['cancel_%'] = round((D3['total_cancelled_bookings']/D3['total_bookings'])*100,2)\n",
        "D3"
      ],
      "metadata": {
        "id": "wk-9a2fpoLcV"
      },
      "execution_count": null,
      "outputs": []
    },
    {
      "cell_type": "code",
      "source": [
        "# let us check best time to book Hotel, For that first we have to find which month is busiest means most number of bookings found\n",
        "Booking_months = df['arrival_date_month'].value_counts().sort_values(ascending=False)\n",
        "Booking_months"
      ],
      "metadata": {
        "id": "ZSA-BOVV-eGr"
      },
      "execution_count": null,
      "outputs": []
    },
    {
      "cell_type": "code",
      "source": [
        "#let us check from which country more number of visitors are coming\n",
        "country_wise_visitor=df['country'].value_counts().sort_values(ascending=False)\n",
        "country_wise_visitor[:10]"
      ],
      "metadata": {
        "id": "JVfCqday-vzm"
      },
      "execution_count": null,
      "outputs": []
    },
    {
      "cell_type": "code",
      "source": [
        "# let us check which type of meals prepered most\n",
        "Prepered_meal_type=df['meal'].value_counts().sort_values(ascending=False)\n",
        "Prepered_meal_type"
      ],
      "metadata": {
        "id": "h59T4ica-124"
      },
      "execution_count": null,
      "outputs": []
    },
    {
      "cell_type": "code",
      "source": [
        "# let us check relation between lead time and the cancellation \n",
        "canceled_booking=pd.DataFrame(df[df[\"is_canceled\"]==1])\n",
        "canceled_booking\n",
        "not_canceled_df=pd.DataFrame(df[df[\"is_canceled\"]==0])\n",
        "not_canceled_df"
      ],
      "metadata": {
        "id": "VC1f1obQ-97P"
      },
      "execution_count": null,
      "outputs": []
    },
    {
      "cell_type": "code",
      "source": [
        "# lets us find out the total stay of the each customer from which we can find out average stay of different type of customer\n",
        "not_canceled_df[\"Total_stay\"]=not_canceled_df[\"stays_in_weekend_nights\"]+not_canceled_df[\"stays_in_week_nights\"]\n",
        "Avg_stay_df=not_canceled_df.groupby(\"customer_type\")[\"Total_stay\"].mean().round()\n",
        "Avg_stay_df"
      ],
      "metadata": {
        "id": "GEAVtQsb_PYw"
      },
      "execution_count": null,
      "outputs": []
    },
    {
      "cell_type": "code",
      "source": [
        "# let us work on Special requests\n",
        "# number of special request each hotel\n",
        "Special_request=df.groupby(\"hotel\")[\"total_of_special_requests\"].sum()\n",
        "Special_request.reset_index()\n",
        "# Ditrubution Chanel wise  special request\n",
        "Special_request_Dc=df.groupby(\"distribution_channel\")[\"total_of_special_requests\"].sum().reset_index()\n",
        "#Customer wise   special request\n",
        "Special_request_T=df.groupby(\"customer_type\")[\"total_of_special_requests\"].sum()\n",
        "Special_request_T\n"
      ],
      "metadata": {
        "id": "DOqc-Ecl_Xnb"
      },
      "execution_count": null,
      "outputs": []
    },
    {
      "cell_type": "code",
      "source": [
        "#let us find out the distribution channel\n",
        "df.distribution_channel.unique()"
      ],
      "metadata": {
        "id": "lL4VLvYYns59"
      },
      "execution_count": null,
      "outputs": []
    },
    {
      "cell_type": "code",
      "source": [
        "# lets us find out the distrubution chanel which makes most number of bookings\n",
        "Distrubution_chanel_df=not_canceled_df[\"distribution_channel\"].value_counts().reset_index().rename(columns={\"index\":\"distribution_channel\",\"distribution_channel\":\"Number_of_Bookings\"})\n",
        "Distrubution_chanel_df\n",
        "total_booking=Distrubution_chanel_df[\"Number_of_Bookings\"].sum()\n",
        "Distrubution_chanel_df[\"precentage\"]=(Distrubution_chanel_df[\"Number_of_Bookings\"]/total_booking)*100\n",
        "Distrubution_chanel_df"
      ],
      "metadata": {
        "id": "ONVvUh-sAFzy"
      },
      "execution_count": null,
      "outputs": []
    },
    {
      "cell_type": "markdown",
      "source": [
        "### What all manipulations have you done and insights you found?"
      ],
      "metadata": {
        "id": "MSa1f5Uengrz"
      }
    },
    {
      "cell_type": "markdown",
      "source": [
        "> I found that the total number of booking is more in city hotel as compared to resort hotal.\n",
        "\n",
        "> Than I found that the total Cancelled booking is vey high as compared to resort hotel.\n",
        "\n",
        "> The cancellatiion Percentage of city Hotel is 41.73% and the cancellation percentage of resort hotel is 27.76%\n",
        "\n",
        "> TA/To is most useing channel by customers."
      ],
      "metadata": {
        "id": "LbyXE7I1olp8"
      }
    },
    {
      "cell_type": "code",
      "source": [],
      "metadata": {
        "id": "FTduC-SvhIDs"
      },
      "execution_count": null,
      "outputs": []
    },
    {
      "cell_type": "markdown",
      "source": [
        "## ***4. Data Vizualization, Storytelling & Experimenting with charts : Understand the relationships between variables***"
      ],
      "metadata": {
        "id": "GF8Ens_Soomf"
      }
    },
    {
      "cell_type": "markdown",
      "source": [
        "#### Chart - 1"
      ],
      "metadata": {
        "id": "0wOQAZs5pc--"
      }
    },
    {
      "cell_type": "code",
      "source": [
        "# Chart - 1 visualization code\n",
        "# Comparision between City Hotel and Resort Hotel in terms of Number of Bookings\n",
        "Type_hotel.plot(kind='bar',color=\"Blue\")\n",
        "plt.xlabel(\"Hotel type\")\n",
        "plt.ylabel(\"Number of Booking\")"
      ],
      "metadata": {
        "id": "7v_ESjsspbW7"
      },
      "execution_count": null,
      "outputs": []
    },
    {
      "cell_type": "code",
      "source": [
        "# Percentage of bookings in each hotel\n",
        "plt.rcParams['figure.figsize'] = 6,6\n",
        "labels = df['hotel'].value_counts().index.tolist()\n",
        "sizes = df['hotel'].value_counts().tolist()\n",
        "explode = (0, 0.08)\n",
        "colors = ['#66b3ff', '#ff9999']\n",
        "plt.pie(sizes, explode=explode, labels=labels, colors=colors, autopct='%1.1f%%',startangle=90, textprops={'fontsize': 14})"
      ],
      "metadata": {
        "id": "_SK-Fb-tAjHC"
      },
      "execution_count": null,
      "outputs": []
    },
    {
      "cell_type": "code",
      "source": [
        "# Comparision between City Hotel and Resort Hotel in terms of cancelation %\n",
        "plt.figure(figsize = (10,5))\n",
        "sns.barplot(x = D3.index, y = D3['cancel_%'])\n",
        "plt.show()"
      ],
      "metadata": {
        "id": "1asxeyacApGZ"
      },
      "execution_count": null,
      "outputs": []
    },
    {
      "cell_type": "code",
      "source": [
        "DR = grouped_by_hotel['adr'].agg(np.mean).reset_index().rename(columns = {'adr':'avg_adr'})   # calculating average adr\n",
        "plt.figure(figsize = (8,5))\n",
        "sns.barplot(x = DR['hotel'], y = DR['avg_adr'] )\n",
        "plt.show()"
      ],
      "metadata": {
        "id": "bOldfG80AyrR"
      },
      "execution_count": null,
      "outputs": []
    },
    {
      "cell_type": "markdown",
      "source": [
        "##### 1. Why did you pick the specific chart?"
      ],
      "metadata": {
        "id": "K5QZ13OEpz2H"
      }
    },
    {
      "cell_type": "markdown",
      "source": [
        " > it is Univariate analysis, where we compare categorical values in one columns with variable in another column so we have choosed bar graph For  percentage distrubution we choosed pi chart\n",
        "\n"
      ],
      "metadata": {
        "id": "XESiWehPqBRc"
      }
    },
    {
      "cell_type": "markdown",
      "source": [
        "##### 2. What is/are the insight(s) found from the chart?"
      ],
      "metadata": {
        "id": "lQ7QKXXCp7Bj"
      }
    },
    {
      "cell_type": "markdown",
      "source": [
        "- **Bookings are more in city hotel compared to resort hotel** -\n",
        "\n",
        "- **Cancellation are also more in city hotel compare to resort hotel**"
      ],
      "metadata": {
        "id": "C_j1G7yiqdRP"
      }
    },
    {
      "cell_type": "markdown",
      "source": [
        "##### 3. Will the gained insights help creating a positive business impact? \n",
        "Are there any insights that lead to negative growth? Justify with specific reason."
      ],
      "metadata": {
        "id": "448CDAPjqfQr"
      }
    },
    {
      "cell_type": "markdown",
      "source": [
        "**Anyone who starts new Hotel business can opttion to city hotel over to resort hotel as they get more cutomers**"
      ],
      "metadata": {
        "id": "3cspy4FjqxJW"
      }
    },
    {
      "cell_type": "markdown",
      "source": [
        "#### Chart - 2"
      ],
      "metadata": {
        "id": "KSlN3yHqYklG"
      }
    },
    {
      "cell_type": "code",
      "source": [
        "# Chart - 2 visualization code\n",
        "\n",
        "Booking_months.plot(kind='bar')\n",
        "plt.xlabel(\"Months\")\n",
        "plt.ylabel(\"Number of Booking\")"
      ],
      "metadata": {
        "id": "R4YgtaqtYklH"
      },
      "execution_count": null,
      "outputs": []
    },
    {
      "cell_type": "markdown",
      "source": [
        "##### 1. Why did you pick the specific chart?"
      ],
      "metadata": {
        "id": "t6dVpIINYklI"
      }
    },
    {
      "cell_type": "markdown",
      "source": [
        "**it is Univariate analysis, where we compare categorical values (Months) in one columns with variable in another column so we have choosed bar graph**"
      ],
      "metadata": {
        "id": "5aaW0BYyYklI"
      }
    },
    {
      "cell_type": "markdown",
      "source": [
        "##### 2. What is/are the insight(s) found from the chart?"
      ],
      "metadata": {
        "id": "ijmpgYnKYklI"
      }
    },
    {
      "cell_type": "markdown",
      "source": [
        "**August is the busiest month followed by july interms of number of visitors in this case hotel owner can make his team ready to give optimum service to customer and can also encash this high demand of hotel rooms to make more profit. Hotel owners can give exlusive offers at low demand time to atrract more number of customers to ensure his business to run steadily**\n"
      ],
      "metadata": {
        "id": "PSx9atu2YklI"
      }
    },
    {
      "cell_type": "markdown",
      "source": [
        "##### 3. Will the gained insights help creating a positive business impact? \n",
        "Are there any insights that lead to negative growth? Justify with specific reason."
      ],
      "metadata": {
        "id": "-JiQyfWJYklI"
      }
    },
    {
      "cell_type": "markdown",
      "source": [
        "As per data \n"
      ],
      "metadata": {
        "id": "BcBbebzrYklV"
      }
    },
    {
      "cell_type": "markdown",
      "source": [
        "#### Chart - 3"
      ],
      "metadata": {
        "id": "EM7whBJCYoAo"
      }
    },
    {
      "cell_type": "code",
      "source": [
        "# Chart - 3 visualization code\n",
        "country_wise_visitor[:10].plot(kind=\"bar\")\n",
        "plt.xlabel(\"No of Bookings\")\n",
        "plt.ylabel(\"contry\")\n"
      ],
      "metadata": {
        "id": "t6GMdE67YoAp"
      },
      "execution_count": null,
      "outputs": []
    },
    {
      "cell_type": "code",
      "source": [
        "\n",
        "# plotting graph again with values \n",
        "ax= df.country.value_counts().head(10).plot (kind= 'bar');\n",
        "for p in ax.patches:\n",
        "    ax.annotate(str(p.get_height()), (p.get_x() * 1.005, p.get_height() * 1.005))"
      ],
      "metadata": {
        "id": "r8bvDVnVihBI"
      },
      "execution_count": null,
      "outputs": []
    },
    {
      "cell_type": "markdown",
      "source": [
        "##### 1. Why did you pick the specific chart?"
      ],
      "metadata": {
        "id": "fge-S5ZAYoAp"
      }
    },
    {
      "cell_type": "markdown",
      "source": [
        "Answer Here."
      ],
      "metadata": {
        "id": "5dBItgRVYoAp"
      }
    },
    {
      "cell_type": "markdown",
      "source": [
        "##### 2. What is/are the insight(s) found from the chart?"
      ],
      "metadata": {
        "id": "85gYPyotYoAp"
      }
    },
    {
      "cell_type": "markdown",
      "source": [
        "Most visitors are coming from conutry **Portugal**"
      ],
      "metadata": {
        "id": "4jstXR6OYoAp"
      }
    },
    {
      "cell_type": "markdown",
      "source": [],
      "metadata": {
        "id": "tnDKOD7MChxe"
      }
    },
    {
      "cell_type": "markdown",
      "source": [
        "##### 3. Will the gained insights help creating a positive business impact? \n",
        "Are there any insights that lead to negative growth? Justify with specific reason."
      ],
      "metadata": {
        "id": "RoGjAbkUYoAp"
      }
    },
    {
      "cell_type": "markdown",
      "source": [
        "**Hotel managment has to ensure all facilities are available as per requirments of the countries from where more number of customers visits if failed to do so may leads to customer dissatisfaction**"
      ],
      "metadata": {
        "id": "zfJ8IqMcYoAp"
      }
    },
    {
      "cell_type": "markdown",
      "source": [
        "#### Chart - 4"
      ],
      "metadata": {
        "id": "4Of9eVA-YrdM"
      }
    },
    {
      "cell_type": "code",
      "source": [
        "# Chart - 4 visualization code\n",
        "# Meal type\n",
        "Prepered_meal_type.plot(kind='bar',color=\"Green\")\n",
        "plt.xlabel(\"Meal_type\")\n",
        "plt.ylabel(\"Number_meal_prepered\")"
      ],
      "metadata": {
        "id": "irlUoxc8YrdO"
      },
      "execution_count": null,
      "outputs": []
    },
    {
      "cell_type": "markdown",
      "source": [
        "##### 1. Why did you pick the specific chart?"
      ],
      "metadata": {
        "id": "iky9q4vBYrdO"
      }
    },
    {
      "cell_type": "markdown",
      "source": [
        "**> it is Univariate analysis, where we compare categorical values (Meal Type) in one columns with variable in another column so we have choosed bar graph**"
      ],
      "metadata": {
        "id": "aJRCwT6DYrdO"
      }
    },
    {
      "cell_type": "markdown",
      "source": [
        "##### 2. What is/are the insight(s) found from the chart?"
      ],
      "metadata": {
        "id": "F6T5p64dYrdO"
      }
    },
    {
      "cell_type": "markdown",
      "source": [
        "Insight from the chart we found that most of the customer preffered BB( Bread& Breakfast) there are very less customer who prefered FB(brekfast,Lunch,Dinner)"
      ],
      "metadata": {
        "id": "Xx8WAJvtYrdO"
      }
    },
    {
      "cell_type": "markdown",
      "source": [
        "##### 3. Will the gained insights help creating a positive business impact? \n",
        "Are there any insights that lead to negative growth? Justify with specific reason."
      ],
      "metadata": {
        "id": "y-Ehk30pYrdP"
      }
    },
    {
      "cell_type": "markdown",
      "source": [
        "**As we can see on graph most customers prefer Bread & Breakfast (BB) meal , Hotels can give some attractive offers on upon choosing this BB type meal which will help to attract more customers.**"
      ],
      "metadata": {
        "id": "jLNxxz7MYrdP"
      }
    },
    {
      "cell_type": "markdown",
      "source": [
        "#### Chart - 5"
      ],
      "metadata": {
        "id": "bamQiAODYuh1"
      }
    },
    {
      "cell_type": "code",
      "source": [
        "# Chart - 5 visualization code\n",
        "# Find out relation between cancelation and days in waiting list\n",
        "\n",
        "canceled = df[df['is_canceled'] == 1]\n",
        "days_in_waiting_list_canceled=canceled[~canceled['days_in_waiting_list'].isna()]['days_in_waiting_list']\n",
        "plt.hist(days_in_waiting_list_canceled.values, color='green')\n",
        "plt.xlabel('days_in_waiting_list')\n",
        "plt.ylabel('No of Cancellations')"
      ],
      "metadata": {
        "id": "TIJwrbroYuh3"
      },
      "execution_count": null,
      "outputs": []
    },
    {
      "cell_type": "code",
      "source": [
        "not_canceled = df[df['is_canceled'] == 0]\n",
        "Waiting_list_not_canceled=not_canceled[~not_canceled['days_in_waiting_list'].isna()]['days_in_waiting_list']\n",
        "plt.hist(Waiting_list_not_canceled.values, color='green')\n",
        "plt.xlabel('days_in_waiting_list')\n",
        "plt.ylabel('Number of Conformation')"
      ],
      "metadata": {
        "id": "R_qEPfrxEH1M"
      },
      "execution_count": null,
      "outputs": []
    },
    {
      "cell_type": "code",
      "source": [
        "not_canceled = df[df['is_canceled'] == 0]\n",
        "Waiting_list_not_canceled=not_canceled[~not_canceled['days_in_waiting_list'].isna()]['days_in_waiting_list']\n",
        "plt.hist(Waiting_list_not_canceled.values, color='green')\n",
        "plt.xlabel('days_in_waiting_list')\n",
        "plt.ylabel('Number of Conformation')"
      ],
      "metadata": {
        "id": "WN2O7XvOgEKq"
      },
      "execution_count": null,
      "outputs": []
    },
    {
      "cell_type": "markdown",
      "source": [
        "##### 1. Why did you pick the specific chart?"
      ],
      "metadata": {
        "id": "QHF8YVU7Yuh3"
      }
    },
    {
      "cell_type": "markdown",
      "source": [
        "**Histogram  is selected to check frequency of cancellation/confirmation against waiting time**"
      ],
      "metadata": {
        "id": "dcxuIMRPYuh3"
      }
    },
    {
      "cell_type": "markdown",
      "source": [
        "##### 2. What is/are the insight(s) found from the chart?"
      ],
      "metadata": {
        "id": "GwzvFGzlYuh3"
      }
    },
    {
      "cell_type": "markdown",
      "source": [
        "**After analysing both chart, its understood that both cancelation and confirmation frequency lies between waiting time range 0-150 days\n",
        "so we can conclude that cancellation has no relation with waiting time**"
      ],
      "metadata": {
        "id": "uyqkiB8YYuh3"
      }
    },
    {
      "cell_type": "markdown",
      "source": [
        "##### 3. Will the gained insights help creating a positive business impact? \n",
        "Are there any insights that lead to negative growth? Justify with specific reason."
      ],
      "metadata": {
        "id": "qYpmQ266Yuh3"
      }
    },
    {
      "cell_type": "markdown",
      "source": [
        "There is no relation between cancellation and waiting time it means these will not effact in hotels."
      ],
      "metadata": {
        "id": "_WtzZ_hCYuh4"
      }
    },
    {
      "cell_type": "markdown",
      "source": [
        "#### Chart - 6"
      ],
      "metadata": {
        "id": "OH-pJp9IphqM"
      }
    },
    {
      "cell_type": "code",
      "source": [
        "# Chart - 6 visualization code\n",
        "\n",
        "# understand average stay of different type of customer\n",
        "Avg_stay_df.plot(kind='bar')\n",
        "plt.xlabel(\"Customer Type\")\n",
        "plt.ylabel(\"Avg_stay_in_day\")"
      ],
      "metadata": {
        "id": "kuRf4wtuphqN"
      },
      "execution_count": null,
      "outputs": []
    },
    {
      "cell_type": "markdown",
      "source": [
        "##### 1. Why did you pick the specific chart?"
      ],
      "metadata": {
        "id": "bbFf2-_FphqN"
      }
    },
    {
      "cell_type": "markdown",
      "source": [
        "**it is Univariate analysis, where we compare categorical values (Customer Type) in one columns with variable in another column so we have choosed bar graph.**"
      ],
      "metadata": {
        "id": "loh7H2nzphqN"
      }
    },
    {
      "cell_type": "markdown",
      "source": [
        "##### 2. What is/are the insight(s) found from the chart?"
      ],
      "metadata": {
        "id": "_ouA3fa0phqN"
      }
    },
    {
      "cell_type": "markdown",
      "source": [
        "**Here we found that Avg Stay time for contract type customer have more stay i.e 5 days  in Hotel,  and other three type of customer stay is three days only**"
      ],
      "metadata": {
        "id": "VECbqPI7phqN"
      }
    },
    {
      "cell_type": "markdown",
      "source": [
        "##### 3. Will the gained insights help creating a positive business impact? \n",
        "Are there any insights that lead to negative growth? Justify with specific reason."
      ],
      "metadata": {
        "id": "Seke61FWphqN"
      }
    },
    {
      "cell_type": "markdown",
      "source": [
        "**We understood that mean stay time for maximum customer is 3 days , Hotels can offer atractive offers in off days for longer stay which may helps to increase number of customer as well as maximum ocupancy of rooms even in off days**"
      ],
      "metadata": {
        "id": "DW4_bGpfphqN"
      }
    },
    {
      "cell_type": "markdown",
      "source": [
        "#### Chart - 7\n"
      ],
      "metadata": {
        "id": "PIIx-8_IphqN"
      }
    },
    {
      "cell_type": "markdown",
      "source": [],
      "metadata": {
        "id": "q8iCq-U7F0mA"
      }
    },
    {
      "cell_type": "code",
      "source": [
        "\n",
        "# Number of Special request in each hotel\n",
        "Special_request.plot(kind='bar')\n",
        "plt.xlabel(\"hotel\")\n",
        "plt.ylabel(\"total_of_special_requests\")"
      ],
      "metadata": {
        "id": "lqAIGUfyphqO"
      },
      "execution_count": null,
      "outputs": []
    },
    {
      "cell_type": "code",
      "source": [
        "# Percentage of Special for diffrent customer type\n",
        "Special_request.reset_index()\n",
        "Special_request_T.groupby(['customer_type']).sum().plot(kind='pie', y='points', autopct='%1.0f%%',\n",
        "                                colors = ['red', 'yellow','pink','green',],\n",
        "                                title='Special request from diferent type of customer')"
      ],
      "metadata": {
        "id": "ZaGfh9WY3tMi"
      },
      "execution_count": null,
      "outputs": []
    },
    {
      "cell_type": "markdown",
      "source": [
        "##### 1. Why did you pick the specific chart?"
      ],
      "metadata": {
        "id": "t27r6nlMphqO"
      }
    },
    {
      "cell_type": "markdown",
      "source": [],
      "metadata": {
        "id": "iv6ro40sphqO"
      }
    },
    {
      "cell_type": "markdown",
      "source": [
        "##### 2. What is/are the insight(s) found from the chart?"
      ],
      "metadata": {
        "id": "r2jJGEOYphqO"
      }
    },
    {
      "cell_type": "markdown",
      "source": [
        "*   Special request are more in city hotel\n",
        "*   Travel agencies make more spcial request\n",
        "*    Trancient customer makes more special request"
      ],
      "metadata": {
        "id": "Po6ZPi4hphqO"
      }
    },
    {
      "cell_type": "markdown",
      "source": [
        "##### 3. Will the gained insights help creating a positive business impact? \n",
        "Are there any insights that lead to negative growth? Justify with specific reason."
      ],
      "metadata": {
        "id": "b0JNsNcRphqO"
      }
    },
    {
      "cell_type": "markdown",
      "source": [
        "Hotels should consider the total number of special requests from guests to analyse which type of service they want which will help  hotels attract more customer"
      ],
      "metadata": {
        "id": "xvSq8iUTphqO"
      }
    },
    {
      "cell_type": "markdown",
      "source": [
        "#### Chart - 8"
      ],
      "metadata": {
        "id": "BZR9WyysphqO"
      }
    },
    {
      "cell_type": "code",
      "source": [
        "# Chart - 8 visualization code\n",
        "# To identify which room type is in most demand and which room type generate the highest adr.\n",
        "fig, axes = plt.subplots(1, 2, figsize = (20, 9))\n",
        "room = df.groupby('assigned_room_type')\n",
        "df['Num_of_bookings'] = room.size()\n",
        "sns.countplot(ax = axes[0], x = df['assigned_room_type'])\n",
        "sns.boxplot(ax = axes[1], x = df['assigned_room_type'], y = df['adr'])\n",
        "plt.show()"
      ],
      "metadata": {
        "id": "TdPTWpAVphqO"
      },
      "execution_count": null,
      "outputs": []
    },
    {
      "cell_type": "markdown",
      "source": [
        "##### 1. Why did you pick the specific chart?"
      ],
      "metadata": {
        "id": "jj7wYXLtphqO"
      }
    },
    {
      "cell_type": "markdown",
      "source": [
        "**As we are performing Multivariate Analysis to identify which room type is in most demand and which room type generate the highest adr, we have choosed bar graph and boxplot to understand better**"
      ],
      "metadata": {
        "id": "Ob8u6rCTphqO"
      }
    },
    {
      "cell_type": "markdown",
      "source": [
        "##### 2. What is/are the insight(s) found from the chart?"
      ],
      "metadata": {
        "id": "eZrbJ2SmphqO"
      }
    },
    {
      "cell_type": "markdown",
      "source": [
        "**From the above graphs, we can identify that roomtype A is the most demanded rooms by the customer while booking, whereas room types H,G,C are generating more adr respectively**"
      ],
      "metadata": {
        "id": "mZtgC_hjphqO"
      }
    },
    {
      "cell_type": "markdown",
      "source": [
        "##### 3. Will the gained insights help creating a positive business impact? \n",
        "Are there any insights that lead to negative growth? Justify with specific reason."
      ],
      "metadata": {
        "id": "rFu4xreNphqO"
      }
    },
    {
      "cell_type": "markdown",
      "source": [
        "**Hotel management should try to increase room types A, to ensure no customer is missed because of unavialability of specific type of rooms. As room type  H generating more revenue can give some addon facility to for H type room in order atracts more customer for this specific room type.**"
      ],
      "metadata": {
        "id": "ey_0qi68phqO"
      }
    },
    {
      "cell_type": "markdown",
      "source": [
        "#### Chart - 9"
      ],
      "metadata": {
        "id": "YJ55k-q6phqO"
      }
    },
    {
      "cell_type": "code",
      "source": [
        "# Chart - 9 visualization code\n",
        "# Distrubution chanel wise study\n",
        "plt.rcParams['figure.figsize'] = 6,6\n",
        "labels = Distrubution_chanel_df['distribution_channel'].value_counts().index.tolist()\n",
        "sizes = Distrubution_chanel_df['precentage'].tolist()\n",
        "explode = (0, 0,0.7,0.3,0.8)\n",
        "colors = ['#66b3ff', '#ff9999']\n",
        "plt.pie(sizes, explode=explode,labels=labels, colors=colors, autopct='%1.1f%%',startangle=90, textprops={'fontsize': 14})"
      ],
      "metadata": {
        "id": "B2aS4O1ophqO"
      },
      "execution_count": null,
      "outputs": []
    },
    {
      "cell_type": "code",
      "source": [
        "plt.title(\"distribution_chennal_wise_booking\")\n",
        "ax = sns.countplot(x = \"market_segment\", data = df)\n",
        "plt.xticks(rotation = 90)\n",
        "plt.show()"
      ],
      "metadata": {
        "id": "-hJz5_2WiULJ"
      },
      "execution_count": null,
      "outputs": []
    },
    {
      "cell_type": "markdown",
      "source": [
        "##### 1. Why did you pick the specific chart?"
      ],
      "metadata": {
        "id": "gCFgpxoyphqP"
      }
    },
    {
      "cell_type": "markdown",
      "source": [
        "it is Univariate analysis, where we compare categorical values in one columns with variable in another column so we have choosed bar graph\n",
        "\n"
      ],
      "metadata": {
        "id": "TVxDimi2phqP"
      }
    },
    {
      "cell_type": "markdown",
      "source": [
        "##### 2. What is/are the insight(s) found from the chart?"
      ],
      "metadata": {
        "id": "OVtJsKN_phqQ"
      }
    },
    {
      "cell_type": "markdown",
      "source": [
        "From above graph we understood that more number of booking are made by Travel agencies which is almost 75% where direct booking is 16% Also Travel agencies have more waiting time\n"
      ],
      "metadata": {
        "id": "ngGi97qjphqQ"
      }
    },
    {
      "cell_type": "markdown",
      "source": [
        "##### 3. Will the gained insights help creating a positive business impact? \n",
        "Are there any insights that lead to negative growth? Justify with specific reason."
      ],
      "metadata": {
        "id": "lssrdh5qphqQ"
      }
    },
    {
      "cell_type": "markdown",
      "source": [
        "\n",
        "\n",
        "\n",
        "The hotel management can offer discounts, complimentary services and offers on direct bookings as the hotel doesn’t pay commissions to third parties and maintains a direct relationship with the customer when a customer books the hotel directly\n",
        "\n",
        "\n"
      ],
      "metadata": {
        "id": "tBpY5ekJphqQ"
      }
    },
    {
      "cell_type": "markdown",
      "source": [
        "#### Chart - 10"
      ],
      "metadata": {
        "id": "U2RJ9gkRphqQ"
      }
    },
    {
      "cell_type": "code",
      "source": [
        "# Chart - 10 visualization code\n",
        "# Correlation Heatmap visualization code\n",
        "dfC=df[['hotel','lead_time', 'meal',\n",
        "       'country', 'market_segment', 'distribution_channel',\n",
        "       'is_repeated_guest', 'previous_cancellations',\n",
        "       'previous_bookings_not_canceled', 'reserved_room_type',\n",
        "       'assigned_room_type', 'booking_changes', 'deposit_type', 'agent',\n",
        "       'company', 'days_in_waiting_list', 'customer_type', 'adr',\n",
        "       'required_car_parking_spaces',]]"
      ],
      "metadata": {
        "id": "GM7a4YP4phqQ"
      },
      "execution_count": null,
      "outputs": []
    },
    {
      "cell_type": "code",
      "source": [
        "corrmat = dfC.corr()\n",
        "f, ax = plt.subplots(figsize=(12, 7))\n",
        "sns.heatmap(corrmat,annot = True,fmt='.2f', annot_kws={'size': 8},  vmax=.8, square=True);"
      ],
      "metadata": {
        "id": "Xjn1epiSJI2Z"
      },
      "execution_count": null,
      "outputs": []
    },
    {
      "cell_type": "markdown",
      "source": [
        "##### 1. Why did you pick the specific chart?"
      ],
      "metadata": {
        "id": "1M8mcRywphqQ"
      }
    },
    {
      "cell_type": "markdown",
      "source": [
        "Answer Here."
      ],
      "metadata": {
        "id": "8agQvks0phqQ"
      }
    },
    {
      "cell_type": "markdown",
      "source": [
        "##### 2. What is/are the insight(s) found from the chart?"
      ],
      "metadata": {
        "id": "tgIPom80phqQ"
      }
    },
    {
      "cell_type": "markdown",
      "source": [
        "Answer Here"
      ],
      "metadata": {
        "id": "Qp13pnNzphqQ"
      }
    },
    {
      "cell_type": "markdown",
      "source": [
        "##### 3. Will the gained insights help creating a positive business impact? \n",
        "Are there any insights that lead to negative growth? Justify with specific reason."
      ],
      "metadata": {
        "id": "JMzcOPDDphqR"
      }
    },
    {
      "cell_type": "markdown",
      "source": [],
      "metadata": {
        "id": "R7Qs0_u2D8HZ"
      }
    },
    {
      "cell_type": "markdown",
      "source": [
        "Answer Here"
      ],
      "metadata": {
        "id": "R4Ka1PC2phqR"
      }
    },
    {
      "cell_type": "markdown",
      "source": [
        "#### Chart - 11"
      ],
      "metadata": {
        "id": "uRO5hFGDi6U-"
      }
    },
    {
      "cell_type": "code",
      "source": [
        "\n",
        "# Pair Plot visualization code\n",
        "# Length of stay vs adr\n",
        "plt.figure(figsize = (18,9))\n",
        "sns.scatterplot(y = 'adr', x = 'Total_stay', data = not_canceled_df)\n",
        "plt.show()"
      ],
      "metadata": {
        "id": "IMH0nen4i4rc"
      },
      "execution_count": null,
      "outputs": []
    },
    {
      "cell_type": "code",
      "source": [
        "# We will drop the value which is exceeding ADR 5000 & plot the scatterplot to remove outliers\n",
        "df.drop(df[df['adr'] > 5000].index, inplace = True)\n",
        "plt.figure(figsize = (15,7))\n",
        "sns.scatterplot(y = 'adr', x = 'Total_stay', data = not_canceled_df)\n",
        "plt.show()"
      ],
      "metadata": {
        "id": "HroiHU6RjDZ2"
      },
      "execution_count": null,
      "outputs": []
    },
    {
      "cell_type": "markdown",
      "source": [
        "1. Why did you pick the specific chart?\n",
        "\n"
      ],
      "metadata": {
        "id": "EZ7Duy8ejMYi"
      }
    },
    {
      "cell_type": "markdown",
      "source": [
        "**We have two co_related variable i.e adr and Total stay to study the reation choosed scater plot**\n"
      ],
      "metadata": {
        "id": "jdrEN0DdjO5o"
      }
    },
    {
      "cell_type": "markdown",
      "source": [
        "2. What is/are the insight(s) found from the chart?\n"
      ],
      "metadata": {
        "id": "l1EoUQwWjZNv"
      }
    },
    {
      "cell_type": "markdown",
      "source": [
        "**From the scatter plot, it is clear that length of total_stay increases, adr decreases. Customers who stay less, pays more .Hotels can offer the better deal for customers one who stay for long period**"
      ],
      "metadata": {
        "id": "PwgOa-DSjcgl"
      }
    },
    {
      "cell_type": "markdown",
      "source": [
        "## **5. Solution to Business Objective**"
      ],
      "metadata": {
        "id": "JcMwzZxoAimU"
      }
    },
    {
      "cell_type": "markdown",
      "source": [
        "#### What do you suggest the client to achieve Business Objective ? \n",
        "Explain Briefly."
      ],
      "metadata": {
        "id": "8G2x9gOozGDZ"
      }
    },
    {
      "cell_type": "markdown",
      "source": [
        "We suggest the client to achieve Business Objective as follows:-\n",
        "\n",
        "1. **Selection of hotel either choose city hotel or resort hotel**\n",
        "- After analyes all the data of city hotel and resort hotel I preferred my clint to start city hotel because city hotel have more customer, more revenue.\n",
        "\n",
        "2. **Selection of Meal**\n",
        "- As Most customers prefer Bread & Breakfast (BB) meal , Hotels can give some attractive deal on upon choosing this BB type meal which will help to attract more customers.\n",
        "\n",
        "3. **High Time**\n",
        "- August is the busiest month followed by july interms of number of visitors in this case hotel owner can make his team ready to give optimum service to customer and can also encash this high demand of hotel rooms to make more profit Hotel owners can give exlusive offers at low demand time to atract more number of customers to ensure his business to run steadily.\n",
        "\n",
        "4. **Management of Hotel**\n",
        "- Most visiotors are from Portugal and other European\n",
        "contries so its better to hotel managment to enusre that facilities according to their requirment also can do good marketing at that contries to enhance business.\n",
        "\n",
        "5. **RoomType**\n",
        "- After analyzed the data we found that Roomtype A (which is single room for single person and Couples) is the most demanded rooms by the customer while booking, whereas room types H,G,C are generating more adr respectively Hotel management sholud try to increase room types A, to ensure no customer is missed because of unavialability of specific type of rooms. as room type  H generating more revenue can give some addon facility to for H type room in order atracts more customer for this specific room type.\n",
        "\n",
        "6. **Distribution Channel** \n",
        "\n",
        "- We saw more number of bookings are done by using distrubution chanel TA/TO where Hotel has to share its revenue in terms of comisssion the hotel management can offer discounts, complimentary services and offers on direct bookings as the hotel doesn’t pay commissions to third parties and maintains a direct relationship with the customer when a customer books the hotel directly.\n",
        "\n",
        "\n",
        "7. **Stay**\n",
        "\n",
        "- Most preferred stay in hotels is 3 days, hotel management should introduce loyalty service, offers, tourism package in order to increase the stay of customers and to generate more revenue.\n",
        "\n"
      ],
      "metadata": {
        "id": "pASKb0qOza21"
      }
    },
    {
      "cell_type": "markdown",
      "source": [
        "# **Conclusion**"
      ],
      "metadata": {
        "id": "gCX9965dhzqZ"
      }
    },
    {
      "cell_type": "markdown",
      "source": [
        "* August and July are the busiest month in terms of hotel busniness so we can anticipate high rates of hotel rooms, where Junary is slack season we can expect lower rates for hotel rooms\n",
        "*  Most of the bookings are for City Hotel compared to Resort Hotel .\n",
        "* Most customers prefer Bread & Breakfast (BB) meal\n",
        "* Most preferred distribution channel by customers is Travel Agent / Tour Oprator (TA/TO) to make hotel booking.\n",
        "* Most of the customers are from Portugal.\n",
        "* Most preferred stay in hotels is 3 days\n",
        "* cancelation and confirmation frequency lies between waiting time range 0-150 days\n",
        "so we can conclude that cancellation has no relation with waiting time\n"
      ],
      "metadata": {
        "id": "Fjb1IsQkh3yE"
      }
    },
    {
      "cell_type": "markdown",
      "source": [
        "### ***Hurrah! You have successfully completed your EDA Capstone Project !!!***"
      ],
      "metadata": {
        "id": "gIfDvo9L0UH2"
      }
    }
  ]
}